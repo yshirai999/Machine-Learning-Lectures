{
 "cells": [
  {
   "cell_type": "markdown",
   "metadata": {},
   "source": [
    "<h1>\n",
    "<center>CFRM 421/521, Spring 2023</center>\n",
    "</h1>\n",
    "\n",
    "<h1>\n",
    "<center>Yoshihiro Shirai</center>\n",
    "</h1>\n",
    "\n",
    "<h1>\n",
    "<center>Homework 4</center>\n",
    "</h1>\n",
    "\n",
    "* **Due: Wednesday, May 29, 2024, 11:59 PM**\n",
    "\n",
    "\n",
    "* Total marks: 43\n",
    "\n",
    "\n",
    "* Late submissions are allowed, but a 20% penalty per day applies. Your last submission is considered for calculating the penalty.\n",
    "\n",
    "\n",
    "*  Use this Jupyter notebook as a template for your solutions. **Your solution must be submitted as both one Jupyter notebook and one PDF file on Gradescope.** There will be two modules on Gradescope, one for each file type. The notebook must be already run, that is, make sure that you have run all the code, save the notebook, and then when you reopen the notebook, checked that all output appears as expected. You are allowed to use code from the textbook, textbook website, or lecture notes."
   ]
  },
  {
   "cell_type": "markdown",
   "metadata": {},
   "source": [
    "# 1. A regression MLP [12 marks]\n",
    "\n",
    "Consider the original source of the California housing data (used in Homework 2) in Scikit-Learn.  The data is obtained and split using the code below, where we split off 20% as the test set, and then split off 20% of the training set as a validation set, and keep the remaining 80% of the training set as the actual training set. The following code creates the training set `X_train`, `y_train`, the validation set `X_valid`, `y_valid` and the test set `X_test`, `y_test`."
   ]
  },
  {
   "cell_type": "code",
   "execution_count": 1,
   "metadata": {},
   "outputs": [],
   "source": [
    "import numpy as np\n",
    "import pandas as pd\n",
    "import tensorflow as tf\n",
    "from sklearn.datasets import fetch_california_housing\n",
    "from sklearn.model_selection import train_test_split\n",
    "\n",
    "housing = fetch_california_housing()\n",
    "X = housing.data\n",
    "y = housing.target\n",
    "\n",
    "X_train_tmp, X_test, y_train_tmp, y_test = train_test_split(X, y, test_size=0.2, random_state=42)\n",
    "X_train, X_valid, y_train, y_valid = train_test_split(X_train_tmp, y_train_tmp, test_size=0.2, random_state=42)"
   ]
  },
  {
   "cell_type": "markdown",
   "metadata": {},
   "source": [
    "## (a) [4 marks]\n",
    "\n",
    "Use `tensorflow.keras` to train a regression MLP with a normalization layer as the first layer (`tf.keras.layers.Normalization(input_shape=X_train.shape[1:])`), and one hidden layer of 50 ReLU neurons. For the output layer, try both a ReLU activation function and no activation function (which is equivalent to the identity function). Explain which choice is better. Use the appropriate weight initialization. Use the Nadam optimizer. Train for 30 epochs, and report the mean squared error on the validation set. In the `.compile()` method, use `loss=\"mse\"`."
   ]
  },
  {
   "cell_type": "markdown",
   "metadata": {},
   "source": [
    "**Solution**"
   ]
  },
  {
   "cell_type": "code",
   "execution_count": 2,
   "metadata": {},
   "outputs": [
    {
     "name": "stdout",
     "output_type": "stream",
     "text": [
      "np version: 1.22.0\n",
      "tf version: 2.12.0\n"
     ]
    }
   ],
   "source": [
    "import matplotlib as mpl\n",
    "import matplotlib.pyplot as plt\n",
    "import tensorflow as tf\n",
    "print(\"np version:\", np.__version__)\n",
    "print(\"tf version:\", tf.__version__)"
   ]
  },
  {
   "cell_type": "code",
   "execution_count": 3,
   "metadata": {},
   "outputs": [],
   "source": [
    "def reset_session(seed=42):\n",
    "    tf.random.set_seed(seed)\n",
    "    np.random.seed(seed)\n",
    "    tf.keras.backend.clear_session()"
   ]
  },
  {
   "cell_type": "markdown",
   "metadata": {},
   "source": [
    "Train the regression MLP with the output layer having a ReLU activation function. The correct initialization is He."
   ]
  },
  {
   "cell_type": "code",
   "execution_count": 4,
   "metadata": {},
   "outputs": [
    {
     "name": "stdout",
     "output_type": "stream",
     "text": [
      "Epoch 1/30\n",
      "413/413 [==============================] - 1s 2ms/step - loss: 5.8442 - val_loss: 5.7567\n",
      "Epoch 2/30\n",
      "413/413 [==============================] - 1s 1ms/step - loss: 5.6001 - val_loss: 5.7567\n",
      "Epoch 3/30\n",
      "413/413 [==============================] - 1s 2ms/step - loss: 5.5971 - val_loss: 5.7567\n",
      "Epoch 4/30\n",
      "413/413 [==============================] - 1s 2ms/step - loss: 5.5971 - val_loss: 5.7567\n",
      "Epoch 5/30\n",
      "413/413 [==============================] - 0s 1ms/step - loss: 5.5971 - val_loss: 5.7567\n",
      "Epoch 6/30\n",
      "413/413 [==============================] - 0s 1ms/step - loss: 5.5971 - val_loss: 5.7567\n",
      "Epoch 7/30\n",
      "413/413 [==============================] - 1s 1ms/step - loss: 5.5975 - val_loss: 5.7567\n",
      "Epoch 8/30\n",
      "413/413 [==============================] - 1s 1ms/step - loss: 5.6032 - val_loss: 5.7567\n",
      "Epoch 9/30\n",
      "413/413 [==============================] - 1s 1ms/step - loss: 5.5980 - val_loss: 5.7567\n",
      "Epoch 10/30\n",
      "413/413 [==============================] - 0s 1ms/step - loss: 5.5980 - val_loss: 5.7567\n",
      "Epoch 11/30\n",
      "413/413 [==============================] - 0s 973us/step - loss: 5.5980 - val_loss: 5.7567\n",
      "Epoch 12/30\n",
      "413/413 [==============================] - 0s 1ms/step - loss: 5.5980 - val_loss: 5.7567\n",
      "Epoch 13/30\n",
      "413/413 [==============================] - 0s 921us/step - loss: 5.5980 - val_loss: 5.7567\n",
      "Epoch 14/30\n",
      "413/413 [==============================] - 0s 1ms/step - loss: 5.5980 - val_loss: 5.7567\n",
      "Epoch 15/30\n",
      "413/413 [==============================] - 0s 1ms/step - loss: 5.5980 - val_loss: 5.7567\n",
      "Epoch 16/30\n",
      "413/413 [==============================] - 0s 1ms/step - loss: 5.5980 - val_loss: 5.7567\n",
      "Epoch 17/30\n",
      "413/413 [==============================] - 0s 975us/step - loss: 5.5980 - val_loss: 5.7567\n",
      "Epoch 18/30\n",
      "413/413 [==============================] - 0s 1ms/step - loss: 5.5980 - val_loss: 5.7567\n",
      "Epoch 19/30\n",
      "413/413 [==============================] - 1s 1ms/step - loss: 5.5980 - val_loss: 5.7567\n",
      "Epoch 20/30\n",
      "413/413 [==============================] - 0s 1ms/step - loss: 5.5980 - val_loss: 5.7567\n",
      "Epoch 21/30\n",
      "413/413 [==============================] - 1s 1ms/step - loss: 5.5980 - val_loss: 5.7567\n",
      "Epoch 22/30\n",
      "413/413 [==============================] - 0s 1ms/step - loss: 5.5980 - val_loss: 5.7567\n",
      "Epoch 23/30\n",
      "413/413 [==============================] - 0s 1ms/step - loss: 5.5980 - val_loss: 5.7567\n",
      "Epoch 24/30\n",
      "413/413 [==============================] - 0s 1ms/step - loss: 5.5980 - val_loss: 5.7567\n",
      "Epoch 25/30\n",
      "413/413 [==============================] - 0s 1ms/step - loss: 5.5980 - val_loss: 5.7567\n",
      "Epoch 26/30\n",
      "413/413 [==============================] - 1s 1ms/step - loss: 5.5980 - val_loss: 5.7567\n",
      "Epoch 27/30\n",
      "413/413 [==============================] - 1s 1ms/step - loss: 5.5980 - val_loss: 5.7567\n",
      "Epoch 28/30\n",
      "413/413 [==============================] - 1s 2ms/step - loss: 5.5980 - val_loss: 5.7567\n",
      "Epoch 29/30\n",
      "413/413 [==============================] - 1s 1ms/step - loss: 5.5980 - val_loss: 5.7567\n",
      "Epoch 30/30\n",
      "413/413 [==============================] - 1s 1ms/step - loss: 5.5980 - val_loss: 5.7567\n"
     ]
    }
   ],
   "source": [
    "reset_session()\n",
    "\n",
    "model = tf.keras.models.Sequential([\n",
    "    tf.keras.layers.Normalization(input_shape=X_train.shape[1:]),\n",
    "    tf.keras.layers.Dense(50, activation=\"relu\", kernel_initializer=\"he_normal\"),\n",
    "    tf.keras.layers.Dense(1, activation=\"relu\", kernel_initializer=\"he_normal\")\n",
    "])\n",
    "model.compile(loss=\"mse\", optimizer=\"nadam\")\n",
    "run = model.fit(X_train, y_train, epochs=30,\n",
    "                validation_data=(X_valid, y_valid),verbose=1)"
   ]
  },
  {
   "cell_type": "markdown",
   "metadata": {},
   "source": [
    "The loss (MSE) on the validation set is 5.75.\n",
    "\n",
    "Next, train the regression MLP with the output layer having the identity activation function. The correct initialization for the idenity activation is Glorot, which is already the default."
   ]
  },
  {
   "cell_type": "code",
   "execution_count": 5,
   "metadata": {},
   "outputs": [
    {
     "name": "stdout",
     "output_type": "stream",
     "text": [
      "Epoch 1/30\n",
      "413/413 [==============================] - 1s 1ms/step - loss: 170.7959 - val_loss: 102.2100\n",
      "Epoch 2/30\n",
      "413/413 [==============================] - 0s 920us/step - loss: 10.8704 - val_loss: 35.6113\n",
      "Epoch 3/30\n",
      "413/413 [==============================] - 0s 1ms/step - loss: 5.4171 - val_loss: 16.4515\n",
      "Epoch 4/30\n",
      "413/413 [==============================] - 0s 1ms/step - loss: 2.5936 - val_loss: 8.0048\n",
      "Epoch 5/30\n",
      "413/413 [==============================] - 1s 1ms/step - loss: 1.7474 - val_loss: 3.9989\n",
      "Epoch 6/30\n",
      "413/413 [==============================] - 0s 890us/step - loss: 1.5347 - val_loss: 2.2842\n",
      "Epoch 7/30\n",
      "413/413 [==============================] - 0s 950us/step - loss: 1.4327 - val_loss: 1.7310\n",
      "Epoch 8/30\n",
      "413/413 [==============================] - 0s 998us/step - loss: 3.7016 - val_loss: 2.1377\n",
      "Epoch 9/30\n",
      "413/413 [==============================] - 0s 1ms/step - loss: 5.2159 - val_loss: 4.0797\n",
      "Epoch 10/30\n",
      "413/413 [==============================] - 0s 978us/step - loss: 1.6483 - val_loss: 1.6356\n",
      "Epoch 11/30\n",
      "413/413 [==============================] - 0s 966us/step - loss: 7.5747 - val_loss: 2.3931\n",
      "Epoch 12/30\n",
      "413/413 [==============================] - 0s 1ms/step - loss: 4.1594 - val_loss: 5.5048\n",
      "Epoch 13/30\n",
      "413/413 [==============================] - 1s 1ms/step - loss: 4.2849 - val_loss: 2.4843\n",
      "Epoch 14/30\n",
      "413/413 [==============================] - 0s 1ms/step - loss: 1.8366 - val_loss: 1.1570\n",
      "Epoch 15/30\n",
      "413/413 [==============================] - 0s 1ms/step - loss: 13.3043 - val_loss: 1.7945\n",
      "Epoch 16/30\n",
      "413/413 [==============================] - 0s 1ms/step - loss: 0.7961 - val_loss: 1.1996\n",
      "Epoch 17/30\n",
      "413/413 [==============================] - 0s 1ms/step - loss: 1.3167 - val_loss: 1.4342\n",
      "Epoch 18/30\n",
      "413/413 [==============================] - 0s 1ms/step - loss: 3.2516 - val_loss: 1.8102\n",
      "Epoch 19/30\n",
      "413/413 [==============================] - 1s 1ms/step - loss: 3.0809 - val_loss: 3.4988\n",
      "Epoch 20/30\n",
      "413/413 [==============================] - 1s 1ms/step - loss: 62.0403 - val_loss: 4.1164\n",
      "Epoch 21/30\n",
      "413/413 [==============================] - 1s 1ms/step - loss: 0.7792 - val_loss: 2.1486\n",
      "Epoch 22/30\n",
      "413/413 [==============================] - 1s 1ms/step - loss: 0.6931 - val_loss: 1.4081\n",
      "Epoch 23/30\n",
      "413/413 [==============================] - 0s 1ms/step - loss: 0.7043 - val_loss: 2.2116\n",
      "Epoch 24/30\n",
      "413/413 [==============================] - 0s 1ms/step - loss: 0.6984 - val_loss: 0.8979\n",
      "Epoch 25/30\n",
      "413/413 [==============================] - 1s 1ms/step - loss: 1.5947 - val_loss: 0.9013\n",
      "Epoch 26/30\n",
      "413/413 [==============================] - 1s 1ms/step - loss: 5.9535 - val_loss: 2.8170\n",
      "Epoch 27/30\n",
      "413/413 [==============================] - 1s 1ms/step - loss: 2.1950 - val_loss: 4.1626\n",
      "Epoch 28/30\n",
      "413/413 [==============================] - 0s 1ms/step - loss: 2.6739 - val_loss: 1.4460\n",
      "Epoch 29/30\n",
      "413/413 [==============================] - 0s 1ms/step - loss: 5.1226 - val_loss: 1.4242\n",
      "Epoch 30/30\n",
      "413/413 [==============================] - 1s 1ms/step - loss: 3.1067 - val_loss: 1.2702\n"
     ]
    }
   ],
   "source": [
    "reset_session()\n",
    "\n",
    "model = tf.keras.models.Sequential([\n",
    "    tf.keras.layers.Normalization(input_shape=X_train.shape[1:]),\n",
    "    tf.keras.layers.Dense(50, activation=\"relu\", kernel_initializer=\"he_normal\"),\n",
    "    tf.keras.layers.Dense(1, activation=None)\n",
    "])\n",
    "model.compile(loss=\"mse\", optimizer=\"nadam\")\n",
    "run = model.fit(X_train, y_train, epochs=30,\n",
    "                validation_data=(X_valid, y_valid))"
   ]
  },
  {
   "cell_type": "markdown",
   "metadata": {},
   "source": [
    "The loss (MSE) on the validation set is now 1.27, which is lower. Thus, using ReLU as the output layer activation function is worse than using the identity. On one hand, using ReLU is the logical choice as the output being a house price should be positive, on the other hand, since the house prices are largely positive, the output will almost certainly be in the positive part anyway, which is why it makes  no difference in MSE either way.\n",
    "\n",
    "You may get a very different answer depending on randomness."
   ]
  },
  {
   "cell_type": "markdown",
   "metadata": {},
   "source": [
    "## (b) [6 marks]\n",
    "\n",
    "Read the section \"Fine-Tuning Neural Network Hyperparameters\" in the textbook and the corresponding section in the [Jupyter notebook](https://github.com/ageron/handson-ml3/blob/main/10_neural_nets_with_keras.ipynb) on the textbook website using Keras Tuner. You will need to install the package `keras_tuner` if you don't already have it.\n",
    "\n",
    "Then use Keras Tuner to do a randomized search to search for the best hyperparameters. Do the randomized search over the first 5000 observations of the training set. Use 20 iterations, 20 epochs per iteration. Use the same network architecture as (a) except where otherwise specified below. Use no activation function for the output layer. Use a seed of 42, and the objective is clearly to minimize validation loss. The hyperparameters to search over are:\n",
    "\n",
    "* Hidden layers: 1 to 5.\n",
    "* Number of neurons per layer: 1 to 100.\n",
    "* Learning rate: 1e-4 to 1e-2 using log sampling.\n",
    "* $\\ell_2$ regularizers with `l2` value: 1e-4 to 100 using log sampling.\n",
    "* Optimizer: `tf.keras.optimizers.SGD(learning_rate=learning_rate,clipnorm=1.0)` and `tf.keras.optimizers.Nadam(learning_rate=learning_rate)`.\n",
    "\n",
    "Print the best hyperparameter. (You can ignore any warning message you may get)."
   ]
  },
  {
   "cell_type": "markdown",
   "metadata": {},
   "source": [
    "**Solution**"
   ]
  },
  {
   "cell_type": "markdown",
   "metadata": {},
   "source": [
    "Set up the tuner."
   ]
  },
  {
   "cell_type": "code",
   "execution_count": 8,
   "metadata": {},
   "outputs": [],
   "source": [
    "import keras_tuner as kt"
   ]
  },
  {
   "cell_type": "code",
   "execution_count": 9,
   "metadata": {},
   "outputs": [],
   "source": [
    "reset_session()\n",
    "\n",
    "def build_model(hp):\n",
    "    n_hidden = hp.Int(\"n_hidden\", min_value=1, max_value=5)\n",
    "    n_neurons = hp.Int(\"n_neurons\", min_value=1, max_value=100)\n",
    "    learning_rate = hp.Float(\"learning_rate\", min_value=1e-4, max_value=1e-2,\n",
    "                             sampling=\"log\")\n",
    "    l2 = hp.Float(\"l2\", min_value=1e-4, max_value=100,\n",
    "                             sampling=\"log\")\n",
    "    optimizer = hp.Choice(\"optimizer\", values=[\"sgd\", \"nadam\"])\n",
    "    if optimizer == \"sgd\":\n",
    "        optimizer = tf.keras.optimizers.SGD(learning_rate=learning_rate,clipnorm=1.0)\n",
    "    else:\n",
    "        optimizer = tf.keras.optimizers.Nadam(learning_rate=learning_rate)\n",
    "        \n",
    "    model = tf.keras.Sequential()\n",
    "    model.add(tf.keras.layers.Normalization(input_shape=X_train.shape[1:]))\n",
    "    for _ in range(n_hidden):\n",
    "        model.add(tf.keras.layers.Dense(n_neurons,  activation=\"relu\", kernel_initializer=\"he_normal\",\n",
    "                                        kernel_regularizer=tf.keras.regularizers.l2(l2)))\n",
    "    model.add(tf.keras.layers.Dense(1,activation=None, kernel_initializer=\"he_normal\",\n",
    "                                    kernel_regularizer=tf.keras.regularizers.l2(l2)))\n",
    "    model.compile(loss=\"mse\", optimizer=\"Nadam\")\n",
    "    return model"
   ]
  },
  {
   "cell_type": "code",
   "execution_count": 10,
   "metadata": {},
   "outputs": [
    {
     "name": "stdout",
     "output_type": "stream",
     "text": [
      "Trial 20 Complete [00h 00m 08s]\n",
      "val_loss: 113.69863891601562\n",
      "\n",
      "Best val_loss So Far: 0.6987322568893433\n",
      "Total elapsed time: 00h 02m 39s\n"
     ]
    }
   ],
   "source": [
    "random_search_tuner = kt.RandomSearch(\n",
    "    build_model, objective=\"val_loss\", max_trials=20, overwrite=True,\n",
    "    directory=\"ca_housing\", project_name=\"rand_search\", seed=42)\n",
    "random_search_tuner.search(X_train[:5000], y_train[:5000], epochs=20,\n",
    "                           validation_data=(X_valid, y_valid))"
   ]
  },
  {
   "cell_type": "markdown",
   "metadata": {},
   "source": [
    "Here is the best model."
   ]
  },
  {
   "cell_type": "code",
   "execution_count": 11,
   "metadata": {},
   "outputs": [],
   "source": [
    "import logging\n",
    "logging.getLogger(\"tensorflow\").setLevel(logging.ERROR) # Supressing save information/warnings"
   ]
  },
  {
   "cell_type": "code",
   "execution_count": 12,
   "metadata": {},
   "outputs": [],
   "source": [
    "top3_models = random_search_tuner.get_best_models(num_models=3)\n",
    "best_model = top3_models[0]"
   ]
  },
  {
   "cell_type": "markdown",
   "metadata": {},
   "source": [
    "Here are the parameters of the best model. This can be extremely different based on randomness."
   ]
  },
  {
   "cell_type": "code",
   "execution_count": 13,
   "metadata": {},
   "outputs": [
    {
     "data": {
      "text/plain": [
       "{'n_hidden': 4,\n",
       " 'n_neurons': 4,\n",
       " 'learning_rate': 0.0006562536901904111,\n",
       " 'l2': 0.004278115311707474,\n",
       " 'optimizer': 'nadam'}"
      ]
     },
     "execution_count": 13,
     "metadata": {},
     "output_type": "execute_result"
    }
   ],
   "source": [
    "random_search_tuner.get_best_hyperparameters(num_trials=1)[0].values"
   ]
  },
  {
   "cell_type": "markdown",
   "metadata": {},
   "source": [
    "Optional:"
   ]
  },
  {
   "cell_type": "code",
   "execution_count": 14,
   "metadata": {},
   "outputs": [
    {
     "name": "stdout",
     "output_type": "stream",
     "text": [
      "Model: \"sequential\"\n",
      "_________________________________________________________________\n",
      " Layer (type)                Output Shape              Param #   \n",
      "=================================================================\n",
      " normalization (Normalizatio  (None, 8)                17        \n",
      " n)                                                              \n",
      "                                                                 \n",
      " dense (Dense)               (None, 4)                 36        \n",
      "                                                                 \n",
      " dense_1 (Dense)             (None, 4)                 20        \n",
      "                                                                 \n",
      " dense_2 (Dense)             (None, 4)                 20        \n",
      "                                                                 \n",
      " dense_3 (Dense)             (None, 4)                 20        \n",
      "                                                                 \n",
      " dense_4 (Dense)             (None, 1)                 5         \n",
      "                                                                 \n",
      "=================================================================\n",
      "Total params: 118\n",
      "Trainable params: 101\n",
      "Non-trainable params: 17\n",
      "_________________________________________________________________\n"
     ]
    }
   ],
   "source": [
    "best_model.summary()"
   ]
  },
  {
   "cell_type": "markdown",
   "metadata": {},
   "source": [
    "## (c) [2 marks]\n",
    "\n",
    "For the best model in (b), train the model on the full training data for 200 epochs. Plot the learning curve. Does it look like the model is overfitting?"
   ]
  },
  {
   "cell_type": "markdown",
   "metadata": {},
   "source": [
    "**Solution**"
   ]
  },
  {
   "cell_type": "markdown",
   "metadata": {},
   "source": [
    "Fit the best model and to get the learning curve we fit the model and use .history."
   ]
  },
  {
   "cell_type": "code",
   "execution_count": 16,
   "metadata": {},
   "outputs": [
    {
     "name": "stdout",
     "output_type": "stream",
     "text": [
      "Epoch 1/200\n",
      "413/413 [==============================] - 2s 2ms/step - loss: 0.6809 - val_loss: 0.6944\n",
      "Epoch 2/200\n",
      "413/413 [==============================] - 1s 2ms/step - loss: 0.6465 - val_loss: 0.6679\n",
      "Epoch 3/200\n",
      "413/413 [==============================] - 1s 2ms/step - loss: 0.6384 - val_loss: 0.6559\n",
      "Epoch 4/200\n",
      "413/413 [==============================] - 1s 2ms/step - loss: 0.6304 - val_loss: 0.6467\n",
      "Epoch 5/200\n",
      "413/413 [==============================] - 1s 2ms/step - loss: 0.6282 - val_loss: 0.6604\n",
      "Epoch 6/200\n",
      "413/413 [==============================] - 1s 2ms/step - loss: 0.6341 - val_loss: 0.6584\n",
      "Epoch 7/200\n",
      "413/413 [==============================] - 1s 1ms/step - loss: 0.6187 - val_loss: 0.6737\n",
      "Epoch 8/200\n",
      "413/413 [==============================] - 1s 1ms/step - loss: 0.6162 - val_loss: 0.6549\n",
      "Epoch 9/200\n",
      "413/413 [==============================] - 1s 1ms/step - loss: 0.6130 - val_loss: 0.8333\n",
      "Epoch 10/200\n",
      "413/413 [==============================] - 1s 2ms/step - loss: 0.6047 - val_loss: 0.7084\n",
      "Epoch 11/200\n",
      "413/413 [==============================] - 1s 1ms/step - loss: 0.6071 - val_loss: 0.6299\n",
      "Epoch 12/200\n",
      "413/413 [==============================] - 1s 1ms/step - loss: 0.5970 - val_loss: 0.6266\n",
      "Epoch 13/200\n",
      "413/413 [==============================] - 1s 2ms/step - loss: 0.6309 - val_loss: 0.6364\n",
      "Epoch 14/200\n",
      "413/413 [==============================] - 0s 1ms/step - loss: 0.6090 - val_loss: 0.6336\n",
      "Epoch 15/200\n",
      "413/413 [==============================] - 0s 1ms/step - loss: 0.5954 - val_loss: 0.6342\n",
      "Epoch 16/200\n",
      "413/413 [==============================] - 1s 1ms/step - loss: 0.5988 - val_loss: 0.6285\n",
      "Epoch 17/200\n",
      "413/413 [==============================] - 1s 1ms/step - loss: 0.6774 - val_loss: 0.6184\n",
      "Epoch 18/200\n",
      "413/413 [==============================] - 1s 1ms/step - loss: 0.6053 - val_loss: 0.6149\n",
      "Epoch 19/200\n",
      "413/413 [==============================] - 1s 2ms/step - loss: 0.5894 - val_loss: 0.6224\n",
      "Epoch 20/200\n",
      "413/413 [==============================] - 1s 2ms/step - loss: 0.5950 - val_loss: 0.6222\n",
      "Epoch 21/200\n",
      "413/413 [==============================] - 1s 2ms/step - loss: 0.6502 - val_loss: 0.6253\n",
      "Epoch 22/200\n",
      "413/413 [==============================] - 1s 2ms/step - loss: 0.5907 - val_loss: 0.6219\n",
      "Epoch 23/200\n",
      "413/413 [==============================] - 1s 2ms/step - loss: 0.5863 - val_loss: 0.6311\n",
      "Epoch 24/200\n",
      "413/413 [==============================] - 1s 1ms/step - loss: 0.5850 - val_loss: 0.6384\n",
      "Epoch 25/200\n",
      "413/413 [==============================] - 1s 2ms/step - loss: 0.6000 - val_loss: 0.6150\n",
      "Epoch 26/200\n",
      "413/413 [==============================] - 1s 2ms/step - loss: 0.5885 - val_loss: 0.6204\n",
      "Epoch 27/200\n",
      "413/413 [==============================] - 1s 1ms/step - loss: 0.5871 - val_loss: 0.6194\n",
      "Epoch 28/200\n",
      "413/413 [==============================] - 1s 2ms/step - loss: 0.5807 - val_loss: 0.6109\n",
      "Epoch 29/200\n",
      "413/413 [==============================] - 0s 1ms/step - loss: 0.5998 - val_loss: 0.6168\n",
      "Epoch 30/200\n",
      "413/413 [==============================] - 1s 1ms/step - loss: 0.5929 - val_loss: 0.6103\n",
      "Epoch 31/200\n",
      "413/413 [==============================] - 1s 1ms/step - loss: 0.5829 - val_loss: 0.6336\n",
      "Epoch 32/200\n",
      "413/413 [==============================] - 1s 1ms/step - loss: 0.5814 - val_loss: 0.6566\n",
      "Epoch 33/200\n",
      "413/413 [==============================] - 1s 2ms/step - loss: 0.5813 - val_loss: 0.6287\n",
      "Epoch 34/200\n",
      "413/413 [==============================] - 1s 1ms/step - loss: 0.5809 - val_loss: 0.7463\n",
      "Epoch 35/200\n",
      "413/413 [==============================] - 1s 2ms/step - loss: 0.5848 - val_loss: 0.6093\n",
      "Epoch 36/200\n",
      "413/413 [==============================] - 1s 2ms/step - loss: 0.5820 - val_loss: 0.6221\n",
      "Epoch 37/200\n",
      "413/413 [==============================] - 1s 2ms/step - loss: 0.6217 - val_loss: 0.6453\n",
      "Epoch 38/200\n",
      "413/413 [==============================] - 1s 1ms/step - loss: 0.5796 - val_loss: 1.0310\n",
      "Epoch 39/200\n",
      "413/413 [==============================] - 1s 1ms/step - loss: 0.5790 - val_loss: 0.6046\n",
      "Epoch 40/200\n",
      "413/413 [==============================] - 1s 1ms/step - loss: 0.5768 - val_loss: 0.6038\n",
      "Epoch 41/200\n",
      "413/413 [==============================] - 1s 2ms/step - loss: 0.5788 - val_loss: 0.6230\n",
      "Epoch 42/200\n",
      "413/413 [==============================] - 1s 2ms/step - loss: 0.5813 - val_loss: 0.6754\n",
      "Epoch 43/200\n",
      "413/413 [==============================] - 1s 2ms/step - loss: 0.5786 - val_loss: 0.6046\n",
      "Epoch 44/200\n",
      "413/413 [==============================] - 1s 1ms/step - loss: 0.5778 - val_loss: 0.6019\n",
      "Epoch 45/200\n",
      "413/413 [==============================] - 1s 1ms/step - loss: 0.5776 - val_loss: 0.6449\n",
      "Epoch 46/200\n",
      "413/413 [==============================] - 1s 1ms/step - loss: 0.5732 - val_loss: 0.6059\n",
      "Epoch 47/200\n",
      "413/413 [==============================] - 1s 2ms/step - loss: 0.5852 - val_loss: 0.6049\n",
      "Epoch 48/200\n",
      "413/413 [==============================] - 1s 2ms/step - loss: 0.5813 - val_loss: 0.6098\n",
      "Epoch 49/200\n",
      "413/413 [==============================] - 1s 2ms/step - loss: 0.5798 - val_loss: 0.6091\n",
      "Epoch 50/200\n",
      "413/413 [==============================] - 1s 2ms/step - loss: 0.5742 - val_loss: 0.5964\n",
      "Epoch 51/200\n",
      "413/413 [==============================] - 1s 2ms/step - loss: 0.5878 - val_loss: 0.6034\n",
      "Epoch 52/200\n",
      "413/413 [==============================] - 1s 2ms/step - loss: 0.5850 - val_loss: 0.6137\n",
      "Epoch 53/200\n",
      "413/413 [==============================] - 1s 1ms/step - loss: 0.5735 - val_loss: 0.5984\n",
      "Epoch 54/200\n",
      "413/413 [==============================] - 1s 1ms/step - loss: 0.5714 - val_loss: 0.6044\n",
      "Epoch 55/200\n",
      "413/413 [==============================] - 1s 1ms/step - loss: 0.5720 - val_loss: 0.7148\n",
      "Epoch 56/200\n",
      "413/413 [==============================] - 1s 2ms/step - loss: 0.5736 - val_loss: 0.6180\n",
      "Epoch 57/200\n",
      "413/413 [==============================] - 1s 2ms/step - loss: 0.5719 - val_loss: 0.6122\n",
      "Epoch 58/200\n",
      "413/413 [==============================] - 1s 1ms/step - loss: 0.5757 - val_loss: 0.6032\n",
      "Epoch 59/200\n",
      "413/413 [==============================] - 1s 1ms/step - loss: 0.6284 - val_loss: 0.5932\n",
      "Epoch 60/200\n",
      "413/413 [==============================] - 1s 1ms/step - loss: 0.5711 - val_loss: 0.6245\n",
      "Epoch 61/200\n",
      "413/413 [==============================] - 1s 1ms/step - loss: 0.5731 - val_loss: 0.6047\n",
      "Epoch 62/200\n",
      "413/413 [==============================] - 1s 1ms/step - loss: 0.6037 - val_loss: 0.5957\n",
      "Epoch 63/200\n",
      "413/413 [==============================] - 1s 1ms/step - loss: 0.5752 - val_loss: 0.6142\n",
      "Epoch 64/200\n",
      "413/413 [==============================] - 1s 1ms/step - loss: 0.6294 - val_loss: 0.5922\n",
      "Epoch 65/200\n",
      "413/413 [==============================] - 1s 2ms/step - loss: 0.5687 - val_loss: 0.6015\n",
      "Epoch 66/200\n",
      "413/413 [==============================] - 1s 1ms/step - loss: 0.5760 - val_loss: 0.5926\n",
      "Epoch 67/200\n",
      "413/413 [==============================] - 1s 1ms/step - loss: 0.6084 - val_loss: 0.6145\n",
      "Epoch 68/200\n",
      "413/413 [==============================] - 0s 1ms/step - loss: 0.5688 - val_loss: 0.6000\n",
      "Epoch 69/200\n",
      "413/413 [==============================] - 1s 1ms/step - loss: 0.5695 - val_loss: 0.5890\n",
      "Epoch 70/200\n",
      "413/413 [==============================] - 1s 1ms/step - loss: 0.5697 - val_loss: 0.6234\n",
      "Epoch 71/200\n",
      "413/413 [==============================] - 0s 1ms/step - loss: 0.5722 - val_loss: 0.5924\n",
      "Epoch 72/200\n",
      "413/413 [==============================] - 1s 2ms/step - loss: 0.6228 - val_loss: 0.6353\n",
      "Epoch 73/200\n",
      "413/413 [==============================] - 1s 1ms/step - loss: 0.6054 - val_loss: 0.5990\n",
      "Epoch 74/200\n",
      "413/413 [==============================] - 1s 2ms/step - loss: 0.5678 - val_loss: 0.5962\n",
      "Epoch 75/200\n",
      "413/413 [==============================] - 1s 2ms/step - loss: 0.5757 - val_loss: 0.5939\n",
      "Epoch 76/200\n",
      "413/413 [==============================] - 1s 2ms/step - loss: 0.5762 - val_loss: 0.5877\n",
      "Epoch 77/200\n",
      "413/413 [==============================] - 1s 2ms/step - loss: 0.5772 - val_loss: 0.6698\n",
      "Epoch 78/200\n",
      "413/413 [==============================] - 1s 2ms/step - loss: 0.5663 - val_loss: 0.6137\n",
      "Epoch 79/200\n",
      "413/413 [==============================] - 1s 1ms/step - loss: 0.5692 - val_loss: 0.5832\n",
      "Epoch 80/200\n",
      "413/413 [==============================] - 1s 1ms/step - loss: 0.5668 - val_loss: 0.5843\n",
      "Epoch 81/200\n",
      "413/413 [==============================] - 1s 1ms/step - loss: 0.5693 - val_loss: 0.5879\n",
      "Epoch 82/200\n",
      "413/413 [==============================] - 1s 1ms/step - loss: 0.6163 - val_loss: 0.5846\n",
      "Epoch 83/200\n",
      "413/413 [==============================] - 1s 1ms/step - loss: 0.5687 - val_loss: 0.6490\n",
      "Epoch 84/200\n",
      "413/413 [==============================] - 1s 1ms/step - loss: 0.7023 - val_loss: 0.6189\n",
      "Epoch 85/200\n",
      "413/413 [==============================] - 0s 1ms/step - loss: 0.5728 - val_loss: 0.5861\n",
      "Epoch 86/200\n",
      "413/413 [==============================] - 1s 1ms/step - loss: 0.5644 - val_loss: 0.6477\n",
      "Epoch 87/200\n",
      "413/413 [==============================] - 0s 1ms/step - loss: 0.5704 - val_loss: 0.5883\n",
      "Epoch 88/200\n",
      "413/413 [==============================] - 0s 1ms/step - loss: 0.6388 - val_loss: 0.5956\n",
      "Epoch 89/200\n",
      "413/413 [==============================] - 1s 1ms/step - loss: 0.6840 - val_loss: 0.6359\n",
      "Epoch 90/200\n",
      "413/413 [==============================] - 0s 1ms/step - loss: 0.5934 - val_loss: 0.6692\n",
      "Epoch 91/200\n",
      "413/413 [==============================] - 1s 2ms/step - loss: 0.5647 - val_loss: 0.6171\n",
      "Epoch 92/200\n",
      "413/413 [==============================] - 1s 1ms/step - loss: 0.5652 - val_loss: 0.5997\n",
      "Epoch 93/200\n",
      "413/413 [==============================] - 1s 1ms/step - loss: 0.5814 - val_loss: 0.6696\n",
      "Epoch 94/200\n",
      "413/413 [==============================] - 1s 1ms/step - loss: 0.5818 - val_loss: 0.6012\n",
      "Epoch 95/200\n",
      "413/413 [==============================] - 1s 1ms/step - loss: 0.6350 - val_loss: 0.8518\n",
      "Epoch 96/200\n",
      "413/413 [==============================] - 1s 1ms/step - loss: 0.5710 - val_loss: 0.6213\n",
      "Epoch 97/200\n",
      "413/413 [==============================] - 0s 1ms/step - loss: 0.5667 - val_loss: 0.7305\n",
      "Epoch 98/200\n",
      "413/413 [==============================] - 0s 1ms/step - loss: 0.5703 - val_loss: 0.5806\n",
      "Epoch 99/200\n",
      "413/413 [==============================] - 1s 1ms/step - loss: 0.5863 - val_loss: 0.6116\n",
      "Epoch 100/200\n",
      "413/413 [==============================] - 1s 2ms/step - loss: 0.5659 - val_loss: 0.5804\n",
      "Epoch 101/200\n",
      "413/413 [==============================] - 1s 2ms/step - loss: 0.5619 - val_loss: 0.5923\n",
      "Epoch 102/200\n",
      "413/413 [==============================] - 1s 1ms/step - loss: 0.5618 - val_loss: 0.5879\n",
      "Epoch 103/200\n",
      "413/413 [==============================] - 1s 1ms/step - loss: 0.5649 - val_loss: 0.6036\n",
      "Epoch 104/200\n",
      "413/413 [==============================] - 1s 1ms/step - loss: 0.5648 - val_loss: 0.5896\n",
      "Epoch 105/200\n",
      "413/413 [==============================] - 1s 1ms/step - loss: 0.5615 - val_loss: 0.6045\n",
      "Epoch 106/200\n",
      "413/413 [==============================] - 1s 1ms/step - loss: 0.7016 - val_loss: 0.5837\n",
      "Epoch 107/200\n",
      "413/413 [==============================] - 1s 1ms/step - loss: 0.5815 - val_loss: 0.5823\n",
      "Epoch 108/200\n",
      "413/413 [==============================] - 1s 1ms/step - loss: 0.5625 - val_loss: 0.6130\n",
      "Epoch 109/200\n",
      "413/413 [==============================] - 0s 1ms/step - loss: 0.5639 - val_loss: 0.6219\n",
      "Epoch 110/200\n",
      "413/413 [==============================] - 1s 1ms/step - loss: 0.5775 - val_loss: 0.5797\n",
      "Epoch 111/200\n",
      "413/413 [==============================] - 1s 2ms/step - loss: 0.7067 - val_loss: 0.6209\n",
      "Epoch 112/200\n",
      "413/413 [==============================] - 1s 1ms/step - loss: 0.5616 - val_loss: 0.5812\n",
      "Epoch 113/200\n",
      "413/413 [==============================] - 1s 1ms/step - loss: 0.5592 - val_loss: 0.6027\n",
      "Epoch 114/200\n",
      "413/413 [==============================] - 1s 1ms/step - loss: 0.5581 - val_loss: 0.5798\n",
      "Epoch 115/200\n",
      "413/413 [==============================] - 1s 2ms/step - loss: 0.5793 - val_loss: 0.7070\n",
      "Epoch 116/200\n",
      "413/413 [==============================] - 1s 2ms/step - loss: 0.5645 - val_loss: 0.5796\n",
      "Epoch 117/200\n",
      "413/413 [==============================] - 0s 1ms/step - loss: 0.5899 - val_loss: 0.6786\n",
      "Epoch 118/200\n",
      "413/413 [==============================] - 1s 1ms/step - loss: 0.5620 - val_loss: 0.6151\n",
      "Epoch 119/200\n",
      "413/413 [==============================] - 0s 1ms/step - loss: 0.5619 - val_loss: 0.5920\n",
      "Epoch 120/200\n",
      "413/413 [==============================] - 1s 1ms/step - loss: 0.6050 - val_loss: 0.6076\n",
      "Epoch 121/200\n",
      "413/413 [==============================] - 1s 1ms/step - loss: 0.5597 - val_loss: 0.6055\n",
      "Epoch 122/200\n",
      "413/413 [==============================] - 1s 1ms/step - loss: 0.5626 - val_loss: 0.5810\n",
      "Epoch 123/200\n",
      "413/413 [==============================] - 1s 1ms/step - loss: 0.5605 - val_loss: 0.5751\n",
      "Epoch 124/200\n",
      "413/413 [==============================] - 1s 1ms/step - loss: 0.5754 - val_loss: 0.5769\n",
      "Epoch 125/200\n",
      "413/413 [==============================] - 1s 1ms/step - loss: 0.5603 - val_loss: 0.7652\n",
      "Epoch 126/200\n",
      "413/413 [==============================] - 1s 2ms/step - loss: 0.6655 - val_loss: 0.6124\n",
      "Epoch 127/200\n",
      "413/413 [==============================] - 1s 1ms/step - loss: 0.5575 - val_loss: 0.6354\n",
      "Epoch 128/200\n",
      "413/413 [==============================] - 0s 1ms/step - loss: 0.5571 - val_loss: 0.5904\n",
      "Epoch 129/200\n",
      "413/413 [==============================] - 0s 1ms/step - loss: 0.5605 - val_loss: 0.5837\n",
      "Epoch 130/200\n",
      "413/413 [==============================] - 1s 1ms/step - loss: 0.5565 - val_loss: 0.6171\n",
      "Epoch 131/200\n",
      "413/413 [==============================] - 1s 2ms/step - loss: 0.5627 - val_loss: 0.6211\n",
      "Epoch 132/200\n",
      "413/413 [==============================] - 1s 1ms/step - loss: 0.5572 - val_loss: 0.5762\n",
      "Epoch 133/200\n",
      "413/413 [==============================] - 1s 1ms/step - loss: 0.6412 - val_loss: 0.5861\n",
      "Epoch 134/200\n",
      "413/413 [==============================] - 1s 1ms/step - loss: 0.5790 - val_loss: 0.5804\n",
      "Epoch 135/200\n",
      "413/413 [==============================] - 1s 1ms/step - loss: 0.5942 - val_loss: 0.5793\n",
      "Epoch 136/200\n",
      "413/413 [==============================] - 1s 2ms/step - loss: 0.5657 - val_loss: 0.5786\n",
      "Epoch 137/200\n",
      "413/413 [==============================] - 1s 2ms/step - loss: 0.5984 - val_loss: 0.6777\n",
      "Epoch 138/200\n",
      "413/413 [==============================] - 1s 1ms/step - loss: 0.5593 - val_loss: 0.5911\n",
      "Epoch 139/200\n",
      "413/413 [==============================] - 1s 2ms/step - loss: 0.5538 - val_loss: 0.6482\n",
      "Epoch 140/200\n",
      "413/413 [==============================] - 1s 2ms/step - loss: 0.5535 - val_loss: 0.5753\n",
      "Epoch 141/200\n",
      "413/413 [==============================] - 1s 1ms/step - loss: 0.5546 - val_loss: 0.5828\n",
      "Epoch 142/200\n",
      "413/413 [==============================] - 1s 2ms/step - loss: 0.6179 - val_loss: 0.6302\n",
      "Epoch 143/200\n",
      "413/413 [==============================] - 1s 1ms/step - loss: 0.5588 - val_loss: 0.5798\n",
      "Epoch 144/200\n",
      "413/413 [==============================] - 1s 2ms/step - loss: 0.5587 - val_loss: 0.5855\n",
      "Epoch 145/200\n",
      "413/413 [==============================] - 1s 1ms/step - loss: 0.5584 - val_loss: 0.5789\n",
      "Epoch 146/200\n",
      "413/413 [==============================] - 1s 1ms/step - loss: 0.5635 - val_loss: 0.5805\n",
      "Epoch 147/200\n",
      "413/413 [==============================] - 1s 2ms/step - loss: 0.5567 - val_loss: 0.5865\n",
      "Epoch 148/200\n",
      "413/413 [==============================] - 1s 1ms/step - loss: 0.5544 - val_loss: 0.7638\n",
      "Epoch 149/200\n",
      "413/413 [==============================] - 1s 1ms/step - loss: 0.5964 - val_loss: 0.5789\n",
      "Epoch 150/200\n",
      "413/413 [==============================] - 1s 1ms/step - loss: 0.5550 - val_loss: 0.6380\n",
      "Epoch 151/200\n",
      "413/413 [==============================] - 1s 1ms/step - loss: 0.5526 - val_loss: 0.5725\n",
      "Epoch 152/200\n",
      "413/413 [==============================] - 1s 1ms/step - loss: 0.5631 - val_loss: 0.5733\n",
      "Epoch 153/200\n",
      "413/413 [==============================] - 1s 2ms/step - loss: 0.6778 - val_loss: 0.5958\n",
      "Epoch 154/200\n",
      "413/413 [==============================] - 1s 2ms/step - loss: 0.5538 - val_loss: 0.5757\n",
      "Epoch 155/200\n",
      "413/413 [==============================] - 1s 1ms/step - loss: 0.5544 - val_loss: 0.6472\n",
      "Epoch 156/200\n",
      "413/413 [==============================] - 1s 1ms/step - loss: 0.5594 - val_loss: 0.6050\n",
      "Epoch 157/200\n",
      "413/413 [==============================] - 1s 1ms/step - loss: 0.5747 - val_loss: 0.5747\n",
      "Epoch 158/200\n",
      "413/413 [==============================] - 1s 1ms/step - loss: 0.5539 - val_loss: 0.5757\n",
      "Epoch 159/200\n",
      "413/413 [==============================] - 1s 2ms/step - loss: 0.5551 - val_loss: 0.5835\n",
      "Epoch 160/200\n",
      "413/413 [==============================] - 1s 1ms/step - loss: 0.5557 - val_loss: 0.5846\n",
      "Epoch 161/200\n",
      "413/413 [==============================] - 1s 2ms/step - loss: 0.5872 - val_loss: 0.5711\n",
      "Epoch 162/200\n",
      "413/413 [==============================] - 1s 1ms/step - loss: 0.5514 - val_loss: 0.5989\n",
      "Epoch 163/200\n",
      "413/413 [==============================] - 1s 1ms/step - loss: 0.6252 - val_loss: 0.5750\n",
      "Epoch 164/200\n",
      "413/413 [==============================] - 1s 1ms/step - loss: 0.5543 - val_loss: 0.6029\n",
      "Epoch 165/200\n",
      "413/413 [==============================] - 0s 1ms/step - loss: 0.5588 - val_loss: 0.6763\n",
      "Epoch 166/200\n",
      "413/413 [==============================] - 1s 1ms/step - loss: 0.5516 - val_loss: 0.5804\n",
      "Epoch 167/200\n",
      "413/413 [==============================] - 1s 1ms/step - loss: 0.5441 - val_loss: 0.5550\n",
      "Epoch 168/200\n",
      "413/413 [==============================] - 0s 1ms/step - loss: 0.5363 - val_loss: 0.5531\n",
      "Epoch 169/200\n",
      "413/413 [==============================] - 1s 1ms/step - loss: 0.5398 - val_loss: 0.5562\n",
      "Epoch 170/200\n",
      "413/413 [==============================] - 1s 1ms/step - loss: 0.5328 - val_loss: 0.5465\n",
      "Epoch 171/200\n",
      "413/413 [==============================] - 1s 1ms/step - loss: 0.5288 - val_loss: 0.5773\n",
      "Epoch 172/200\n",
      "413/413 [==============================] - 1s 1ms/step - loss: 0.5298 - val_loss: 0.5634\n",
      "Epoch 173/200\n",
      "413/413 [==============================] - 1s 2ms/step - loss: 0.7579 - val_loss: 0.5581\n",
      "Epoch 174/200\n",
      "413/413 [==============================] - 0s 1ms/step - loss: 0.5300 - val_loss: 0.5391\n",
      "Epoch 175/200\n",
      "413/413 [==============================] - 0s 1ms/step - loss: 0.5344 - val_loss: 0.5501\n",
      "Epoch 176/200\n",
      "413/413 [==============================] - 1s 1ms/step - loss: 0.5276 - val_loss: 0.5487\n",
      "Epoch 177/200\n",
      "413/413 [==============================] - 1s 2ms/step - loss: 0.6097 - val_loss: 0.5460\n",
      "Epoch 178/200\n",
      "413/413 [==============================] - 0s 1ms/step - loss: 0.6001 - val_loss: 0.7554\n",
      "Epoch 179/200\n",
      "413/413 [==============================] - 0s 1ms/step - loss: 0.5367 - val_loss: 0.5474\n",
      "Epoch 180/200\n",
      "413/413 [==============================] - 1s 1ms/step - loss: 0.5514 - val_loss: 0.5408\n",
      "Epoch 181/200\n",
      "413/413 [==============================] - 1s 1ms/step - loss: 0.5277 - val_loss: 0.8676\n",
      "Epoch 182/200\n",
      "413/413 [==============================] - 1s 1ms/step - loss: 0.5245 - val_loss: 0.5729\n",
      "Epoch 183/200\n",
      "413/413 [==============================] - 1s 1ms/step - loss: 0.5248 - val_loss: 0.6211\n",
      "Epoch 184/200\n",
      "413/413 [==============================] - 1s 1ms/step - loss: 0.5238 - val_loss: 0.7862\n",
      "Epoch 185/200\n",
      "413/413 [==============================] - 1s 1ms/step - loss: 0.5431 - val_loss: 0.9085\n",
      "Epoch 186/200\n",
      "413/413 [==============================] - 1s 1ms/step - loss: 0.5265 - val_loss: 0.5391\n",
      "Epoch 187/200\n",
      "413/413 [==============================] - 1s 2ms/step - loss: 0.5226 - val_loss: 0.5451\n",
      "Epoch 188/200\n",
      "413/413 [==============================] - 1s 2ms/step - loss: 0.5236 - val_loss: 0.5394\n",
      "Epoch 189/200\n",
      "413/413 [==============================] - 1s 1ms/step - loss: 0.5246 - val_loss: 0.7085\n",
      "Epoch 190/200\n",
      "413/413 [==============================] - 1s 2ms/step - loss: 0.5221 - val_loss: 0.5935\n",
      "Epoch 191/200\n",
      "413/413 [==============================] - 1s 1ms/step - loss: 0.6688 - val_loss: 1.1439\n",
      "Epoch 192/200\n",
      "413/413 [==============================] - 0s 1ms/step - loss: 0.6474 - val_loss: 0.5468\n",
      "Epoch 193/200\n",
      "413/413 [==============================] - 1s 1ms/step - loss: 0.5219 - val_loss: 0.5512\n",
      "Epoch 194/200\n",
      "413/413 [==============================] - 1s 1ms/step - loss: 0.5215 - val_loss: 0.5367\n",
      "Epoch 195/200\n",
      "413/413 [==============================] - 1s 1ms/step - loss: 0.5235 - val_loss: 0.5578\n",
      "Epoch 196/200\n",
      "413/413 [==============================] - 1s 1ms/step - loss: 0.5213 - val_loss: 0.5560\n",
      "Epoch 197/200\n",
      "413/413 [==============================] - 1s 1ms/step - loss: 0.7002 - val_loss: 0.5370\n",
      "Epoch 198/200\n",
      "413/413 [==============================] - 1s 1ms/step - loss: 0.5324 - val_loss: 0.5599\n",
      "Epoch 199/200\n",
      "413/413 [==============================] - 1s 2ms/step - loss: 0.5236 - val_loss: 0.5851\n",
      "Epoch 200/200\n",
      "413/413 [==============================] - 1s 2ms/step - loss: 0.5690 - val_loss: 0.5472\n"
     ]
    }
   ],
   "source": [
    "reset_session()\n",
    "\n",
    "run = best_model.fit(X_train, y_train, epochs=200,\n",
    "                validation_data=(X_valid, y_valid),verbose=1)"
   ]
  },
  {
   "cell_type": "code",
   "execution_count": 17,
   "metadata": {},
   "outputs": [
    {
     "data": {
      "image/png": "[encoded data removed]",
      "text/plain": [
       "<Figure size 800x500 with 1 Axes>"
      ]
     },
     "metadata": {},
     "output_type": "display_data"
    }
   ],
   "source": [
    "pd.DataFrame(run.history).plot(figsize=(8,5))\n",
    "plt.grid(True)\n",
    "plt.gca().set_ylim(0, 10)\n",
    "plt.show()"
   ]
  },
  {
   "cell_type": "markdown",
   "metadata": {},
   "source": [
    "The model is overfitting a little (validation loss is larger loss near the end) in this run.\n",
    "\n",
    "The plot may be very different, it can look very erratic in some runs. It is heavily affected by the training randomness.\""
   ]
  },
  {
   "cell_type": "markdown",
   "metadata": {},
   "source": [
    "# 2. Binary classification DNN [17 marks]\n",
    "\n",
    "Consider the [Portuguese Bank Marketing Data Set](https://www.kaggle.com/yufengsui/portuguese-bank-marketing-data-set?select=bank_cleaned.csv) available at Kaggle. Download the `bank_cleaned.csv` file or from [Canvas](https://canvas.uw.edu/files/106328167/download?download_frd=1). Here we want to predict the success or failure of a bank marketing campaign using phone calls to promote a term deposit product. The target variable is `response_binary`.\n",
    "\n",
    "The following code preprocesses the data. The day and month have been converted into cyclical features(1st day of the month has equal distance to the 2nd and the 31st)."
   ]
  },
  {
   "cell_type": "code",
   "execution_count": 23,
   "metadata": {
    "scrolled": true
   },
   "outputs": [
    {
     "data": {
      "text/html": [
       "<div>\n",
       "<style scoped>\n",
       "    .dataframe tbody tr th:only-of-type {\n",
       "        vertical-align: middle;\n",
       "    }\n",
       "\n",
       "    .dataframe tbody tr th {\n",
       "        vertical-align: top;\n",
       "    }\n",
       "\n",
       "    .dataframe thead th {\n",
       "        text-align: right;\n",
       "    }\n",
       "</style>\n",
       "<table border=\"1\" class=\"dataframe\">\n",
       "  <thead>\n",
       "    <tr style=\"text-align: right;\">\n",
       "      <th></th>\n",
       "      <th>age</th>\n",
       "      <th>job</th>\n",
       "      <th>marital</th>\n",
       "      <th>education</th>\n",
       "      <th>default</th>\n",
       "      <th>balance</th>\n",
       "      <th>housing</th>\n",
       "      <th>loan</th>\n",
       "      <th>duration</th>\n",
       "      <th>campaign</th>\n",
       "      <th>pdays</th>\n",
       "      <th>previous</th>\n",
       "      <th>poutcome</th>\n",
       "      <th>response_binary</th>\n",
       "      <th>day_sin</th>\n",
       "      <th>day_cos</th>\n",
       "      <th>month_sin</th>\n",
       "      <th>month_cos</th>\n",
       "    </tr>\n",
       "  </thead>\n",
       "  <tbody>\n",
       "    <tr>\n",
       "      <th>0</th>\n",
       "      <td>58</td>\n",
       "      <td>management</td>\n",
       "      <td>married</td>\n",
       "      <td>tertiary</td>\n",
       "      <td>no</td>\n",
       "      <td>2143</td>\n",
       "      <td>yes</td>\n",
       "      <td>no</td>\n",
       "      <td>4.35</td>\n",
       "      <td>1</td>\n",
       "      <td>-1</td>\n",
       "      <td>0</td>\n",
       "      <td>unknown</td>\n",
       "      <td>0</td>\n",
       "      <td>0.724793</td>\n",
       "      <td>0.688967</td>\n",
       "      <td>0.866025</td>\n",
       "      <td>-0.5</td>\n",
       "    </tr>\n",
       "    <tr>\n",
       "      <th>1</th>\n",
       "      <td>44</td>\n",
       "      <td>technician</td>\n",
       "      <td>single</td>\n",
       "      <td>secondary</td>\n",
       "      <td>no</td>\n",
       "      <td>29</td>\n",
       "      <td>yes</td>\n",
       "      <td>no</td>\n",
       "      <td>2.52</td>\n",
       "      <td>1</td>\n",
       "      <td>-1</td>\n",
       "      <td>0</td>\n",
       "      <td>unknown</td>\n",
       "      <td>0</td>\n",
       "      <td>0.724793</td>\n",
       "      <td>0.688967</td>\n",
       "      <td>0.866025</td>\n",
       "      <td>-0.5</td>\n",
       "    </tr>\n",
       "    <tr>\n",
       "      <th>2</th>\n",
       "      <td>33</td>\n",
       "      <td>entrepreneur</td>\n",
       "      <td>married</td>\n",
       "      <td>secondary</td>\n",
       "      <td>no</td>\n",
       "      <td>2</td>\n",
       "      <td>yes</td>\n",
       "      <td>yes</td>\n",
       "      <td>1.27</td>\n",
       "      <td>1</td>\n",
       "      <td>-1</td>\n",
       "      <td>0</td>\n",
       "      <td>unknown</td>\n",
       "      <td>0</td>\n",
       "      <td>0.724793</td>\n",
       "      <td>0.688967</td>\n",
       "      <td>0.866025</td>\n",
       "      <td>-0.5</td>\n",
       "    </tr>\n",
       "    <tr>\n",
       "      <th>3</th>\n",
       "      <td>35</td>\n",
       "      <td>management</td>\n",
       "      <td>married</td>\n",
       "      <td>tertiary</td>\n",
       "      <td>no</td>\n",
       "      <td>231</td>\n",
       "      <td>yes</td>\n",
       "      <td>no</td>\n",
       "      <td>2.32</td>\n",
       "      <td>1</td>\n",
       "      <td>-1</td>\n",
       "      <td>0</td>\n",
       "      <td>unknown</td>\n",
       "      <td>0</td>\n",
       "      <td>0.724793</td>\n",
       "      <td>0.688967</td>\n",
       "      <td>0.866025</td>\n",
       "      <td>-0.5</td>\n",
       "    </tr>\n",
       "    <tr>\n",
       "      <th>4</th>\n",
       "      <td>28</td>\n",
       "      <td>management</td>\n",
       "      <td>single</td>\n",
       "      <td>tertiary</td>\n",
       "      <td>no</td>\n",
       "      <td>447</td>\n",
       "      <td>yes</td>\n",
       "      <td>yes</td>\n",
       "      <td>3.62</td>\n",
       "      <td>1</td>\n",
       "      <td>-1</td>\n",
       "      <td>0</td>\n",
       "      <td>unknown</td>\n",
       "      <td>0</td>\n",
       "      <td>0.724793</td>\n",
       "      <td>0.688967</td>\n",
       "      <td>0.866025</td>\n",
       "      <td>-0.5</td>\n",
       "    </tr>\n",
       "  </tbody>\n",
       "</table>\n",
       "</div>"
      ],
      "text/plain": [
       "   age           job  marital  education default  balance housing loan  \\\n",
       "0   58    management  married   tertiary      no     2143     yes   no   \n",
       "1   44    technician   single  secondary      no       29     yes   no   \n",
       "2   33  entrepreneur  married  secondary      no        2     yes  yes   \n",
       "3   35    management  married   tertiary      no      231     yes   no   \n",
       "4   28    management   single   tertiary      no      447     yes  yes   \n",
       "\n",
       "   duration  campaign  pdays  previous poutcome  response_binary   day_sin  \\\n",
       "0      4.35         1     -1         0  unknown                0  0.724793   \n",
       "1      2.52         1     -1         0  unknown                0  0.724793   \n",
       "2      1.27         1     -1         0  unknown                0  0.724793   \n",
       "3      2.32         1     -1         0  unknown                0  0.724793   \n",
       "4      3.62         1     -1         0  unknown                0  0.724793   \n",
       "\n",
       "    day_cos  month_sin  month_cos  \n",
       "0  0.688967   0.866025       -0.5  \n",
       "1  0.688967   0.866025       -0.5  \n",
       "2  0.688967   0.866025       -0.5  \n",
       "3  0.688967   0.866025       -0.5  \n",
       "4  0.688967   0.866025       -0.5  "
      ]
     },
     "execution_count": 23,
     "metadata": {},
     "output_type": "execute_result"
    }
   ],
   "source": [
    "df = pd.read_csv(\"datasets/bank_cleaned.csv\")\n",
    "\n",
    "month_dict = {\"jan\": 1, \"feb\": 2, \"mar\": 3, \"apr\": 4, \"may\": 5, \"jun\": 6,\n",
    "              \"jul\": 7, \"aug\": 8, \"sep\": 9, \"oct\": 10, \"nov\": 11, \"dec\": 12}\n",
    "day_rad = (df[\"day\"] - 1) * (2 * np.pi / 31)\n",
    "month_rad = (df[\"month\"].replace(month_dict) - 1) * (2 * np.pi / 12)\n",
    "df[\"day_sin\"] = np.sin(day_rad)\n",
    "df[\"day_cos\"] = np.cos(day_rad)\n",
    "df[\"month_sin\"] = np.sin(month_rad)\n",
    "df[\"month_cos\"]  = np.cos(month_rad)\n",
    "df.drop(columns=[\"Unnamed: 0\", \"month\", \"day\", \"response\"], axis=1, inplace=True)\n",
    "df.head()"
   ]
  },
  {
   "cell_type": "code",
   "execution_count": 24,
   "metadata": {},
   "outputs": [],
   "source": [
    "from sklearn.preprocessing import StandardScaler, OrdinalEncoder, OneHotEncoder\n",
    "from sklearn.compose import ColumnTransformer\n",
    "\n",
    "train_set_tmp, test_set = train_test_split(df, test_size=0.2, random_state=42)\n",
    "train_set, valid_set = train_test_split(train_set_tmp, test_size=0.2, random_state=42)\n",
    "\n",
    "X_train_raw = train_set.drop(\"response_binary\", axis=1).copy()\n",
    "y_train = train_set[\"response_binary\"].copy()\n",
    "X_valid_raw = valid_set.drop(\"response_binary\", axis=1).copy()\n",
    "y_valid = valid_set[\"response_binary\"].copy()\n",
    "X_test_raw = test_set.drop(\"response_binary\", axis=1).copy()\n",
    "y_test = test_set[\"response_binary\"].copy()\n",
    "\n",
    "num_attribs = list(X_train_raw._get_numeric_data().columns)\n",
    "cat_attribs = list(set(X_train_raw.columns) - set(num_attribs))\n",
    "\n",
    "cat_attribs_ord = ['default', 'housing', 'loan']\n",
    "cat_attribs_hot = ['job', 'marital', 'education', 'poutcome']\n",
    "\n",
    "full_pipeline = ColumnTransformer([\n",
    "        (\"num\", StandardScaler(), num_attribs),\n",
    "        (\"cat_hot\", OneHotEncoder(), cat_attribs_hot),\n",
    "        (\"cat_ord\", OrdinalEncoder(categories=[['no','yes'],['no','yes'],['no','yes']]), cat_attribs_ord)\n",
    "    ])\n",
    "\n",
    "X_train = full_pipeline.fit_transform(X_train_raw)\n",
    "X_valid = full_pipeline.transform(X_valid_raw)\n",
    "X_test = full_pipeline.transform(X_test_raw)"
   ]
  },
  {
   "cell_type": "markdown",
   "metadata": {},
   "source": [
    "## (a) [4 marks]\n",
    "\n",
    "In the next part you will build and fit a DNN with 4 hidden layers of 100 neurons each. Use the following specifications:\n",
    "\n",
    "(i) He initialization and the Swish activation function.\n",
    "\n",
    "(ii) The output layer has 1 neuron with sigmoid activation.\n",
    "\n",
    "(iii) Compile with `loss=\"binary_crossentropy\"` and  `metrics=[\"AUC\"]`.\n",
    "\n",
    "Explain why the choices (i), (ii), and (iii) are justified.\n",
    "\n",
    "Also, state the proportion of sucesses in the training data."
   ]
  },
  {
   "cell_type": "markdown",
   "metadata": {},
   "source": [
    "**Solution**"
   ]
  },
  {
   "cell_type": "markdown",
   "metadata": {},
   "source": [
    "Here are the justifications:\n",
    "\n",
    "(i) Swish is a good choice because it is considered one of the best activation functions (non-saturating so it avoids vanishing graidents, avoids the dying ReLU problem, non-monotonic allowing for more complicated fits). He initialization is the corresponding weight initialization method.\n",
    "\n",
    "(ii) This is a binary classification problem so the sigmoid activation ensures the output should be a number between 0 and 1 (if the output is greater than 0.5, predict it as class 1, otherwise predict it as class 0).\n",
    "\n",
    "(iii) For binary classification the loss should be binary_crossentropy (the loss function for logistic regression). The data is highly imbalanced as shown below, so AUC is a better metric than accuracy."
   ]
  },
  {
   "cell_type": "code",
   "execution_count": 25,
   "metadata": {},
   "outputs": [
    {
     "name": "stdout",
     "output_type": "stream",
     "text": [
      "The proportion of sucessses is 0.11168075907717029\n"
     ]
    }
   ],
   "source": [
    "print(\"The proportion of sucessses is\", sum(y_train==1)/len(y_train))"
   ]
  },
  {
   "cell_type": "markdown",
   "metadata": {},
   "source": [
    "## (b) [3 marks]\n",
    "\n",
    "Train the model in (a) for 30 epochs and use exponential scheduling using the function below (`lr0=0.01`, `s=20`) and the NAG optimizer with `momentum=0.9`. Use a learning curve to comment on whether it is overfitting.\n",
    "\n",
    "At the start of fitting your model, run `reset_session()` given by the following code."
   ]
  },
  {
   "cell_type": "code",
   "execution_count": 26,
   "metadata": {},
   "outputs": [],
   "source": [
    "def reset_session(seed=42):\n",
    "    tf.random.set_seed(seed)\n",
    "    np.random.seed(seed)\n",
    "    tf.keras.backend.clear_session()\n",
    "    \n",
    "def exponential_decay(lr0, s):\n",
    "    return lambda epoch: lr0 * 0.1**(epoch / s)"
   ]
  },
  {
   "cell_type": "markdown",
   "metadata": {},
   "source": [
    "**Solution**"
   ]
  },
  {
   "cell_type": "code",
   "execution_count": 27,
   "metadata": {},
   "outputs": [],
   "source": [
    "reset_session()\n",
    "\n",
    "model = tf.keras.models.Sequential()\n",
    "for n_hidden in (100, 100, 100, 100):\n",
    "    model.add(tf.keras.layers.Dense(n_hidden, activation=\"swish\",\n",
    "                                 kernel_initializer=\"he_normal\"))\n",
    "model.add(tf.keras.layers.Dense(1, activation=\"sigmoid\"))\n",
    "\n",
    "optimizer = tf.keras.optimizers.SGD(momentum=0.9, nesterov=True)\n",
    "model.compile(loss=\"binary_crossentropy\",\n",
    "              optimizer=optimizer,\n",
    "              metrics=[\"AUC\"])"
   ]
  },
  {
   "cell_type": "markdown",
   "metadata": {},
   "source": [
    "We create the exponential scheduling callback, and then fit the model"
   ]
  },
  {
   "cell_type": "code",
   "execution_count": 28,
   "metadata": {},
   "outputs": [
    {
     "name": "stdout",
     "output_type": "stream",
     "text": [
      "Epoch 1/30\n",
      "817/817 [==============================] - 2s 1ms/step - loss: 0.2405 - auc: 0.8816 - val_loss: 0.2264 - val_auc: 0.8970 - lr: 0.0100\n",
      "Epoch 2/30\n",
      "817/817 [==============================] - 1s 1ms/step - loss: 0.2173 - auc: 0.9077 - val_loss: 0.2204 - val_auc: 0.9023 - lr: 0.0089\n",
      "Epoch 3/30\n",
      "817/817 [==============================] - 1s 1ms/step - loss: 0.2117 - auc: 0.9139 - val_loss: 0.2175 - val_auc: 0.9064 - lr: 0.0079\n",
      "Epoch 4/30\n",
      "817/817 [==============================] - 1s 2ms/step - loss: 0.2078 - auc: 0.9177 - val_loss: 0.2191 - val_auc: 0.9054 - lr: 0.0071\n",
      "Epoch 5/30\n",
      "817/817 [==============================] - 1s 2ms/step - loss: 0.2051 - auc: 0.9205 - val_loss: 0.2152 - val_auc: 0.9098 - lr: 0.0063\n",
      "Epoch 6/30\n",
      "817/817 [==============================] - 1s 1ms/step - loss: 0.2024 - auc: 0.9230 - val_loss: 0.2155 - val_auc: 0.9093 - lr: 0.0056\n",
      "Epoch 7/30\n",
      "817/817 [==============================] - 1s 2ms/step - loss: 0.2008 - auc: 0.9241 - val_loss: 0.2131 - val_auc: 0.9116 - lr: 0.0050\n",
      "Epoch 8/30\n",
      "817/817 [==============================] - 1s 2ms/step - loss: 0.1984 - auc: 0.9264 - val_loss: 0.2131 - val_auc: 0.9115 - lr: 0.0045\n",
      "Epoch 9/30\n",
      "817/817 [==============================] - 2s 2ms/step - loss: 0.1966 - auc: 0.9283 - val_loss: 0.2126 - val_auc: 0.9129 - lr: 0.0040\n",
      "Epoch 10/30\n",
      "817/817 [==============================] - 1s 1ms/step - loss: 0.1954 - auc: 0.9289 - val_loss: 0.2115 - val_auc: 0.9135 - lr: 0.0035\n",
      "Epoch 11/30\n",
      "817/817 [==============================] - 1s 1ms/step - loss: 0.1936 - auc: 0.9309 - val_loss: 0.2125 - val_auc: 0.9133 - lr: 0.0032\n",
      "Epoch 12/30\n",
      "817/817 [==============================] - 1s 1ms/step - loss: 0.1921 - auc: 0.9316 - val_loss: 0.2131 - val_auc: 0.9125 - lr: 0.0028\n",
      "Epoch 13/30\n",
      "817/817 [==============================] - 1s 1ms/step - loss: 0.1910 - auc: 0.9328 - val_loss: 0.2139 - val_auc: 0.9128 - lr: 0.0025\n",
      "Epoch 14/30\n",
      "817/817 [==============================] - 1s 2ms/step - loss: 0.1901 - auc: 0.9333 - val_loss: 0.2131 - val_auc: 0.9136 - lr: 0.0022\n",
      "Epoch 15/30\n",
      "817/817 [==============================] - 1s 2ms/step - loss: 0.1888 - auc: 0.9346 - val_loss: 0.2130 - val_auc: 0.9126 - lr: 0.0020\n",
      "Epoch 16/30\n",
      "817/817 [==============================] - 2s 2ms/step - loss: 0.1877 - auc: 0.9352 - val_loss: 0.2131 - val_auc: 0.9136 - lr: 0.0018\n",
      "Epoch 17/30\n",
      "817/817 [==============================] - 1s 1ms/step - loss: 0.1867 - auc: 0.9362 - val_loss: 0.2137 - val_auc: 0.9133 - lr: 0.0016\n",
      "Epoch 18/30\n",
      "817/817 [==============================] - 1s 2ms/step - loss: 0.1857 - auc: 0.9371 - val_loss: 0.2121 - val_auc: 0.9134 - lr: 0.0014\n",
      "Epoch 19/30\n",
      "817/817 [==============================] - 1s 2ms/step - loss: 0.1852 - auc: 0.9373 - val_loss: 0.2122 - val_auc: 0.9141 - lr: 0.0013\n",
      "Epoch 20/30\n",
      "817/817 [==============================] - 1s 1ms/step - loss: 0.1843 - auc: 0.9379 - val_loss: 0.2123 - val_auc: 0.9139 - lr: 0.0011\n",
      "Epoch 21/30\n",
      "817/817 [==============================] - 2s 2ms/step - loss: 0.1836 - auc: 0.9385 - val_loss: 0.2126 - val_auc: 0.9141 - lr: 0.0010\n",
      "Epoch 22/30\n",
      "817/817 [==============================] - 1s 2ms/step - loss: 0.1830 - auc: 0.9389 - val_loss: 0.2127 - val_auc: 0.9138 - lr: 8.9125e-04\n",
      "Epoch 23/30\n",
      "817/817 [==============================] - 2s 2ms/step - loss: 0.1825 - auc: 0.9394 - val_loss: 0.2133 - val_auc: 0.9139 - lr: 7.9433e-04\n",
      "Epoch 24/30\n",
      "817/817 [==============================] - 1s 2ms/step - loss: 0.1820 - auc: 0.9397 - val_loss: 0.2136 - val_auc: 0.9141 - lr: 7.0795e-04\n",
      "Epoch 25/30\n",
      "817/817 [==============================] - 2s 2ms/step - loss: 0.1815 - auc: 0.9400 - val_loss: 0.2129 - val_auc: 0.9139 - lr: 6.3096e-04\n",
      "Epoch 26/30\n",
      "817/817 [==============================] - 1s 2ms/step - loss: 0.1811 - auc: 0.9402 - val_loss: 0.2134 - val_auc: 0.9135 - lr: 5.6234e-04\n",
      "Epoch 27/30\n",
      "817/817 [==============================] - 1s 2ms/step - loss: 0.1807 - auc: 0.9405 - val_loss: 0.2135 - val_auc: 0.9132 - lr: 5.0119e-04\n",
      "Epoch 28/30\n",
      "817/817 [==============================] - 1s 1ms/step - loss: 0.1803 - auc: 0.9409 - val_loss: 0.2132 - val_auc: 0.9142 - lr: 4.4668e-04\n",
      "Epoch 29/30\n",
      "817/817 [==============================] - 1s 2ms/step - loss: 0.1800 - auc: 0.9410 - val_loss: 0.2138 - val_auc: 0.9138 - lr: 3.9811e-04\n",
      "Epoch 30/30\n",
      "817/817 [==============================] - 2s 2ms/step - loss: 0.1797 - auc: 0.9414 - val_loss: 0.2143 - val_auc: 0.9134 - lr: 3.5481e-04\n"
     ]
    }
   ],
   "source": [
    "lr_scheduler = tf.keras.callbacks.LearningRateScheduler(exponential_decay(lr0=0.01,s=20))\n",
    "\n",
    "run = model.fit(X_train, y_train, epochs=30,\n",
    "                validation_data=(X_valid, y_valid),\n",
    "                callbacks=[lr_scheduler])"
   ]
  },
  {
   "cell_type": "markdown",
   "metadata": {},
   "source": [
    "Now we plot the learning curve. The first line makes the plot look cleaner by removing the learning rate from the plot since it's not useful here. Comparing the AUC and the validation AUC (or the loss and validation loss), there is a small amount of overfitting."
   ]
  },
  {
   "cell_type": "code",
   "execution_count": 29,
   "metadata": {},
   "outputs": [
    {
     "data": {
      "image/png": "[encoded data removed]",
      "text/plain": [
       "<Figure size 800x500 with 1 Axes>"
      ]
     },
     "metadata": {},
     "output_type": "display_data"
    }
   ],
   "source": [
    "run_history = {key: run.history[key] for key in list(run.history.keys())[:-1]}\n",
    "pd.DataFrame(run_history).plot(figsize=(8, 5))\n",
    "plt.grid(True)\n",
    "plt.gca().set_ylim(0, 1)\n",
    "plt.show()"
   ]
  },
  {
   "cell_type": "markdown",
   "metadata": {},
   "source": [
    "## (c) [8 marks]\n",
    "\n",
    "Fit separate models using the same specification as in (b) but with the following regularization techniques:\n",
    "\n",
    "(i) batch normalization,\n",
    "\n",
    "(ii) early stopping based on validation AUC with `patience=10` (look at the documentation and note the `mode` argument).\n",
    "\n",
    "(iii) $\\ell_2$ regularization with `l2=0.0002`,\n",
    "\n",
    "(iv) dropout with probability 0.02,\n",
    "\n",
    "(v) $\\ell_2$ regularization and early stopping both as above,\n",
    "\n",
    "(vi) batch normalization and dropout both as above.\n",
    "\n",
    "At the start of each one of the above models, run `reset_session()`.\n",
    "\n",
    "The performance measure is validation AUC. State this for the model in (b), and for each of the models here comment on whether it is better than the model in (b)."
   ]
  },
  {
   "cell_type": "markdown",
   "metadata": {},
   "source": [
    "**Solution**"
   ]
  },
  {
   "cell_type": "markdown",
   "metadata": {},
   "source": [
    "Here we try 6 regularization methods. Because the amount of overfitting is small, we will use a smaller amount of regularization than the default parameters (e.g. for dropout, less than 20%), otherwise we would underfit. However, the question doesn't require you to choose the best hyperparameters, so it is acceptable to use the defaults.\n",
    "\n",
    "(i) Batch normalization"
   ]
  },
  {
   "cell_type": "code",
   "execution_count": 30,
   "metadata": {},
   "outputs": [
    {
     "name": "stdout",
     "output_type": "stream",
     "text": [
      "Epoch 1/30\n",
      "817/817 [==============================] - 3s 2ms/step - loss: 0.2717 - auc: 0.8457 - val_loss: 0.2437 - val_auc: 0.8799 - lr: 0.0100\n",
      "Epoch 2/30\n",
      "817/817 [==============================] - 1s 2ms/step - loss: 0.2339 - auc: 0.8894 - val_loss: 0.2382 - val_auc: 0.8875 - lr: 0.0089\n",
      "Epoch 3/30\n",
      "817/817 [==============================] - 2s 2ms/step - loss: 0.2271 - auc: 0.8983 - val_loss: 0.2270 - val_auc: 0.8987 - lr: 0.0079\n",
      "Epoch 4/30\n",
      "817/817 [==============================] - 2s 2ms/step - loss: 0.2217 - auc: 0.9045 - val_loss: 0.2350 - val_auc: 0.8978 - lr: 0.0071\n",
      "Epoch 5/30\n",
      "817/817 [==============================] - 2s 3ms/step - loss: 0.2191 - auc: 0.9064 - val_loss: 0.2207 - val_auc: 0.9043 - lr: 0.0063\n",
      "Epoch 6/30\n",
      "817/817 [==============================] - 2s 2ms/step - loss: 0.2139 - auc: 0.9124 - val_loss: 0.2240 - val_auc: 0.9044 - lr: 0.0056\n",
      "Epoch 7/30\n",
      "817/817 [==============================] - 2s 2ms/step - loss: 0.2113 - auc: 0.9139 - val_loss: 0.2217 - val_auc: 0.9051 - lr: 0.0050\n",
      "Epoch 8/30\n",
      "817/817 [==============================] - 2s 2ms/step - loss: 0.2076 - auc: 0.9183 - val_loss: 0.2231 - val_auc: 0.9042 - lr: 0.0045\n",
      "Epoch 9/30\n",
      "817/817 [==============================] - 2s 2ms/step - loss: 0.2028 - auc: 0.9224 - val_loss: 0.2212 - val_auc: 0.9072 - lr: 0.0040\n",
      "Epoch 10/30\n",
      "817/817 [==============================] - 2s 2ms/step - loss: 0.2033 - auc: 0.9222 - val_loss: 0.2194 - val_auc: 0.9084 - lr: 0.0035\n",
      "Epoch 11/30\n",
      "817/817 [==============================] - 2s 2ms/step - loss: 0.2001 - auc: 0.9251 - val_loss: 0.2204 - val_auc: 0.9054 - lr: 0.0032\n",
      "Epoch 12/30\n",
      "817/817 [==============================] - 2s 2ms/step - loss: 0.1992 - auc: 0.9261 - val_loss: 0.2248 - val_auc: 0.9026 - lr: 0.0028\n",
      "Epoch 13/30\n",
      "817/817 [==============================] - 2s 2ms/step - loss: 0.1956 - auc: 0.9288 - val_loss: 0.2231 - val_auc: 0.9052 - lr: 0.0025\n",
      "Epoch 14/30\n",
      "817/817 [==============================] - 2s 2ms/step - loss: 0.1948 - auc: 0.9293 - val_loss: 0.2243 - val_auc: 0.9048 - lr: 0.0022\n",
      "Epoch 15/30\n",
      "817/817 [==============================] - 2s 2ms/step - loss: 0.1940 - auc: 0.9303 - val_loss: 0.2275 - val_auc: 0.9037 - lr: 0.0020\n",
      "Epoch 16/30\n",
      "817/817 [==============================] - 2s 2ms/step - loss: 0.1926 - auc: 0.9313 - val_loss: 0.2267 - val_auc: 0.9024 - lr: 0.0018\n",
      "Epoch 17/30\n",
      "817/817 [==============================] - 2s 2ms/step - loss: 0.1897 - auc: 0.9339 - val_loss: 0.2262 - val_auc: 0.9035 - lr: 0.0016\n",
      "Epoch 18/30\n",
      "817/817 [==============================] - 2s 2ms/step - loss: 0.1899 - auc: 0.9336 - val_loss: 0.2297 - val_auc: 0.9015 - lr: 0.0014\n",
      "Epoch 19/30\n",
      "817/817 [==============================] - 2s 2ms/step - loss: 0.1899 - auc: 0.9325 - val_loss: 0.2269 - val_auc: 0.9030 - lr: 0.0013\n",
      "Epoch 20/30\n",
      "817/817 [==============================] - 2s 2ms/step - loss: 0.1906 - auc: 0.9327 - val_loss: 0.2294 - val_auc: 0.9002 - lr: 0.0011\n",
      "Epoch 21/30\n",
      "817/817 [==============================] - 1s 2ms/step - loss: 0.1897 - auc: 0.9332 - val_loss: 0.2285 - val_auc: 0.9003 - lr: 0.0010\n",
      "Epoch 22/30\n",
      "817/817 [==============================] - 2s 2ms/step - loss: 0.1875 - auc: 0.9345 - val_loss: 0.2287 - val_auc: 0.9010 - lr: 8.9125e-04\n",
      "Epoch 23/30\n",
      "817/817 [==============================] - 1s 2ms/step - loss: 0.1848 - auc: 0.9379 - val_loss: 0.2290 - val_auc: 0.9010 - lr: 7.9433e-04\n",
      "Epoch 24/30\n",
      "817/817 [==============================] - 2s 2ms/step - loss: 0.1863 - auc: 0.9363 - val_loss: 0.2302 - val_auc: 0.9001 - lr: 7.0795e-04\n",
      "Epoch 25/30\n",
      "817/817 [==============================] - 2s 2ms/step - loss: 0.1851 - auc: 0.9376 - val_loss: 0.2296 - val_auc: 0.9019 - lr: 6.3096e-04\n",
      "Epoch 26/30\n",
      "817/817 [==============================] - 1s 2ms/step - loss: 0.1874 - auc: 0.9352 - val_loss: 0.2298 - val_auc: 0.9011 - lr: 5.6234e-04\n",
      "Epoch 27/30\n",
      "817/817 [==============================] - 2s 2ms/step - loss: 0.1849 - auc: 0.9375 - val_loss: 0.2299 - val_auc: 0.9009 - lr: 5.0119e-04\n",
      "Epoch 28/30\n",
      "817/817 [==============================] - 2s 2ms/step - loss: 0.1853 - auc: 0.9375 - val_loss: 0.2303 - val_auc: 0.9003 - lr: 4.4668e-04\n",
      "Epoch 29/30\n",
      "817/817 [==============================] - 2s 2ms/step - loss: 0.1808 - auc: 0.9406 - val_loss: 0.2314 - val_auc: 0.9001 - lr: 3.9811e-04\n",
      "Epoch 30/30\n",
      "817/817 [==============================] - 2s 2ms/step - loss: 0.1829 - auc: 0.9382 - val_loss: 0.2306 - val_auc: 0.8998 - lr: 3.5481e-04\n"
     ]
    }
   ],
   "source": [
    "reset_session()\n",
    "\n",
    "model1 = tf.keras.models.Sequential()\n",
    "model1.add(tf.keras.layers.BatchNormalization())\n",
    "for n_hidden in (100, 100, 100, 100):\n",
    "    model1.add(tf.keras.layers.Dense(n_hidden, activation=\"swish\",\n",
    "                                 kernel_initializer=\"he_normal\"))\n",
    "    model1.add(tf.keras.layers.BatchNormalization())\n",
    "model1.add(tf.keras.layers.Dense(1, activation=\"sigmoid\"))\n",
    "\n",
    "optimizer = tf.keras.optimizers.SGD(momentum=0.9, nesterov=True)\n",
    "model1.compile(loss=\"binary_crossentropy\",\n",
    "              optimizer=optimizer,\n",
    "              metrics=[\"AUC\"])\n",
    "run = model1.fit(X_train, y_train, epochs=30,\n",
    "                validation_data=(X_valid, y_valid),\n",
    "                callbacks=[lr_scheduler])"
   ]
  },
  {
   "cell_type": "code",
   "execution_count": 31,
   "metadata": {},
   "outputs": [
    {
     "data": {
      "image/png": "[encoded data removed]",
      "text/plain": [
       "<Figure size 800x500 with 1 Axes>"
      ]
     },
     "metadata": {},
     "output_type": "display_data"
    }
   ],
   "source": [
    "run_history = {key: run.history[key] for key in list(run.history.keys())[:-1]}\n",
    "pd.DataFrame(run_history).plot(figsize=(8, 5))\n",
    "plt.grid(True)\n",
    "plt.gca().set_ylim(0, 1)\n",
    "plt.show()"
   ]
  },
  {
   "cell_type": "markdown",
   "metadata": {},
   "source": [
    "Comment: Validation AUC in (b) is 0.9134. Here it is 0.8998. Worse. (The learning curve above is not required by the question, and depending on randomness, it could be better not worse and this applies to other variations below.)\n",
    "\n",
    "(ii) Early stopping"
   ]
  },
  {
   "cell_type": "code",
   "execution_count": 32,
   "metadata": {},
   "outputs": [
    {
     "name": "stdout",
     "output_type": "stream",
     "text": [
      "Epoch 1/30\n",
      "817/817 [==============================] - 2s 2ms/step - loss: 0.2391 - auc: 0.8837 - val_loss: 0.2277 - val_auc: 0.8964 - lr: 0.0100\n",
      "Epoch 2/30\n",
      "817/817 [==============================] - 1s 2ms/step - loss: 0.2174 - auc: 0.9081 - val_loss: 0.2202 - val_auc: 0.9021 - lr: 0.0089\n",
      "Epoch 3/30\n",
      "817/817 [==============================] - 1s 1ms/step - loss: 0.2112 - auc: 0.9145 - val_loss: 0.2170 - val_auc: 0.9064 - lr: 0.0079\n",
      "Epoch 4/30\n",
      "817/817 [==============================] - 1s 2ms/step - loss: 0.2070 - auc: 0.9184 - val_loss: 0.2149 - val_auc: 0.9089 - lr: 0.0071\n",
      "Epoch 5/30\n",
      "817/817 [==============================] - 1s 2ms/step - loss: 0.2040 - auc: 0.9215 - val_loss: 0.2135 - val_auc: 0.9102 - lr: 0.0063\n",
      "Epoch 6/30\n",
      "817/817 [==============================] - 1s 2ms/step - loss: 0.2012 - auc: 0.9241 - val_loss: 0.2137 - val_auc: 0.9102 - lr: 0.0056\n",
      "Epoch 7/30\n",
      "817/817 [==============================] - 1s 2ms/step - loss: 0.1997 - auc: 0.9250 - val_loss: 0.2101 - val_auc: 0.9131 - lr: 0.0050\n",
      "Epoch 8/30\n",
      "817/817 [==============================] - 2s 2ms/step - loss: 0.1972 - auc: 0.9272 - val_loss: 0.2096 - val_auc: 0.9140 - lr: 0.0045\n",
      "Epoch 9/30\n",
      "817/817 [==============================] - 1s 2ms/step - loss: 0.1957 - auc: 0.9289 - val_loss: 0.2096 - val_auc: 0.9157 - lr: 0.0040\n",
      "Epoch 10/30\n",
      "817/817 [==============================] - 1s 1ms/step - loss: 0.1943 - auc: 0.9297 - val_loss: 0.2091 - val_auc: 0.9147 - lr: 0.0035\n",
      "Epoch 11/30\n",
      "817/817 [==============================] - 1s 1ms/step - loss: 0.1923 - auc: 0.9318 - val_loss: 0.2097 - val_auc: 0.9135 - lr: 0.0032\n",
      "Epoch 12/30\n",
      "817/817 [==============================] - 1s 2ms/step - loss: 0.1910 - auc: 0.9323 - val_loss: 0.2107 - val_auc: 0.9132 - lr: 0.0028\n",
      "Epoch 13/30\n",
      "817/817 [==============================] - 1s 2ms/step - loss: 0.1901 - auc: 0.9333 - val_loss: 0.2096 - val_auc: 0.9144 - lr: 0.0025\n",
      "Epoch 14/30\n",
      "817/817 [==============================] - 1s 1ms/step - loss: 0.1890 - auc: 0.9339 - val_loss: 0.2100 - val_auc: 0.9147 - lr: 0.0022\n",
      "Epoch 15/30\n",
      "817/817 [==============================] - 1s 2ms/step - loss: 0.1879 - auc: 0.9351 - val_loss: 0.2091 - val_auc: 0.9140 - lr: 0.0020\n",
      "Epoch 16/30\n",
      "817/817 [==============================] - 1s 2ms/step - loss: 0.1867 - auc: 0.9360 - val_loss: 0.2089 - val_auc: 0.9151 - lr: 0.0018\n",
      "Epoch 17/30\n",
      "817/817 [==============================] - 1s 2ms/step - loss: 0.1859 - auc: 0.9367 - val_loss: 0.2099 - val_auc: 0.9157 - lr: 0.0016\n",
      "Epoch 18/30\n",
      "817/817 [==============================] - 1s 2ms/step - loss: 0.1847 - auc: 0.9375 - val_loss: 0.2086 - val_auc: 0.9156 - lr: 0.0014\n",
      "Epoch 19/30\n",
      "817/817 [==============================] - 2s 2ms/step - loss: 0.1844 - auc: 0.9379 - val_loss: 0.2083 - val_auc: 0.9155 - lr: 0.0013\n"
     ]
    }
   ],
   "source": [
    "reset_session()\n",
    "\n",
    "model2 = tf.keras.models.Sequential()\n",
    "for n_hidden in (100, 100, 100, 100):\n",
    "    model2.add(tf.keras.layers.Dense(n_hidden, activation=\"swish\",\n",
    "                                 kernel_initializer=\"he_normal\"))\n",
    "model2.add(tf.keras.layers.Dense(1, activation=\"sigmoid\"))\n",
    "\n",
    "optimizer = tf.keras.optimizers.SGD(momentum=0.9, nesterov=True)\n",
    "early_stopping_cb = tf.keras.callbacks.EarlyStopping(patience=10,\n",
    "                                                  restore_best_weights=True,\n",
    "                                                  monitor=\"val_auc\", mode=\"max\")\n",
    "model2.compile(loss=\"binary_crossentropy\",\n",
    "              optimizer=optimizer,\n",
    "              metrics=[\"AUC\"])\n",
    "run = model2.fit(X_train, y_train, epochs=30,\n",
    "                validation_data=(X_valid, y_valid),\n",
    "                callbacks=[early_stopping_cb, lr_scheduler])"
   ]
  },
  {
   "cell_type": "code",
   "execution_count": 33,
   "metadata": {},
   "outputs": [
    {
     "data": {
      "image/png": "[encoded data removed]",
      "text/plain": [
       "<Figure size 800x500 with 1 Axes>"
      ]
     },
     "metadata": {},
     "output_type": "display_data"
    }
   ],
   "source": [
    "run_history = {key: run.history[key] for key in list(run.history.keys())[:-1]}\n",
    "pd.DataFrame(run_history).plot(figsize=(8, 5))\n",
    "plt.grid(True)\n",
    "plt.gca().set_ylim(0, 1)\n",
    "plt.show()"
   ]
  },
  {
   "cell_type": "markdown",
   "metadata": {},
   "source": [
    "Note: The chosen model is usually the model of the last epoch (not the one with the best validation AUC). But here using early stopping with the argument `restore_best_weights=True`, the chosen model rolls back to the epoch with the best validation AUC, which is not necessarily the last epoch. We evaluate the model, to help us get the result of the chosen model. Alternatively, you can search through the output above for the maximum validation AUC, but this is the same while being more efficient. The question does not require `restore_best_weights=True`, and if that is not set, then the chosen model is the last epoch."
   ]
  },
  {
   "cell_type": "code",
   "execution_count": 34,
   "metadata": {},
   "outputs": [
    {
     "name": "stdout",
     "output_type": "stream",
     "text": [
      "205/205 [==============================] - 0s 990us/step - loss: 0.2096 - auc: 0.9157\n"
     ]
    },
    {
     "data": {
      "text/plain": [
       "[0.20959684252738953, 0.9157267212867737]"
      ]
     },
     "execution_count": 34,
     "metadata": {},
     "output_type": "execute_result"
    }
   ],
   "source": [
    "model2.evaluate(X_valid, y_valid)"
   ]
  },
  {
   "cell_type": "markdown",
   "metadata": {},
   "source": [
    "Comment: Validation AUC in (b) is 0.9134. Here it is 0.9155. Better. (The learning curve above is not required by the question.)\n",
    "\n",
    "(iii) $\\ell_2$ regularization"
   ]
  },
  {
   "cell_type": "code",
   "execution_count": 35,
   "metadata": {},
   "outputs": [
    {
     "name": "stdout",
     "output_type": "stream",
     "text": [
      "Epoch 1/30\n",
      "817/817 [==============================] - 2s 1ms/step - loss: 0.4049 - auc: 0.8684 - val_loss: 0.3787 - val_auc: 0.8958 - lr: 0.0100\n",
      "Epoch 2/30\n",
      "817/817 [==============================] - 1s 2ms/step - loss: 0.3653 - auc: 0.9060 - val_loss: 0.3654 - val_auc: 0.8989 - lr: 0.0089\n",
      "Epoch 3/30\n",
      "817/817 [==============================] - 1s 2ms/step - loss: 0.3525 - auc: 0.9121 - val_loss: 0.3555 - val_auc: 0.9039 - lr: 0.0079\n",
      "Epoch 4/30\n",
      "817/817 [==============================] - 1s 2ms/step - loss: 0.3433 - auc: 0.9149 - val_loss: 0.3488 - val_auc: 0.9043 - lr: 0.0071\n",
      "Epoch 5/30\n",
      "817/817 [==============================] - 1s 2ms/step - loss: 0.3362 - auc: 0.9175 - val_loss: 0.3419 - val_auc: 0.9083 - lr: 0.0063\n",
      "Epoch 6/30\n",
      "817/817 [==============================] - 1s 1ms/step - loss: 0.3298 - auc: 0.9196 - val_loss: 0.3384 - val_auc: 0.9076 - lr: 0.0056\n",
      "Epoch 7/30\n",
      "817/817 [==============================] - 1s 1ms/step - loss: 0.3253 - auc: 0.9201 - val_loss: 0.3312 - val_auc: 0.9110 - lr: 0.0050\n",
      "Epoch 8/30\n",
      "817/817 [==============================] - 1s 2ms/step - loss: 0.3206 - auc: 0.9220 - val_loss: 0.3296 - val_auc: 0.9100 - lr: 0.0045\n",
      "Epoch 9/30\n",
      "817/817 [==============================] - 1s 2ms/step - loss: 0.3168 - auc: 0.9234 - val_loss: 0.3255 - val_auc: 0.9132 - lr: 0.0040\n",
      "Epoch 10/30\n",
      "817/817 [==============================] - 1s 2ms/step - loss: 0.3136 - auc: 0.9237 - val_loss: 0.3224 - val_auc: 0.9132 - lr: 0.0035\n",
      "Epoch 11/30\n",
      "817/817 [==============================] - 1s 1ms/step - loss: 0.3105 - auc: 0.9252 - val_loss: 0.3208 - val_auc: 0.9120 - lr: 0.0032\n",
      "Epoch 12/30\n",
      "817/817 [==============================] - 2s 2ms/step - loss: 0.3080 - auc: 0.9256 - val_loss: 0.3194 - val_auc: 0.9123 - lr: 0.0028\n",
      "Epoch 13/30\n",
      "817/817 [==============================] - 1s 1ms/step - loss: 0.3057 - auc: 0.9264 - val_loss: 0.3185 - val_auc: 0.9124 - lr: 0.0025\n",
      "Epoch 14/30\n",
      "817/817 [==============================] - 1s 2ms/step - loss: 0.3041 - auc: 0.9264 - val_loss: 0.3162 - val_auc: 0.9134 - lr: 0.0022\n",
      "Epoch 15/30\n",
      "817/817 [==============================] - 1s 1ms/step - loss: 0.3021 - auc: 0.9275 - val_loss: 0.3154 - val_auc: 0.9130 - lr: 0.0020\n",
      "Epoch 16/30\n",
      "817/817 [==============================] - 1s 2ms/step - loss: 0.3004 - auc: 0.9282 - val_loss: 0.3135 - val_auc: 0.9135 - lr: 0.0018\n",
      "Epoch 17/30\n",
      "817/817 [==============================] - 1s 2ms/step - loss: 0.2990 - auc: 0.9285 - val_loss: 0.3131 - val_auc: 0.9143 - lr: 0.0016\n",
      "Epoch 18/30\n",
      "817/817 [==============================] - 2s 2ms/step - loss: 0.2977 - auc: 0.9289 - val_loss: 0.3104 - val_auc: 0.9151 - lr: 0.0014\n",
      "Epoch 19/30\n",
      "817/817 [==============================] - 1s 2ms/step - loss: 0.2967 - auc: 0.9293 - val_loss: 0.3104 - val_auc: 0.9141 - lr: 0.0013\n",
      "Epoch 20/30\n",
      "817/817 [==============================] - 2s 2ms/step - loss: 0.2957 - auc: 0.9296 - val_loss: 0.3093 - val_auc: 0.9148 - lr: 0.0011\n",
      "Epoch 21/30\n",
      "817/817 [==============================] - 1s 2ms/step - loss: 0.2947 - auc: 0.9301 - val_loss: 0.3093 - val_auc: 0.9150 - lr: 0.0010\n",
      "Epoch 22/30\n",
      "817/817 [==============================] - 1s 2ms/step - loss: 0.2941 - auc: 0.9303 - val_loss: 0.3080 - val_auc: 0.9151 - lr: 8.9125e-04\n",
      "Epoch 23/30\n",
      "817/817 [==============================] - 1s 1ms/step - loss: 0.2933 - auc: 0.9306 - val_loss: 0.3085 - val_auc: 0.9144 - lr: 7.9433e-04\n",
      "Epoch 24/30\n",
      "817/817 [==============================] - 1s 1ms/step - loss: 0.2928 - auc: 0.9307 - val_loss: 0.3080 - val_auc: 0.9147 - lr: 7.0795e-04\n",
      "Epoch 25/30\n",
      "817/817 [==============================] - 1s 2ms/step - loss: 0.2922 - auc: 0.9308 - val_loss: 0.3068 - val_auc: 0.9158 - lr: 6.3096e-04\n",
      "Epoch 26/30\n",
      "817/817 [==============================] - 1s 2ms/step - loss: 0.2917 - auc: 0.9312 - val_loss: 0.3068 - val_auc: 0.9152 - lr: 5.6234e-04\n",
      "Epoch 27/30\n",
      "817/817 [==============================] - 1s 1ms/step - loss: 0.2912 - auc: 0.9313 - val_loss: 0.3066 - val_auc: 0.9153 - lr: 5.0119e-04\n",
      "Epoch 28/30\n",
      "817/817 [==============================] - 1s 2ms/step - loss: 0.2908 - auc: 0.9314 - val_loss: 0.3059 - val_auc: 0.9158 - lr: 4.4668e-04\n",
      "Epoch 29/30\n",
      "817/817 [==============================] - 1s 2ms/step - loss: 0.2905 - auc: 0.9314 - val_loss: 0.3061 - val_auc: 0.9158 - lr: 3.9811e-04\n",
      "Epoch 30/30\n",
      "817/817 [==============================] - 1s 2ms/step - loss: 0.2901 - auc: 0.9318 - val_loss: 0.3059 - val_auc: 0.9156 - lr: 3.5481e-04\n"
     ]
    }
   ],
   "source": [
    "reset_session()\n",
    "\n",
    "model3 = tf.keras.models.Sequential()\n",
    "for n_hidden in (100, 100, 100, 100):\n",
    "    model3.add(tf.keras.layers.Dense(n_hidden, activation=\"swish\",\n",
    "                                 kernel_initializer=\"he_normal\",\n",
    "                                 kernel_regularizer=tf.keras.regularizers.l2(0.0002)))\n",
    "model3.add(tf.keras.layers.Dense(1, activation=\"sigmoid\",\n",
    "                             kernel_regularizer=tf.keras.regularizers.l2(0.0002)))\n",
    "\n",
    "optimizer = tf.keras.optimizers.SGD(momentum=0.9, nesterov=True)\n",
    "model3.compile(loss=\"binary_crossentropy\",\n",
    "              optimizer=optimizer,\n",
    "              metrics=[\"AUC\"])\n",
    "run = model3.fit(X_train, y_train, epochs=30,\n",
    "                validation_data=(X_valid, y_valid),\n",
    "                callbacks=[lr_scheduler])"
   ]
  },
  {
   "cell_type": "code",
   "execution_count": 36,
   "metadata": {},
   "outputs": [
    {
     "data": {
      "image/png": "[encoded data removed]",
      "text/plain": [
       "<Figure size 800x500 with 1 Axes>"
      ]
     },
     "metadata": {},
     "output_type": "display_data"
    }
   ],
   "source": [
    "run_history = {key: run.history[key] for key in list(run.history.keys())[:-1]}\n",
    "pd.DataFrame(run_history).plot(figsize=(8, 5))\n",
    "plt.grid(True)\n",
    "plt.gca().set_ylim(0, 1)\n",
    "plt.show()"
   ]
  },
  {
   "cell_type": "markdown",
   "metadata": {},
   "source": [
    "Comment: Validation AUC in (b) is 0.91434. Here it is 0.9157. Better. (The learning curve above is not required by the question.)\n",
    "\n",
    "(iv) Dropout"
   ]
  },
  {
   "cell_type": "code",
   "execution_count": 37,
   "metadata": {},
   "outputs": [
    {
     "name": "stdout",
     "output_type": "stream",
     "text": [
      "Epoch 1/30\n",
      "817/817 [==============================] - 2s 2ms/step - loss: 0.2475 - auc: 0.8720 - val_loss: 0.2277 - val_auc: 0.8969 - lr: 0.0100\n",
      "Epoch 2/30\n",
      "817/817 [==============================] - 2s 2ms/step - loss: 0.2236 - auc: 0.9006 - val_loss: 0.2202 - val_auc: 0.9040 - lr: 0.0089\n",
      "Epoch 3/30\n",
      "817/817 [==============================] - 2s 3ms/step - loss: 0.2181 - auc: 0.9066 - val_loss: 0.2166 - val_auc: 0.9068 - lr: 0.0079\n",
      "Epoch 4/30\n",
      "817/817 [==============================] - 2s 2ms/step - loss: 0.2147 - auc: 0.9100 - val_loss: 0.2161 - val_auc: 0.9073 - lr: 0.0071\n",
      "Epoch 5/30\n",
      "817/817 [==============================] - 2s 2ms/step - loss: 0.2116 - auc: 0.9137 - val_loss: 0.2129 - val_auc: 0.9116 - lr: 0.0063\n",
      "Epoch 6/30\n",
      "817/817 [==============================] - 2s 2ms/step - loss: 0.2109 - auc: 0.9139 - val_loss: 0.2149 - val_auc: 0.9108 - lr: 0.0056\n",
      "Epoch 7/30\n",
      "817/817 [==============================] - 2s 2ms/step - loss: 0.2095 - auc: 0.9149 - val_loss: 0.2105 - val_auc: 0.9142 - lr: 0.0050\n",
      "Epoch 8/30\n",
      "817/817 [==============================] - 2s 2ms/step - loss: 0.2056 - auc: 0.9192 - val_loss: 0.2103 - val_auc: 0.9144 - lr: 0.0045\n",
      "Epoch 9/30\n",
      "817/817 [==============================] - 2s 2ms/step - loss: 0.2053 - auc: 0.9195 - val_loss: 0.2087 - val_auc: 0.9160 - lr: 0.0040\n",
      "Epoch 10/30\n",
      "817/817 [==============================] - 2s 2ms/step - loss: 0.2035 - auc: 0.9210 - val_loss: 0.2084 - val_auc: 0.9168 - lr: 0.0035\n",
      "Epoch 11/30\n",
      "817/817 [==============================] - 2s 2ms/step - loss: 0.2022 - auc: 0.9229 - val_loss: 0.2084 - val_auc: 0.9164 - lr: 0.0032\n",
      "Epoch 12/30\n",
      "817/817 [==============================] - 2s 2ms/step - loss: 0.2029 - auc: 0.9215 - val_loss: 0.2080 - val_auc: 0.9165 - lr: 0.0028\n",
      "Epoch 13/30\n",
      "817/817 [==============================] - 2s 2ms/step - loss: 0.2010 - auc: 0.9235 - val_loss: 0.2080 - val_auc: 0.9168 - lr: 0.0025\n",
      "Epoch 14/30\n",
      "817/817 [==============================] - 2s 2ms/step - loss: 0.1997 - auc: 0.9241 - val_loss: 0.2076 - val_auc: 0.9173 - lr: 0.0022\n",
      "Epoch 15/30\n",
      "817/817 [==============================] - 2s 2ms/step - loss: 0.1977 - auc: 0.9266 - val_loss: 0.2080 - val_auc: 0.9173 - lr: 0.0020\n",
      "Epoch 16/30\n",
      "817/817 [==============================] - 2s 2ms/step - loss: 0.1982 - auc: 0.9255 - val_loss: 0.2075 - val_auc: 0.9176 - lr: 0.0018\n",
      "Epoch 17/30\n",
      "817/817 [==============================] - 2s 2ms/step - loss: 0.2000 - auc: 0.9240 - val_loss: 0.2079 - val_auc: 0.9175 - lr: 0.0016\n",
      "Epoch 18/30\n",
      "817/817 [==============================] - 2s 2ms/step - loss: 0.1980 - auc: 0.9258 - val_loss: 0.2068 - val_auc: 0.9183 - lr: 0.0014\n",
      "Epoch 19/30\n",
      "817/817 [==============================] - 2s 2ms/step - loss: 0.1980 - auc: 0.9259 - val_loss: 0.2065 - val_auc: 0.9182 - lr: 0.0013\n",
      "Epoch 20/30\n",
      "817/817 [==============================] - 2s 2ms/step - loss: 0.1970 - auc: 0.9266 - val_loss: 0.2064 - val_auc: 0.9187 - lr: 0.0011\n",
      "Epoch 21/30\n",
      "817/817 [==============================] - 2s 2ms/step - loss: 0.1963 - auc: 0.9275 - val_loss: 0.2064 - val_auc: 0.9192 - lr: 0.0010\n",
      "Epoch 22/30\n",
      "817/817 [==============================] - 2s 2ms/step - loss: 0.1954 - auc: 0.9280 - val_loss: 0.2063 - val_auc: 0.9190 - lr: 8.9125e-04\n",
      "Epoch 23/30\n",
      "817/817 [==============================] - 2s 2ms/step - loss: 0.1954 - auc: 0.9285 - val_loss: 0.2067 - val_auc: 0.9186 - lr: 7.9433e-04\n",
      "Epoch 24/30\n",
      "817/817 [==============================] - 2s 2ms/step - loss: 0.1948 - auc: 0.9288 - val_loss: 0.2068 - val_auc: 0.9185 - lr: 7.0795e-04\n",
      "Epoch 25/30\n",
      "817/817 [==============================] - 2s 2ms/step - loss: 0.1945 - auc: 0.9287 - val_loss: 0.2064 - val_auc: 0.9186 - lr: 6.3096e-04\n",
      "Epoch 26/30\n",
      "817/817 [==============================] - 2s 2ms/step - loss: 0.1945 - auc: 0.9286 - val_loss: 0.2065 - val_auc: 0.9189 - lr: 5.6234e-04\n",
      "Epoch 27/30\n",
      "817/817 [==============================] - 2s 2ms/step - loss: 0.1944 - auc: 0.9292 - val_loss: 0.2065 - val_auc: 0.9186 - lr: 5.0119e-04\n",
      "Epoch 28/30\n",
      "817/817 [==============================] - 2s 2ms/step - loss: 0.1948 - auc: 0.9285 - val_loss: 0.2061 - val_auc: 0.9191 - lr: 4.4668e-04\n",
      "Epoch 29/30\n",
      "817/817 [==============================] - 2s 2ms/step - loss: 0.1952 - auc: 0.9282 - val_loss: 0.2061 - val_auc: 0.9192 - lr: 3.9811e-04\n",
      "Epoch 30/30\n",
      "817/817 [==============================] - 2s 3ms/step - loss: 0.1938 - auc: 0.9299 - val_loss: 0.2063 - val_auc: 0.9191 - lr: 3.5481e-04\n"
     ]
    }
   ],
   "source": [
    "reset_session()\n",
    "\n",
    "model4 = tf.keras.models.Sequential()\n",
    "model4.add(tf.keras.layers.Dropout(rate=0.02))\n",
    "for n_hidden in (100, 100, 100, 100):\n",
    "    model4.add(tf.keras.layers.Dense(n_hidden, activation=\"swish\",\n",
    "                                 kernel_initializer=\"he_normal\"))\n",
    "    model4.add(tf.keras.layers.Dropout(rate=0.02))\n",
    "model4.add(tf.keras.layers.Dense(1, activation=\"sigmoid\"))\n",
    "\n",
    "optimizer = tf.keras.optimizers.SGD(momentum=0.9, nesterov=True)\n",
    "model4.compile(loss=\"binary_crossentropy\",\n",
    "              optimizer=optimizer,\n",
    "              metrics=[\"AUC\"])\n",
    "run = model4.fit(X_train, y_train, epochs=30,\n",
    "                validation_data=(X_valid, y_valid),\n",
    "                callbacks=[lr_scheduler])"
   ]
  },
  {
   "cell_type": "markdown",
   "metadata": {},
   "source": [
    "Comment: Validation AUC in (b) is 0.9134. Here it is 0.9191. Better.\n",
    "\n",
    "(v) $\\ell_2$ regularization and early stopping"
   ]
  },
  {
   "cell_type": "code",
   "execution_count": 38,
   "metadata": {},
   "outputs": [
    {
     "name": "stdout",
     "output_type": "stream",
     "text": [
      "Epoch 1/30\n",
      "817/817 [==============================] - 2s 2ms/step - loss: 0.3955 - auc: 0.8802 - val_loss: 0.3792 - val_auc: 0.8944 - lr: 0.0100\n",
      "Epoch 2/30\n",
      "817/817 [==============================] - 1s 1ms/step - loss: 0.3643 - auc: 0.9068 - val_loss: 0.3646 - val_auc: 0.9003 - lr: 0.0089\n",
      "Epoch 3/30\n",
      "817/817 [==============================] - 1s 1ms/step - loss: 0.3520 - auc: 0.9121 - val_loss: 0.3564 - val_auc: 0.9030 - lr: 0.0079\n",
      "Epoch 4/30\n",
      "817/817 [==============================] - 1s 1ms/step - loss: 0.3429 - auc: 0.9151 - val_loss: 0.3479 - val_auc: 0.9056 - lr: 0.0071\n",
      "Epoch 5/30\n",
      "817/817 [==============================] - 1s 2ms/step - loss: 0.3356 - auc: 0.9180 - val_loss: 0.3404 - val_auc: 0.9095 - lr: 0.0063\n",
      "Epoch 6/30\n",
      "817/817 [==============================] - 2s 2ms/step - loss: 0.3293 - auc: 0.9200 - val_loss: 0.3375 - val_auc: 0.9096 - lr: 0.0056\n",
      "Epoch 7/30\n",
      "817/817 [==============================] - 1s 1ms/step - loss: 0.3245 - auc: 0.9206 - val_loss: 0.3301 - val_auc: 0.9120 - lr: 0.0050\n",
      "Epoch 8/30\n",
      "817/817 [==============================] - 2s 2ms/step - loss: 0.3197 - auc: 0.9224 - val_loss: 0.3265 - val_auc: 0.9122 - lr: 0.0045\n",
      "Epoch 9/30\n",
      "817/817 [==============================] - 2s 2ms/step - loss: 0.3160 - auc: 0.9237 - val_loss: 0.3236 - val_auc: 0.9148 - lr: 0.0040\n",
      "Epoch 10/30\n",
      "817/817 [==============================] - 1s 2ms/step - loss: 0.3129 - auc: 0.9240 - val_loss: 0.3209 - val_auc: 0.9145 - lr: 0.0035\n",
      "Epoch 11/30\n",
      "817/817 [==============================] - 1s 2ms/step - loss: 0.3097 - auc: 0.9255 - val_loss: 0.3180 - val_auc: 0.9145 - lr: 0.0032\n",
      "Epoch 12/30\n",
      "817/817 [==============================] - 1s 2ms/step - loss: 0.3072 - auc: 0.9259 - val_loss: 0.3189 - val_auc: 0.9128 - lr: 0.0028\n",
      "Epoch 13/30\n",
      "817/817 [==============================] - 2s 2ms/step - loss: 0.3052 - auc: 0.9264 - val_loss: 0.3154 - val_auc: 0.9145 - lr: 0.0025\n",
      "Epoch 14/30\n",
      "817/817 [==============================] - 1s 1ms/step - loss: 0.3033 - auc: 0.9269 - val_loss: 0.3142 - val_auc: 0.9150 - lr: 0.0022\n",
      "Epoch 15/30\n",
      "817/817 [==============================] - 1s 2ms/step - loss: 0.3016 - auc: 0.9275 - val_loss: 0.3131 - val_auc: 0.9138 - lr: 0.0020\n",
      "Epoch 16/30\n",
      "817/817 [==============================] - 1s 2ms/step - loss: 0.2999 - auc: 0.9283 - val_loss: 0.3116 - val_auc: 0.9149 - lr: 0.0018\n",
      "Epoch 17/30\n",
      "817/817 [==============================] - 1s 2ms/step - loss: 0.2987 - auc: 0.9283 - val_loss: 0.3116 - val_auc: 0.9148 - lr: 0.0016\n",
      "Epoch 18/30\n",
      "817/817 [==============================] - 1s 2ms/step - loss: 0.2974 - auc: 0.9286 - val_loss: 0.3086 - val_auc: 0.9157 - lr: 0.0014\n",
      "Epoch 19/30\n",
      "817/817 [==============================] - 1s 2ms/step - loss: 0.2964 - auc: 0.9290 - val_loss: 0.3079 - val_auc: 0.9155 - lr: 0.0013\n",
      "Epoch 20/30\n",
      "817/817 [==============================] - 1s 1ms/step - loss: 0.2955 - auc: 0.9291 - val_loss: 0.3073 - val_auc: 0.9164 - lr: 0.0011\n",
      "Epoch 21/30\n",
      "817/817 [==============================] - 1s 2ms/step - loss: 0.2945 - auc: 0.9296 - val_loss: 0.3072 - val_auc: 0.9155 - lr: 0.0010\n",
      "Epoch 22/30\n",
      "817/817 [==============================] - 1s 2ms/step - loss: 0.2938 - auc: 0.9297 - val_loss: 0.3062 - val_auc: 0.9162 - lr: 8.9125e-04\n",
      "Epoch 23/30\n",
      "817/817 [==============================] - 1s 2ms/step - loss: 0.2932 - auc: 0.9300 - val_loss: 0.3063 - val_auc: 0.9154 - lr: 7.9433e-04\n",
      "Epoch 24/30\n",
      "817/817 [==============================] - 1s 1ms/step - loss: 0.2927 - auc: 0.9301 - val_loss: 0.3060 - val_auc: 0.9154 - lr: 7.0795e-04\n",
      "Epoch 25/30\n",
      "817/817 [==============================] - 1s 2ms/step - loss: 0.2921 - auc: 0.9302 - val_loss: 0.3048 - val_auc: 0.9159 - lr: 6.3096e-04\n",
      "Epoch 26/30\n",
      "817/817 [==============================] - 1s 2ms/step - loss: 0.2917 - auc: 0.9303 - val_loss: 0.3052 - val_auc: 0.9159 - lr: 5.6234e-04\n",
      "Epoch 27/30\n",
      "817/817 [==============================] - 1s 2ms/step - loss: 0.2912 - auc: 0.9304 - val_loss: 0.3049 - val_auc: 0.9159 - lr: 5.0119e-04\n",
      "Epoch 28/30\n",
      "817/817 [==============================] - 1s 2ms/step - loss: 0.2908 - auc: 0.9308 - val_loss: 0.3042 - val_auc: 0.9163 - lr: 4.4668e-04\n",
      "Epoch 29/30\n",
      "817/817 [==============================] - 1s 2ms/step - loss: 0.2905 - auc: 0.9308 - val_loss: 0.3040 - val_auc: 0.9162 - lr: 3.9811e-04\n",
      "Epoch 30/30\n",
      "817/817 [==============================] - 2s 2ms/step - loss: 0.2902 - auc: 0.9309 - val_loss: 0.3042 - val_auc: 0.9158 - lr: 3.5481e-04\n"
     ]
    }
   ],
   "source": [
    "reset_session()\n",
    "\n",
    "model5 = tf.keras.models.Sequential()\n",
    "for n_hidden in (100, 100, 100, 100):\n",
    "    model5.add(tf.keras.layers.Dense(n_hidden, activation=\"swish\",\n",
    "                                 kernel_initializer=\"he_normal\",\n",
    "                                 kernel_regularizer=tf.keras.regularizers.l2(0.0002)))\n",
    "model5.add(tf.keras.layers.Dense(1, activation=\"sigmoid\",\n",
    "                             kernel_regularizer=tf.keras.regularizers.l2(0.0002)))\n",
    "\n",
    "optimizer = tf.keras.optimizers.SGD(momentum=0.9, nesterov=True)\n",
    "early_stopping_cb = tf.keras.callbacks.EarlyStopping(patience=10,\n",
    "                                                  restore_best_weights=True,\n",
    "                                                  monitor=\"val_auc\", mode=\"max\")\n",
    "model5.compile(loss=\"binary_crossentropy\",\n",
    "              optimizer=optimizer,\n",
    "              metrics=[\"AUC\"])\n",
    "run = model5.fit(X_train, y_train, epochs=30,\n",
    "                validation_data=(X_valid, y_valid),\n",
    "                callbacks=[early_stopping_cb, lr_scheduler])"
   ]
  },
  {
   "cell_type": "code",
   "execution_count": 39,
   "metadata": {},
   "outputs": [
    {
     "data": {
      "image/png": "[encoded data removed]",
      "text/plain": [
       "<Figure size 800x500 with 1 Axes>"
      ]
     },
     "metadata": {},
     "output_type": "display_data"
    }
   ],
   "source": [
    "run_history = {key: run.history[key] for key in list(run.history.keys())[:-1]}\n",
    "pd.DataFrame(run_history).plot(figsize=(8, 5))\n",
    "plt.grid(True)\n",
    "plt.gca().set_ylim(0, 1)\n",
    "plt.show()"
   ]
  },
  {
   "cell_type": "code",
   "execution_count": 40,
   "metadata": {},
   "outputs": [
    {
     "name": "stdout",
     "output_type": "stream",
     "text": [
      "205/205 [==============================] - 0s 1ms/step - loss: 0.3073 - auc: 0.9164\n"
     ]
    },
    {
     "data": {
      "text/plain": [
       "[0.3073156774044037, 0.9164204597473145]"
      ]
     },
     "execution_count": 40,
     "metadata": {},
     "output_type": "execute_result"
    }
   ],
   "source": [
    "model5.evaluate(X_valid, y_valid)"
   ]
  },
  {
   "cell_type": "markdown",
   "metadata": {},
   "source": [
    "Comment: Validation AUC in (c) is 0.9191. Here it is 0.9158. Worse. (The learning curve above is not required by the question.)\n",
    "\n",
    "(vi) Batch normalization and dropout (you can try either order)."
   ]
  },
  {
   "cell_type": "code",
   "execution_count": 41,
   "metadata": {},
   "outputs": [
    {
     "name": "stdout",
     "output_type": "stream",
     "text": [
      "Epoch 1/30\n",
      "817/817 [==============================] - 3s 2ms/step - loss: 0.2930 - auc: 0.8088 - val_loss: 0.2395 - val_auc: 0.8847 - lr: 0.0100\n",
      "Epoch 2/30\n",
      "817/817 [==============================] - 2s 3ms/step - loss: 0.2527 - auc: 0.8653 - val_loss: 0.2328 - val_auc: 0.8888 - lr: 0.0089\n",
      "Epoch 3/30\n",
      "817/817 [==============================] - 2s 3ms/step - loss: 0.2496 - auc: 0.8704 - val_loss: 0.2312 - val_auc: 0.8920 - lr: 0.0079\n",
      "Epoch 4/30\n",
      "817/817 [==============================] - 2s 3ms/step - loss: 0.2442 - auc: 0.8779 - val_loss: 0.2303 - val_auc: 0.8953 - lr: 0.0071\n",
      "Epoch 5/30\n",
      "817/817 [==============================] - 2s 2ms/step - loss: 0.2417 - auc: 0.8804 - val_loss: 0.2266 - val_auc: 0.8974 - lr: 0.0063\n",
      "Epoch 6/30\n",
      "817/817 [==============================] - 2s 3ms/step - loss: 0.2418 - auc: 0.8803 - val_loss: 0.2266 - val_auc: 0.8984 - lr: 0.0056\n",
      "Epoch 7/30\n",
      "817/817 [==============================] - 2s 2ms/step - loss: 0.2404 - auc: 0.8824 - val_loss: 0.2253 - val_auc: 0.8984 - lr: 0.0050\n",
      "Epoch 8/30\n",
      "817/817 [==============================] - 2s 3ms/step - loss: 0.2387 - auc: 0.8847 - val_loss: 0.2256 - val_auc: 0.9005 - lr: 0.0045\n",
      "Epoch 9/30\n",
      "817/817 [==============================] - 2s 3ms/step - loss: 0.2362 - auc: 0.8876 - val_loss: 0.2233 - val_auc: 0.9008 - lr: 0.0040\n",
      "Epoch 10/30\n",
      "817/817 [==============================] - 2s 2ms/step - loss: 0.2362 - auc: 0.8876 - val_loss: 0.2221 - val_auc: 0.9020 - lr: 0.0035\n",
      "Epoch 11/30\n",
      "817/817 [==============================] - 2s 2ms/step - loss: 0.2337 - auc: 0.8909 - val_loss: 0.2214 - val_auc: 0.9030 - lr: 0.0032\n",
      "Epoch 12/30\n",
      "817/817 [==============================] - 2s 3ms/step - loss: 0.2345 - auc: 0.8901 - val_loss: 0.2206 - val_auc: 0.9034 - lr: 0.0028\n",
      "Epoch 13/30\n",
      "817/817 [==============================] - 2s 3ms/step - loss: 0.2333 - auc: 0.8914 - val_loss: 0.2189 - val_auc: 0.9055 - lr: 0.0025\n",
      "Epoch 14/30\n",
      "817/817 [==============================] - 2s 2ms/step - loss: 0.2327 - auc: 0.8919 - val_loss: 0.2205 - val_auc: 0.9055 - lr: 0.0022\n",
      "Epoch 15/30\n",
      "817/817 [==============================] - 2s 2ms/step - loss: 0.2307 - auc: 0.8942 - val_loss: 0.2194 - val_auc: 0.9053 - lr: 0.0020\n",
      "Epoch 16/30\n",
      "817/817 [==============================] - 2s 2ms/step - loss: 0.2325 - auc: 0.8920 - val_loss: 0.2197 - val_auc: 0.9055 - lr: 0.0018\n",
      "Epoch 17/30\n",
      "817/817 [==============================] - 2s 3ms/step - loss: 0.2333 - auc: 0.8913 - val_loss: 0.2181 - val_auc: 0.9060 - lr: 0.0016\n",
      "Epoch 18/30\n",
      "817/817 [==============================] - 2s 3ms/step - loss: 0.2309 - auc: 0.8940 - val_loss: 0.2195 - val_auc: 0.9055 - lr: 0.0014\n",
      "Epoch 19/30\n",
      "817/817 [==============================] - 2s 3ms/step - loss: 0.2320 - auc: 0.8922 - val_loss: 0.2188 - val_auc: 0.9063 - lr: 0.0013\n",
      "Epoch 20/30\n",
      "817/817 [==============================] - 2s 3ms/step - loss: 0.2329 - auc: 0.8916 - val_loss: 0.2192 - val_auc: 0.9062 - lr: 0.0011\n",
      "Epoch 21/30\n",
      "817/817 [==============================] - 2s 2ms/step - loss: 0.2319 - auc: 0.8919 - val_loss: 0.2184 - val_auc: 0.9069 - lr: 0.0010\n",
      "Epoch 22/30\n",
      "817/817 [==============================] - 2s 2ms/step - loss: 0.2310 - auc: 0.8931 - val_loss: 0.2181 - val_auc: 0.9063 - lr: 8.9125e-04\n",
      "Epoch 23/30\n",
      "817/817 [==============================] - 2s 2ms/step - loss: 0.2296 - auc: 0.8952 - val_loss: 0.2169 - val_auc: 0.9071 - lr: 7.9433e-04\n",
      "Epoch 24/30\n",
      "817/817 [==============================] - 2s 3ms/step - loss: 0.2297 - auc: 0.8946 - val_loss: 0.2167 - val_auc: 0.9075 - lr: 7.0795e-04\n",
      "Epoch 25/30\n",
      "817/817 [==============================] - 2s 3ms/step - loss: 0.2314 - auc: 0.8929 - val_loss: 0.2168 - val_auc: 0.9075 - lr: 6.3096e-04\n",
      "Epoch 26/30\n",
      "817/817 [==============================] - 2s 2ms/step - loss: 0.2300 - auc: 0.8942 - val_loss: 0.2174 - val_auc: 0.9076 - lr: 5.6234e-04\n",
      "Epoch 27/30\n",
      "817/817 [==============================] - 2s 2ms/step - loss: 0.2283 - auc: 0.8971 - val_loss: 0.2166 - val_auc: 0.9082 - lr: 5.0119e-04\n",
      "Epoch 28/30\n",
      "817/817 [==============================] - 2s 2ms/step - loss: 0.2324 - auc: 0.8916 - val_loss: 0.2170 - val_auc: 0.9077 - lr: 4.4668e-04\n",
      "Epoch 29/30\n",
      "817/817 [==============================] - 2s 2ms/step - loss: 0.2275 - auc: 0.8973 - val_loss: 0.2165 - val_auc: 0.9081 - lr: 3.9811e-04\n",
      "Epoch 30/30\n",
      "817/817 [==============================] - 2s 2ms/step - loss: 0.2296 - auc: 0.8952 - val_loss: 0.2165 - val_auc: 0.9083 - lr: 3.5481e-04\n"
     ]
    }
   ],
   "source": [
    "reset_session()\n",
    "\n",
    "model6 = tf.keras.models.Sequential()\n",
    "model6.add(tf.keras.layers.BatchNormalization())\n",
    "model6.add(tf.keras.layers.Dropout(rate=0.02))\n",
    "for n_hidden in (100, 100, 100, 100):\n",
    "    model6.add(tf.keras.layers.Dense(n_hidden, activation=\"swish\",\n",
    "                                 kernel_initializer=\"he_normal\"))\n",
    "    model6.add(tf.keras.layers.BatchNormalization())\n",
    "    model6.add(tf.keras.layers.Dropout(rate=0.2))\n",
    "model6.add(tf.keras.layers.Dense(1, activation=\"sigmoid\"))\n",
    "\n",
    "optimizer = tf.keras.optimizers.SGD(momentum=0.9, nesterov=True)\n",
    "model6.compile(loss=\"binary_crossentropy\",\n",
    "              optimizer=optimizer,\n",
    "              metrics=[\"AUC\"])\n",
    "run = model6.fit(X_train, y_train, epochs=30,\n",
    "                validation_data=(X_valid, y_valid),\n",
    "                callbacks=[lr_scheduler])"
   ]
  },
  {
   "cell_type": "markdown",
   "metadata": {},
   "source": [
    "Comment: Validation AUC in (c) is 0.9191. Here it is 0.9083. Worse."
   ]
  },
  {
   "cell_type": "markdown",
   "metadata": {},
   "source": [
    "## (d) [1 mark]\n",
    "\n",
    "For the dropout model in (c)(iv) determine whether or not it is overfitting less than the model in (b)."
   ]
  },
  {
   "cell_type": "markdown",
   "metadata": {},
   "source": [
    "**Solution**"
   ]
  },
  {
   "cell_type": "markdown",
   "metadata": {},
   "source": [
    "Recall that the learning curve is misleading for model (c)(iv) with dropout. We directly evaluate the model on the training and validation set."
   ]
  },
  {
   "cell_type": "code",
   "execution_count": 42,
   "metadata": {},
   "outputs": [
    {
     "name": "stdout",
     "output_type": "stream",
     "text": [
      "817/817 [==============================] - 1s 920us/step - loss: 0.1855 - auc: 0.9374\n"
     ]
    },
    {
     "data": {
      "text/plain": [
       "[0.18552348017692566, 0.937365710735321]"
      ]
     },
     "execution_count": 42,
     "metadata": {},
     "output_type": "execute_result"
    }
   ],
   "source": [
    "model4.evaluate(X_train, y_train)"
   ]
  },
  {
   "cell_type": "code",
   "execution_count": 43,
   "metadata": {},
   "outputs": [
    {
     "name": "stdout",
     "output_type": "stream",
     "text": [
      "205/205 [==============================] - 0s 946us/step - loss: 0.2063 - auc: 0.9191\n"
     ]
    },
    {
     "data": {
      "text/plain": [
       "[0.20631392300128937, 0.9191310405731201]"
      ]
     },
     "execution_count": 43,
     "metadata": {},
     "output_type": "execute_result"
    }
   ],
   "source": [
    "model4.evaluate(X_valid, y_valid)"
   ]
  },
  {
   "cell_type": "code",
   "execution_count": 45,
   "metadata": {},
   "outputs": [
    {
     "name": "stdout",
     "output_type": "stream",
     "text": [
      "817/817 [==============================] - 1s 867us/step - loss: 0.1789 - auc: 0.9420\n"
     ]
    },
    {
     "data": {
      "text/plain": [
       "[0.17887094616889954, 0.9419904947280884]"
      ]
     },
     "execution_count": 45,
     "metadata": {},
     "output_type": "execute_result"
    }
   ],
   "source": [
    "model.evaluate(X_train,y_train)"
   ]
  },
  {
   "cell_type": "code",
   "execution_count": 44,
   "metadata": {},
   "outputs": [
    {
     "name": "stdout",
     "output_type": "stream",
     "text": [
      "205/205 [==============================] - 0s 1ms/step - loss: 0.2143 - auc: 0.9134\n"
     ]
    },
    {
     "data": {
      "text/plain": [
       "[0.21433889865875244, 0.9134425520896912]"
      ]
     },
     "execution_count": 44,
     "metadata": {},
     "output_type": "execute_result"
    }
   ],
   "source": [
    "model.evaluate(X_valid,y_valid)"
   ]
  },
  {
   "cell_type": "markdown",
   "metadata": {},
   "source": [
    "The model is overfitting less than the model in (b) (it is still overfitting).\n",
    "\n",
    "You can try higher values for the dropout rate which will reduce overfitting, but it may lead to a worse overall model if it reduces the validation AUC. Also, this is not as badly overfitting as (c)."
   ]
  },
  {
   "cell_type": "markdown",
   "metadata": {},
   "source": [
    "## (e) [1 mark]\n",
    "\n",
    "Of the models in (b) and (c), one would now choose the best model according to the performance metric (validation AUC) to evaluate on the test set. But instead, evaluate the model in (c)(v) on the test set in terms of the AUC and confusion matrix (regardless of whether it is the best model given your results)."
   ]
  },
  {
   "cell_type": "markdown",
   "metadata": {},
   "source": [
    "**Solution**"
   ]
  },
  {
   "cell_type": "markdown",
   "metadata": {},
   "source": [
    "We evaluate the model in (c)(v) on the test set."
   ]
  },
  {
   "cell_type": "code",
   "execution_count": 46,
   "metadata": {},
   "outputs": [
    {
     "name": "stdout",
     "output_type": "stream",
     "text": [
      "256/256 [==============================] - 0s 1ms/step - loss: 0.3072 - auc: 0.9289\n"
     ]
    },
    {
     "data": {
      "text/plain": [
       "[0.3072129487991333, 0.9289228916168213]"
      ]
     },
     "execution_count": 46,
     "metadata": {},
     "output_type": "execute_result"
    }
   ],
   "source": [
    "model5.evaluate(X_test, y_test)"
   ]
  },
  {
   "cell_type": "markdown",
   "metadata": {},
   "source": [
    "On the test set, `model5` has AUC 0.9277. The confusion matrix on the test set is given below."
   ]
  },
  {
   "cell_type": "code",
   "execution_count": 47,
   "metadata": {},
   "outputs": [
    {
     "name": "stdout",
     "output_type": "stream",
     "text": [
      "256/256 [==============================] - 0s 733us/step\n"
     ]
    },
    {
     "data": {
      "text/plain": [
       "array([[6928,  238],\n",
       "       [ 534,  469]], dtype=int64)"
      ]
     },
     "execution_count": 47,
     "metadata": {},
     "output_type": "execute_result"
    }
   ],
   "source": [
    "from sklearn.metrics import confusion_matrix\n",
    "\n",
    "y_pred = (model5.predict(X_test) >= 0.5)\n",
    "confusion_matrix(y_test, y_pred)"
   ]
  },
  {
   "cell_type": "markdown",
   "metadata": {},
   "source": [
    "Extra: This is not required by the question, but we can look at the confusion matrix to see that almost all failures (class 0) are correctly classified since they make up about 90% of the sample, while more than half of the successes (class 1) are incorrectly classified. Since successes are about 10% of the instances, we can try to up-weight them in the DNN by setting the sample weight to $(1/\\text{frquence})^{\\alpha}$ ($\\alpha=0.8$ for instance, this can be tuned if you want the best possible performance) using the `class_weight` argument. This results in more successes correctly classified at the expense of more failures incorrectly classified, and an overall higher AUC of 0.9322 on the test set."
   ]
  },
  {
   "cell_type": "code",
   "execution_count": 48,
   "metadata": {},
   "outputs": [
    {
     "name": "stdout",
     "output_type": "stream",
     "text": [
      "Epoch 1/30\n",
      "817/817 [==============================] - 2s 2ms/step - loss: 0.8264 - auc: 0.8879 - val_loss: 0.5283 - val_auc: 0.9041 - lr: 0.0100\n",
      "Epoch 2/30\n",
      "817/817 [==============================] - 2s 2ms/step - loss: 0.7444 - auc: 0.9113 - val_loss: 0.5048 - val_auc: 0.9079 - lr: 0.0089\n",
      "Epoch 3/30\n",
      "817/817 [==============================] - 1s 2ms/step - loss: 0.7167 - auc: 0.9176 - val_loss: 0.4273 - val_auc: 0.9128 - lr: 0.0079\n",
      "Epoch 4/30\n",
      "817/817 [==============================] - 1s 2ms/step - loss: 0.6978 - auc: 0.9216 - val_loss: 0.4669 - val_auc: 0.9133 - lr: 0.0071\n",
      "Epoch 5/30\n",
      "817/817 [==============================] - 1s 2ms/step - loss: 0.6831 - auc: 0.9248 - val_loss: 0.4259 - val_auc: 0.9156 - lr: 0.0063\n",
      "Epoch 6/30\n",
      "817/817 [==============================] - 1s 2ms/step - loss: 0.6711 - auc: 0.9265 - val_loss: 0.4789 - val_auc: 0.9136 - lr: 0.0056\n",
      "Epoch 7/30\n",
      "817/817 [==============================] - 2s 2ms/step - loss: 0.6623 - auc: 0.9286 - val_loss: 0.4325 - val_auc: 0.9165 - lr: 0.0050\n",
      "Epoch 8/30\n",
      "817/817 [==============================] - 1s 2ms/step - loss: 0.6526 - auc: 0.9304 - val_loss: 0.4328 - val_auc: 0.9155 - lr: 0.0045\n",
      "Epoch 9/30\n",
      "817/817 [==============================] - 2s 2ms/step - loss: 0.6450 - auc: 0.9318 - val_loss: 0.4433 - val_auc: 0.9179 - lr: 0.0040\n",
      "Epoch 10/30\n",
      "817/817 [==============================] - 1s 1ms/step - loss: 0.6398 - auc: 0.9328 - val_loss: 0.4504 - val_auc: 0.9177 - lr: 0.0035\n",
      "Epoch 11/30\n",
      "817/817 [==============================] - 1s 2ms/step - loss: 0.6301 - auc: 0.9347 - val_loss: 0.4211 - val_auc: 0.9169 - lr: 0.0032\n",
      "Epoch 12/30\n",
      "817/817 [==============================] - 1s 2ms/step - loss: 0.6252 - auc: 0.9358 - val_loss: 0.4368 - val_auc: 0.9164 - lr: 0.0028\n",
      "Epoch 13/30\n",
      "817/817 [==============================] - 1s 2ms/step - loss: 0.6201 - auc: 0.9366 - val_loss: 0.3937 - val_auc: 0.9183 - lr: 0.0025\n",
      "Epoch 14/30\n",
      "817/817 [==============================] - 1s 2ms/step - loss: 0.6160 - auc: 0.9375 - val_loss: 0.3993 - val_auc: 0.9172 - lr: 0.0022\n",
      "Epoch 15/30\n",
      "817/817 [==============================] - 1s 2ms/step - loss: 0.6114 - auc: 0.9385 - val_loss: 0.4098 - val_auc: 0.9172 - lr: 0.0020\n",
      "Epoch 16/30\n",
      "817/817 [==============================] - 1s 2ms/step - loss: 0.6051 - auc: 0.9396 - val_loss: 0.4037 - val_auc: 0.9176 - lr: 0.0018\n",
      "Epoch 17/30\n",
      "817/817 [==============================] - 1s 2ms/step - loss: 0.6015 - auc: 0.9405 - val_loss: 0.4459 - val_auc: 0.9161 - lr: 0.0016\n",
      "Epoch 18/30\n",
      "817/817 [==============================] - 1s 2ms/step - loss: 0.5978 - auc: 0.9413 - val_loss: 0.4204 - val_auc: 0.9167 - lr: 0.0014\n",
      "Epoch 19/30\n",
      "817/817 [==============================] - 1s 1ms/step - loss: 0.5948 - auc: 0.9420 - val_loss: 0.4212 - val_auc: 0.9162 - lr: 0.0013\n",
      "Epoch 20/30\n",
      "817/817 [==============================] - 1s 2ms/step - loss: 0.5910 - auc: 0.9426 - val_loss: 0.4136 - val_auc: 0.9170 - lr: 0.0011\n",
      "Epoch 21/30\n",
      "817/817 [==============================] - 2s 2ms/step - loss: 0.5879 - auc: 0.9433 - val_loss: 0.4053 - val_auc: 0.9170 - lr: 0.0010\n",
      "Epoch 22/30\n",
      "817/817 [==============================] - 1s 1ms/step - loss: 0.5854 - auc: 0.9438 - val_loss: 0.4119 - val_auc: 0.9162 - lr: 8.9125e-04\n",
      "Epoch 23/30\n",
      "817/817 [==============================] - 1s 1ms/step - loss: 0.5826 - auc: 0.9443 - val_loss: 0.4124 - val_auc: 0.9144 - lr: 7.9433e-04\n"
     ]
    }
   ],
   "source": [
    "freq_0 = sum(y_train==0)/len(y_train)\n",
    "freq_1 = sum(y_train==1)/len(y_train)\n",
    "wt_0 = (1/freq_0)**0.8\n",
    "wt_1 = (1/freq_1)**0.8\n",
    "class_weight = {0: wt_0, 1: wt_1}\n",
    "\n",
    "reset_session()\n",
    "\n",
    "model_bal = tf.keras.models.Sequential()\n",
    "for n_hidden in (100, 100, 100, 100):\n",
    "    model_bal.add(tf.keras.layers.Dense(n_hidden, activation=\"swish\",\n",
    "                                 kernel_initializer=\"he_normal\",\n",
    "                                 kernel_regularizer=tf.keras.regularizers.l2(0.0002)))\n",
    "model_bal.add(tf.keras.layers.Dense(1, activation=\"sigmoid\",\n",
    "                             kernel_regularizer=tf.keras.regularizers.l2(0.0002)))\n",
    "\n",
    "optimizer = tf.keras.optimizers.SGD(momentum=0.9, nesterov=True)\n",
    "early_stopping_cb = tf.keras.callbacks.EarlyStopping(patience=10,\n",
    "                                                  restore_best_weights=True,\n",
    "                                                  monitor=\"val_auc\", mode=\"max\")\n",
    "model_bal.compile(loss=\"binary_crossentropy\",\n",
    "              optimizer=optimizer,\n",
    "              metrics=[\"AUC\"])\n",
    "run = model_bal.fit(X_train, y_train, epochs=30,\n",
    "                validation_data=(X_valid, y_valid),\n",
    "                callbacks=[early_stopping_cb, lr_scheduler],\n",
    "                class_weight=class_weight)"
   ]
  },
  {
   "cell_type": "code",
   "execution_count": 49,
   "metadata": {},
   "outputs": [
    {
     "name": "stdout",
     "output_type": "stream",
     "text": [
      "256/256 [==============================] - 0s 1ms/step - loss: 0.3837 - auc: 0.9299\n",
      "256/256 [==============================] - 0s 937us/step\n"
     ]
    },
    {
     "data": {
      "text/plain": [
       "array([[6380,  786],\n",
       "       [ 196,  807]], dtype=int64)"
      ]
     },
     "execution_count": 49,
     "metadata": {},
     "output_type": "execute_result"
    }
   ],
   "source": [
    "model_bal.evaluate(X_test, y_test)\n",
    "y_pred = (model_bal.predict(X_test) >= 0.5)\n",
    "confusion_matrix(y_test, y_pred)"
   ]
  },
  {
   "cell_type": "markdown",
   "metadata": {},
   "source": [
    "# 3. Time series using machine learning [14 marks]\n",
    "\n",
    "Obtain daily values of the [Japan/U.S. Foreign Exchange Rate (DEXJPUS)](https://fred.stlouisfed.org/series/DEXJPUS) starting from Jan 1, 1990, to Jan 1, 2023, from FRED. This can be obtained using the code below or you can download the data as a csv file from [Canvas](https://canvas.uw.edu/files/106328118/download?download_frd=1)."
   ]
  },
  {
   "cell_type": "code",
   "execution_count": 50,
   "metadata": {},
   "outputs": [],
   "source": [
    "import pandas as pd\n",
    "import pandas_datareader as pdr\n",
    "from datetime import datetime\n",
    "data = pdr.get_data_fred('DEXJPUS', datetime(1990,1,1),datetime(2023,1,1))"
   ]
  },
  {
   "cell_type": "markdown",
   "metadata": {},
   "source": [
    "## (a) [2 marks]\n",
    "\n",
    "Create a training set (before 2010), a validation set (Jan 2010 to Dec 2015), and a test set (the rest of the data). Turn the time series data into a supervised learning dataset where the features are the value of the exchange rate in the last 10 days inclusive of the current day, and the target is the value of the exchange rate in the next day."
   ]
  },
  {
   "cell_type": "markdown",
   "metadata": {},
   "source": [
    "**Solution**"
   ]
  },
  {
   "cell_type": "markdown",
   "metadata": {},
   "source": [
    "Drop the missing values."
   ]
  },
  {
   "cell_type": "code",
   "execution_count": 51,
   "metadata": {},
   "outputs": [
    {
     "data": {
      "image/png": "[encoded data removed]",
      "text/plain": [
       "<Figure size 1200x600 with 1 Axes>"
      ]
     },
     "metadata": {},
     "output_type": "display_data"
    }
   ],
   "source": [
    "data.plot(\n",
    "    figsize=(12,6),\n",
    "    title=\"Japan/U.S. Foreign Exchange Rate\",\n",
    "    style='k-',\n",
    ")\n",
    "plt.show()\n",
    "\n",
    "data = data.dropna()"
   ]
  },
  {
   "cell_type": "markdown",
   "metadata": {},
   "source": [
    "Next, split the data into a training set (before 2010), a validation set (Jan 2010 to Dec 2015), and a test set (the rest of the data)."
   ]
  },
  {
   "cell_type": "code",
   "execution_count": 52,
   "metadata": {},
   "outputs": [],
   "source": [
    "def ts_split(ts, feature_steps=14, target_steps=1):\n",
    "    n_obs = len(ts) - feature_steps - target_steps + 1\n",
    "    X = np.array([ts[idx:idx + feature_steps] for idx in range(n_obs)])\n",
    "    y = np.array([ts[idx + feature_steps:idx + feature_steps + target_steps]\n",
    "                  for idx in range(n_obs)])\n",
    "    return X, y\n",
    "\n",
    "time_steps = 10\n",
    "ts = data.values.flatten()\n",
    "X, y = ts_split(ts,feature_steps=time_steps)\n",
    "\n",
    "train_idx = sum(data.index.year < 2010)-time_steps\n",
    "valid_idx = sum(data.index.year < 2016)-time_steps\n",
    "X_train = X[:train_idx]\n",
    "y_train = y[:train_idx]\n",
    "X_valid = X[train_idx:valid_idx]\n",
    "y_valid = y[train_idx:valid_idx]\n",
    "X_test = X[valid_idx:]\n",
    "y_test = y[valid_idx:]"
   ]
  },
  {
   "cell_type": "code",
   "execution_count": 53,
   "metadata": {},
   "outputs": [
    {
     "data": {
      "text/plain": [
       "array([[146.25, 145.7 , 143.37, ..., 145.4 , 145.4 , 145.48],\n",
       "       [145.7 , 143.37, 143.82, ..., 145.4 , 145.48, 145.49],\n",
       "       [143.37, 143.82, 144.1 , ..., 145.48, 145.49, 146.12],\n",
       "       ...,\n",
       "       [ 88.65,  89.91,  89.52, ...,  91.52,  91.69,  91.57],\n",
       "       [ 89.91,  89.52,  90.35, ...,  91.69,  91.57,  91.95],\n",
       "       [ 89.52,  90.35,  90.47, ...,  91.57,  91.95,  92.66]])"
      ]
     },
     "execution_count": 53,
     "metadata": {},
     "output_type": "execute_result"
    }
   ],
   "source": [
    "X_train"
   ]
  },
  {
   "cell_type": "code",
   "execution_count": 54,
   "metadata": {},
   "outputs": [
    {
     "data": {
      "text/plain": [
       "array([[145.49],\n",
       "       [146.12],\n",
       "       [145.65],\n",
       "       ...,\n",
       "       [ 91.95],\n",
       "       [ 92.66],\n",
       "       [ 93.08]])"
      ]
     },
     "execution_count": 54,
     "metadata": {},
     "output_type": "execute_result"
    }
   ],
   "source": [
    "y_train"
   ]
  },
  {
   "cell_type": "code",
   "execution_count": 55,
   "metadata": {},
   "outputs": [
    {
     "data": {
      "text/plain": [
       "5023"
      ]
     },
     "execution_count": 55,
     "metadata": {},
     "output_type": "execute_result"
    }
   ],
   "source": [
    "train_idx"
   ]
  },
  {
   "cell_type": "code",
   "execution_count": 56,
   "metadata": {},
   "outputs": [
    {
     "data": {
      "text/plain": [
       "6527"
      ]
     },
     "execution_count": 56,
     "metadata": {},
     "output_type": "execute_result"
    }
   ],
   "source": [
    "valid_idx"
   ]
  },
  {
   "cell_type": "markdown",
   "metadata": {},
   "source": [
    "## (b) [3 marks]\n",
    "\n",
    "Fit a random forest regressor to predict the value of the exchange rate in the next day. Using the test set, report the mean squared error and the accuracy for the movement direction.\n",
    "\n",
    "Hint: You can calculate the accuracy of the movement direction by determining what the actual movement direction is and comparing it to the movement direction corresponding to the predicted value of the exchange rate. For instance, the movement direction of the test set `X_test` and `y_test` where a strictly up movement is `True` can be computed as follows."
   ]
  },
  {
   "cell_type": "code",
   "execution_count": 57,
   "metadata": {},
   "outputs": [],
   "source": [
    "movement_test = X_test[:,-1] < y_test.ravel()"
   ]
  },
  {
   "cell_type": "markdown",
   "metadata": {},
   "source": [
    "**Solution**"
   ]
  },
  {
   "cell_type": "markdown",
   "metadata": {},
   "source": [
    "We fit a random forest using the default value of `n_estimators`, make the predictions on the test set, and compute the MSE."
   ]
  },
  {
   "cell_type": "code",
   "execution_count": 58,
   "metadata": {},
   "outputs": [
    {
     "data": {
      "text/plain": [
       "0.527086340045793"
      ]
     },
     "execution_count": 58,
     "metadata": {},
     "output_type": "execute_result"
    }
   ],
   "source": [
    "from sklearn.ensemble import RandomForestRegressor\n",
    "\n",
    "forest = RandomForestRegressor(n_estimators=100, random_state=42)\n",
    "forest.fit(X_train, y_train.ravel())\n",
    "y_pred = forest.predict(X_test)\n",
    "from sklearn.metrics import mean_squared_error\n",
    "\n",
    "mean_squared_error(y_test, y_pred)"
   ]
  },
  {
   "cell_type": "markdown",
   "metadata": {},
   "source": [
    "We now compute the actual and predicted movement directions on the test set. Let  $S_t$ be the exchange rate at time $t$. Here, the up movement $S_t-S_{t-1}>0$ is denoted as True (1), and the down movement \n",
    "$S_t-S_{t-1}\\leq0$ is denoted False (0)."
   ]
  },
  {
   "cell_type": "code",
   "execution_count": 59,
   "metadata": {},
   "outputs": [
    {
     "data": {
      "text/plain": [
       "0.5197481396680023"
      ]
     },
     "execution_count": 59,
     "metadata": {},
     "output_type": "execute_result"
    }
   ],
   "source": [
    "from sklearn.metrics import accuracy_score\n",
    "\n",
    "movement_test = X_test[:,-1] < y_test.ravel()\n",
    "movement_pred = X_test[:,-1] < y_pred\n",
    "accuracy_score(movement_test, movement_pred)"
   ]
  },
  {
   "cell_type": "markdown",
   "metadata": {},
   "source": [
    "For context, predicting all movements as up or down gives the following accuracies on the test set."
   ]
  },
  {
   "cell_type": "code",
   "execution_count": 60,
   "metadata": {},
   "outputs": [
    {
     "name": "stdout",
     "output_type": "stream",
     "text": [
      "0.5094447624499141\n",
      "0.49055523755008584\n"
     ]
    }
   ],
   "source": [
    "print(sum(movement_test==1)/len(movement_test))\n",
    "print(sum(movement_test==0)/len(movement_test))"
   ]
  },
  {
   "cell_type": "markdown",
   "metadata": {},
   "source": [
    "## (c) [4 marks]\n",
    "\n",
    "Repeat (b), but now fit a deep RNN with 2 recurrent layers of 20 and 20 neurons, and an output layer which is 1 dense neuron. Use 100 epochs and the Nadam optimizer. Comment on the result and the learning curve (the validation set is used for the learning curve)."
   ]
  },
  {
   "cell_type": "markdown",
   "metadata": {},
   "source": [
    "**Solution**"
   ]
  },
  {
   "cell_type": "markdown",
   "metadata": {},
   "source": [
    "We fit the RNN. Since this is a 1-step ahead prediction, the last layer is a Dense layer of 1 neuron, connected to the final time step (hence, no `return_sequences=True` at the second last layer). This RNN architecture means that at time step 10, we are predicting time step 11.\n",
    "\n",
    "We let the model run for 100 epochs and avoid using early stopping since otherwise it will stop at a suboptimal solution where it turns out that the output is virtually the same regardless of input."
   ]
  },
  {
   "cell_type": "code",
   "execution_count": 61,
   "metadata": {},
   "outputs": [
    {
     "name": "stdout",
     "output_type": "stream",
     "text": [
      "Epoch 1/100\n",
      "157/157 [==============================] - 2s 4ms/step - loss: 12491.1475 - val_loss: 7772.0098\n",
      "Epoch 2/100\n",
      "157/157 [==============================] - 0s 3ms/step - loss: 11206.6426 - val_loss: 7134.1025\n",
      "Epoch 3/100\n",
      "157/157 [==============================] - 1s 3ms/step - loss: 10477.5342 - val_loss: 6580.6870\n",
      "Epoch 4/100\n",
      "157/157 [==============================] - 0s 3ms/step - loss: 9813.3359 - val_loss: 6070.5308\n",
      "Epoch 5/100\n",
      "157/157 [==============================] - 0s 3ms/step - loss: 9190.7363 - val_loss: 5594.0327\n",
      "Epoch 6/100\n",
      "157/157 [==============================] - 0s 3ms/step - loss: 8602.5752 - val_loss: 5146.8955\n",
      "Epoch 7/100\n",
      "157/157 [==============================] - 1s 3ms/step - loss: 8045.0947 - val_loss: 4726.8848\n",
      "Epoch 8/100\n",
      "157/157 [==============================] - 1s 3ms/step - loss: 7515.9155 - val_loss: 4331.9976\n",
      "Epoch 9/100\n",
      "157/157 [==============================] - 0s 3ms/step - loss: 7013.3457 - val_loss: 3961.2942\n",
      "Epoch 10/100\n",
      "157/157 [==============================] - 0s 3ms/step - loss: 6535.7954 - val_loss: 3613.1975\n",
      "Epoch 11/100\n",
      "157/157 [==============================] - 1s 4ms/step - loss: 6082.0205 - val_loss: 3286.6707\n",
      "Epoch 12/100\n",
      "157/157 [==============================] - 0s 3ms/step - loss: 5651.1382 - val_loss: 2980.9482\n",
      "Epoch 13/100\n",
      "157/157 [==============================] - 0s 3ms/step - loss: 5242.2134 - val_loss: 2694.8630\n",
      "Epoch 14/100\n",
      "157/157 [==============================] - 1s 3ms/step - loss: 4854.4307 - val_loss: 2428.2297\n",
      "Epoch 15/100\n",
      "157/157 [==============================] - 0s 3ms/step - loss: 4487.1099 - val_loss: 2180.5471\n",
      "Epoch 16/100\n",
      "157/157 [==============================] - 0s 3ms/step - loss: 4139.5552 - val_loss: 1950.4476\n",
      "Epoch 17/100\n",
      "157/157 [==============================] - 0s 3ms/step - loss: 3810.9763 - val_loss: 1737.6825\n",
      "Epoch 18/100\n",
      "157/157 [==============================] - 0s 3ms/step - loss: 3500.8293 - val_loss: 1541.6509\n",
      "Epoch 19/100\n",
      "157/157 [==============================] - 0s 3ms/step - loss: 3208.6655 - val_loss: 1361.7441\n",
      "Epoch 20/100\n",
      "157/157 [==============================] - 1s 4ms/step - loss: 2933.8984 - val_loss: 1197.4486\n",
      "Epoch 21/100\n",
      "157/157 [==============================] - 1s 4ms/step - loss: 2676.0166 - val_loss: 1048.1609\n",
      "Epoch 22/100\n",
      "157/157 [==============================] - 0s 3ms/step - loss: 2434.4541 - val_loss: 913.6572\n",
      "Epoch 23/100\n",
      "157/157 [==============================] - 0s 3ms/step - loss: 2208.6995 - val_loss: 793.0453\n",
      "Epoch 24/100\n",
      "157/157 [==============================] - 0s 3ms/step - loss: 1998.3177 - val_loss: 685.7889\n",
      "Epoch 25/100\n",
      "157/157 [==============================] - 0s 3ms/step - loss: 1802.7933 - val_loss: 591.6064\n",
      "Epoch 26/100\n",
      "157/157 [==============================] - 0s 3ms/step - loss: 1621.6974 - val_loss: 509.8242\n",
      "Epoch 27/100\n",
      "157/157 [==============================] - 0s 3ms/step - loss: 1454.5222 - val_loss: 439.8986\n",
      "Epoch 28/100\n",
      "157/157 [==============================] - 0s 3ms/step - loss: 1300.7772 - val_loss: 381.3260\n",
      "Epoch 29/100\n",
      "157/157 [==============================] - 0s 3ms/step - loss: 1160.0394 - val_loss: 333.3503\n",
      "Epoch 30/100\n",
      "157/157 [==============================] - 0s 3ms/step - loss: 1031.7582 - val_loss: 295.5395\n",
      "Epoch 31/100\n",
      "157/157 [==============================] - 1s 3ms/step - loss: 915.4320 - val_loss: 267.2550\n",
      "Epoch 32/100\n",
      "157/157 [==============================] - 1s 3ms/step - loss: 810.4756 - val_loss: 247.8556\n",
      "Epoch 33/100\n",
      "157/157 [==============================] - 0s 3ms/step - loss: 716.3998 - val_loss: 236.5440\n",
      "Epoch 34/100\n",
      "157/157 [==============================] - 0s 3ms/step - loss: 632.5996 - val_loss: 232.7449\n",
      "Epoch 35/100\n",
      "157/157 [==============================] - 1s 3ms/step - loss: 558.5471 - val_loss: 235.6827\n",
      "Epoch 36/100\n",
      "157/157 [==============================] - 1s 3ms/step - loss: 493.6184 - val_loss: 244.6470\n",
      "Epoch 37/100\n",
      "157/157 [==============================] - 0s 3ms/step - loss: 437.2709 - val_loss: 258.8361\n",
      "Epoch 38/100\n",
      "157/157 [==============================] - 1s 3ms/step - loss: 388.8307 - val_loss: 277.4250\n",
      "Epoch 39/100\n",
      "157/157 [==============================] - 1s 3ms/step - loss: 347.5728 - val_loss: 299.5914\n",
      "Epoch 40/100\n",
      "157/157 [==============================] - 0s 3ms/step - loss: 312.9396 - val_loss: 324.7591\n",
      "Epoch 41/100\n",
      "157/157 [==============================] - 0s 3ms/step - loss: 284.2392 - val_loss: 351.8133\n",
      "Epoch 42/100\n",
      "157/157 [==============================] - 0s 3ms/step - loss: 260.8312 - val_loss: 380.1011\n",
      "Epoch 43/100\n",
      "157/157 [==============================] - 0s 3ms/step - loss: 242.0597 - val_loss: 408.9388\n",
      "Epoch 44/100\n",
      "157/157 [==============================] - 1s 4ms/step - loss: 227.2869 - val_loss: 437.5771\n",
      "Epoch 45/100\n",
      "157/157 [==============================] - 1s 3ms/step - loss: 215.8797 - val_loss: 465.4184\n",
      "Epoch 46/100\n",
      "157/157 [==============================] - 1s 4ms/step - loss: 207.2772 - val_loss: 491.3083\n",
      "Epoch 47/100\n",
      "157/157 [==============================] - 0s 3ms/step - loss: 200.9684 - val_loss: 515.7098\n",
      "Epoch 48/100\n",
      "157/157 [==============================] - 0s 3ms/step - loss: 196.4515 - val_loss: 537.8188\n",
      "Epoch 49/100\n",
      "157/157 [==============================] - 1s 3ms/step - loss: 193.3407 - val_loss: 557.8193\n",
      "Epoch 50/100\n",
      "157/157 [==============================] - 1s 3ms/step - loss: 191.2323 - val_loss: 574.2278\n",
      "Epoch 51/100\n",
      "157/157 [==============================] - 0s 3ms/step - loss: 189.8692 - val_loss: 588.5247\n",
      "Epoch 52/100\n",
      "157/157 [==============================] - 1s 4ms/step - loss: 189.0405 - val_loss: 600.6437\n",
      "Epoch 53/100\n",
      "157/157 [==============================] - 0s 3ms/step - loss: 188.5415 - val_loss: 609.8969\n",
      "Epoch 54/100\n",
      "157/157 [==============================] - 0s 3ms/step - loss: 188.2748 - val_loss: 616.7568\n",
      "Epoch 55/100\n",
      "157/157 [==============================] - 0s 3ms/step - loss: 188.1237 - val_loss: 622.5236\n",
      "Epoch 56/100\n",
      "157/157 [==============================] - 1s 3ms/step - loss: 188.0370 - val_loss: 625.9562\n",
      "Epoch 57/100\n",
      "157/157 [==============================] - 1s 4ms/step - loss: 187.9878 - val_loss: 629.3898\n",
      "Epoch 58/100\n",
      "157/157 [==============================] - 0s 3ms/step - loss: 187.9741 - val_loss: 632.0296\n",
      "Epoch 59/100\n",
      "157/157 [==============================] - 0s 3ms/step - loss: 187.9659 - val_loss: 634.1148\n",
      "Epoch 60/100\n",
      "157/157 [==============================] - 1s 5ms/step - loss: 187.9695 - val_loss: 633.6577\n",
      "Epoch 61/100\n",
      "157/157 [==============================] - 0s 3ms/step - loss: 187.9659 - val_loss: 633.7115\n",
      "Epoch 62/100\n",
      "157/157 [==============================] - 1s 3ms/step - loss: 187.9720 - val_loss: 634.8708\n",
      "Epoch 63/100\n",
      "157/157 [==============================] - 0s 3ms/step - loss: 187.9737 - val_loss: 634.2504\n",
      "Epoch 64/100\n",
      "157/157 [==============================] - 1s 3ms/step - loss: 187.9728 - val_loss: 633.0306\n",
      "Epoch 65/100\n",
      "157/157 [==============================] - 1s 3ms/step - loss: 187.9762 - val_loss: 635.6795\n",
      "Epoch 66/100\n",
      "157/157 [==============================] - 0s 3ms/step - loss: 187.9680 - val_loss: 634.6671\n",
      "Epoch 67/100\n",
      "157/157 [==============================] - 0s 3ms/step - loss: 187.9709 - val_loss: 635.3926\n",
      "Epoch 68/100\n",
      "157/157 [==============================] - 0s 3ms/step - loss: 187.9688 - val_loss: 636.2398\n",
      "Epoch 69/100\n",
      "157/157 [==============================] - 0s 3ms/step - loss: 187.9821 - val_loss: 636.1948\n",
      "Epoch 70/100\n",
      "157/157 [==============================] - 1s 4ms/step - loss: 187.9901 - val_loss: 636.3502\n",
      "Epoch 71/100\n",
      "157/157 [==============================] - 1s 3ms/step - loss: 187.9840 - val_loss: 633.8679\n",
      "Epoch 72/100\n",
      "157/157 [==============================] - 1s 4ms/step - loss: 187.9840 - val_loss: 635.9719\n",
      "Epoch 73/100\n",
      "157/157 [==============================] - 1s 5ms/step - loss: 187.9755 - val_loss: 635.4019\n",
      "Epoch 74/100\n",
      "157/157 [==============================] - 1s 4ms/step - loss: 187.9997 - val_loss: 635.3804\n",
      "Epoch 75/100\n",
      "157/157 [==============================] - 1s 3ms/step - loss: 187.9835 - val_loss: 635.3374\n",
      "Epoch 76/100\n",
      "157/157 [==============================] - 1s 4ms/step - loss: 187.9748 - val_loss: 635.1773\n",
      "Epoch 77/100\n",
      "157/157 [==============================] - 1s 4ms/step - loss: 187.9786 - val_loss: 635.1111\n",
      "Epoch 78/100\n",
      "157/157 [==============================] - 1s 3ms/step - loss: 187.9888 - val_loss: 637.8027\n",
      "Epoch 79/100\n",
      "157/157 [==============================] - 0s 3ms/step - loss: 187.9842 - val_loss: 635.3980\n",
      "Epoch 80/100\n",
      "157/157 [==============================] - 0s 3ms/step - loss: 187.9826 - val_loss: 633.3961\n",
      "Epoch 81/100\n",
      "157/157 [==============================] - 0s 3ms/step - loss: 145.3961 - val_loss: 158.0138\n",
      "Epoch 82/100\n",
      "157/157 [==============================] - 0s 3ms/step - loss: 73.0173 - val_loss: 26.5761\n",
      "Epoch 83/100\n",
      "157/157 [==============================] - 0s 3ms/step - loss: 48.8691 - val_loss: 20.9020\n",
      "Epoch 84/100\n",
      "157/157 [==============================] - 0s 3ms/step - loss: 36.8187 - val_loss: 16.7281\n",
      "Epoch 85/100\n",
      "157/157 [==============================] - 0s 3ms/step - loss: 29.6499 - val_loss: 14.3833\n",
      "Epoch 86/100\n",
      "157/157 [==============================] - 0s 3ms/step - loss: 23.8738 - val_loss: 6.1110\n",
      "Epoch 87/100\n",
      "157/157 [==============================] - 0s 3ms/step - loss: 20.2769 - val_loss: 6.2963\n",
      "Epoch 88/100\n",
      "157/157 [==============================] - 0s 3ms/step - loss: 17.1072 - val_loss: 7.7919\n",
      "Epoch 89/100\n",
      "157/157 [==============================] - 1s 3ms/step - loss: 15.2170 - val_loss: 10.1468\n",
      "Epoch 90/100\n",
      "157/157 [==============================] - 1s 4ms/step - loss: 13.2064 - val_loss: 8.7064\n",
      "Epoch 91/100\n",
      "157/157 [==============================] - 1s 3ms/step - loss: 11.9054 - val_loss: 9.2301\n",
      "Epoch 92/100\n",
      "157/157 [==============================] - 0s 3ms/step - loss: 10.5363 - val_loss: 8.4660\n",
      "Epoch 93/100\n",
      "157/157 [==============================] - 0s 3ms/step - loss: 9.6182 - val_loss: 9.1717\n",
      "Epoch 94/100\n",
      "157/157 [==============================] - 1s 4ms/step - loss: 8.6460 - val_loss: 8.5638\n",
      "Epoch 95/100\n",
      "157/157 [==============================] - 1s 4ms/step - loss: 7.7531 - val_loss: 5.3042\n",
      "Epoch 96/100\n",
      "157/157 [==============================] - 0s 3ms/step - loss: 7.1044 - val_loss: 5.7116\n",
      "Epoch 97/100\n",
      "157/157 [==============================] - 0s 3ms/step - loss: 6.4515 - val_loss: 6.2332\n",
      "Epoch 98/100\n",
      "157/157 [==============================] - 1s 3ms/step - loss: 6.0006 - val_loss: 7.3192\n",
      "Epoch 99/100\n",
      "157/157 [==============================] - 0s 3ms/step - loss: 5.3183 - val_loss: 7.3391\n",
      "Epoch 100/100\n",
      "157/157 [==============================] - 0s 3ms/step - loss: 4.9751 - val_loss: 6.7153\n"
     ]
    }
   ],
   "source": [
    "reset_session()\n",
    "\n",
    "model = tf.keras.models.Sequential([\n",
    "    tf.keras.layers.SimpleRNN(20, return_sequences=True, input_shape=[None, 1]),\n",
    "    tf.keras.layers.SimpleRNN(20),\n",
    "    tf.keras.layers.Dense(1)\n",
    "])\n",
    "model.compile(loss=\"mse\", optimizer=\"nadam\")\n",
    "\n",
    "run = model.fit(X_train[..., np.newaxis], y_train, epochs=100,\n",
    "                validation_data=(X_valid[..., np.newaxis], y_valid))"
   ]
  },
  {
   "cell_type": "code",
   "execution_count": 62,
   "metadata": {},
   "outputs": [
    {
     "data": {
      "image/png": "[encoded data removed]",
      "text/plain": [
       "<Figure size 800x500 with 1 Axes>"
      ]
     },
     "metadata": {},
     "output_type": "display_data"
    }
   ],
   "source": [
    "pd.DataFrame(run.history).plot(figsize=(8, 5))\n",
    "plt.grid(True)\n",
    "plt.show()"
   ]
  },
  {
   "cell_type": "markdown",
   "metadata": {},
   "source": [
    "Get the predictions on the test set."
   ]
  },
  {
   "cell_type": "code",
   "execution_count": 63,
   "metadata": {},
   "outputs": [
    {
     "name": "stdout",
     "output_type": "stream",
     "text": [
      "55/55 [==============================] - 0s 1ms/step\n"
     ]
    },
    {
     "data": {
      "text/plain": [
       "array([119.90917, 119.63559, 119.2887 , ..., 132.20924, 132.65523,\n",
       "       132.62328], dtype=float32)"
      ]
     },
     "execution_count": 63,
     "metadata": {},
     "output_type": "execute_result"
    }
   ],
   "source": [
    "y_pred = model.predict(X_test[...,np.newaxis]).ravel()\n",
    "y_pred"
   ]
  },
  {
   "cell_type": "markdown",
   "metadata": {},
   "source": [
    "Then compute the MSE and movement accuracy on the test set."
   ]
  },
  {
   "cell_type": "code",
   "execution_count": 64,
   "metadata": {},
   "outputs": [
    {
     "data": {
      "text/plain": [
       "1.3629115765774222"
      ]
     },
     "execution_count": 64,
     "metadata": {},
     "output_type": "execute_result"
    }
   ],
   "source": [
    "mean_squared_error(y_test, y_pred)"
   ]
  },
  {
   "cell_type": "code",
   "execution_count": 65,
   "metadata": {},
   "outputs": [
    {
     "data": {
      "text/plain": [
       "0.5037206639954207"
      ]
     },
     "execution_count": 65,
     "metadata": {},
     "output_type": "execute_result"
    }
   ],
   "source": [
    "movement_pred = X_test[:,-1] < y_pred.ravel()\n",
    "accuracy_score(movement_test, movement_pred)"
   ]
  },
  {
   "cell_type": "markdown",
   "metadata": {},
   "source": [
    "Comment: From the learning curve there is no overfitting.\n",
    "\n",
    "(Additional comment: The MSE and movement accuracy are slightly worse than random forest, with the movement accuracy slightly below 50%.)"
   ]
  },
  {
   "cell_type": "markdown",
   "metadata": {},
   "source": [
    "## (d) [5 marks]\n",
    "\n",
    "Create a supervised learning dataset suitable for predicting 3 days ahead instead of 1 day ahead. Adjust the deep RNN in (c) so that it predicts 3 days ahead. Use 100 epochs and the Nadam optimizer. Using the test set, report the mean squared error and the accuracy for the movement direction for each of the 3 days ahead predictions.  Comment on the result and the learning curve."
   ]
  },
  {
   "cell_type": "markdown",
   "metadata": {},
   "source": [
    "**Solution**"
   ]
  },
  {
   "cell_type": "markdown",
   "metadata": {},
   "source": [
    "Recreate the `X` and `y` variables in the form required for 3-steps ahead predictions.\n",
    "\n",
    "Here, we also subtract 2 from `train_idx` and `valid_idx` to make sure all values of `y_train_3ahead` are entirely before 2010. But it is acceptable to just use `train_idx` and `valid_idx` without subtracting 2, which is what is done in the lecture notes. (Subtracting by 2 here, the first instance of `y_valid_3ahead` includes the 2nd last valid time in December 2009, the last valid time in December 2009, and the first valid time in January 2010. If not Subtracting by 2, it includes the first, second and third valid times in January 2010.)"
   ]
  },
  {
   "cell_type": "code",
   "execution_count": 66,
   "metadata": {},
   "outputs": [
    {
     "name": "stdout",
     "output_type": "stream",
     "text": [
      "(5021, 10)\n",
      "(5021, 3)\n"
     ]
    }
   ],
   "source": [
    "X_3ahead, y_3ahead = ts_split(ts,feature_steps=time_steps, target_steps=3)\n",
    "\n",
    "X_train_3ahead = X_3ahead[:(train_idx-2)]\n",
    "y_train_3ahead = y_3ahead[:(train_idx-2)]\n",
    "X_valid_3ahead = X_3ahead[(train_idx-2):(valid_idx-2)]\n",
    "y_valid_3ahead = y_3ahead[(train_idx-2):(valid_idx-2)]\n",
    "X_test_3ahead = X_3ahead[(valid_idx-2):]\n",
    "y_test_3ahead = y_3ahead[(valid_idx-2):]\n",
    "\n",
    "print(X_train_3ahead.shape)\n",
    "print(y_train_3ahead.shape)"
   ]
  },
  {
   "cell_type": "markdown",
   "metadata": {},
   "source": [
    "There are multiple ways to create an RNN to predict 3-steps ahead. Any of the below solutions are acceptable. Method 1 is the most natural method, so our solution and the comment will focus on that. Only Method 3 is better than random forest in terms of 1-step ahead prediction RMSE."
   ]
  },
  {
   "cell_type": "markdown",
   "metadata": {},
   "source": [
    "Method 1: At time step 10, predict time steps 11, 12 and 13."
   ]
  },
  {
   "cell_type": "code",
   "execution_count": 67,
   "metadata": {},
   "outputs": [
    {
     "name": "stdout",
     "output_type": "stream",
     "text": [
      "Epoch 1/100\n",
      "157/157 [==============================] - 2s 4ms/step - loss: 12626.2119 - val_loss: 8197.6924\n",
      "Epoch 2/100\n",
      "157/157 [==============================] - 0s 3ms/step - loss: 11760.0342 - val_loss: 7587.6377\n",
      "Epoch 3/100\n",
      "157/157 [==============================] - 0s 3ms/step - loss: 11043.3770 - val_loss: 7030.8545\n",
      "Epoch 4/100\n",
      "157/157 [==============================] - 0s 3ms/step - loss: 10374.3574 - val_loss: 6510.1826\n",
      "Epoch 5/100\n",
      "157/157 [==============================] - 0s 3ms/step - loss: 9741.5381 - val_loss: 6020.4829\n",
      "Epoch 6/100\n",
      "157/157 [==============================] - 1s 3ms/step - loss: 9140.3838 - val_loss: 5558.6685\n",
      "Epoch 7/100\n",
      "157/157 [==============================] - 1s 3ms/step - loss: 8568.2402 - val_loss: 5122.9868\n",
      "Epoch 8/100\n",
      "157/157 [==============================] - 1s 3ms/step - loss: 8023.2075 - val_loss: 4711.7036\n",
      "Epoch 9/100\n",
      "157/157 [==============================] - 1s 4ms/step - loss: 7503.8774 - val_loss: 4324.0298\n",
      "Epoch 10/100\n",
      "157/157 [==============================] - 0s 3ms/step - loss: 7009.1807 - val_loss: 3958.8821\n",
      "Epoch 11/100\n",
      "157/157 [==============================] - 0s 3ms/step - loss: 6538.0913 - val_loss: 3615.0645\n",
      "Epoch 12/100\n",
      "157/157 [==============================] - 0s 3ms/step - loss: 6089.6812 - val_loss: 3292.0229\n",
      "Epoch 13/100\n",
      "157/157 [==============================] - 0s 3ms/step - loss: 5663.1646 - val_loss: 2989.0828\n",
      "Epoch 14/100\n",
      "157/157 [==============================] - 1s 3ms/step - loss: 5257.7388 - val_loss: 2705.3523\n",
      "Epoch 15/100\n",
      "157/157 [==============================] - 1s 3ms/step - loss: 4872.6802 - val_loss: 2440.4465\n",
      "Epoch 16/100\n",
      "157/157 [==============================] - 1s 3ms/step - loss: 4507.3770 - val_loss: 2193.5601\n",
      "Epoch 17/100\n",
      "157/157 [==============================] - 1s 4ms/step - loss: 4161.2954 - val_loss: 1964.1184\n",
      "Epoch 18/100\n",
      "157/157 [==============================] - 1s 4ms/step - loss: 3833.8208 - val_loss: 1751.8197\n",
      "Epoch 19/100\n",
      "157/157 [==============================] - 0s 3ms/step - loss: 3524.4062 - val_loss: 1555.7344\n",
      "Epoch 20/100\n",
      "157/157 [==============================] - 1s 3ms/step - loss: 3232.5913 - val_loss: 1375.6866\n",
      "Epoch 21/100\n",
      "157/157 [==============================] - 0s 3ms/step - loss: 2957.8909 - val_loss: 1211.0253\n",
      "Epoch 22/100\n",
      "157/157 [==============================] - 0s 3ms/step - loss: 2699.7400 - val_loss: 1061.2494\n",
      "Epoch 23/100\n",
      "157/157 [==============================] - 1s 3ms/step - loss: 2457.7676 - val_loss: 925.8137\n",
      "Epoch 24/100\n",
      "157/157 [==============================] - 0s 3ms/step - loss: 2231.4839 - val_loss: 804.3624\n",
      "Epoch 25/100\n",
      "157/157 [==============================] - 0s 3ms/step - loss: 2020.4581 - val_loss: 696.2614\n",
      "Epoch 26/100\n",
      "157/157 [==============================] - 0s 3ms/step - loss: 1824.2035 - val_loss: 601.2050\n",
      "Epoch 27/100\n",
      "157/157 [==============================] - 0s 3ms/step - loss: 1642.2052 - val_loss: 518.3392\n",
      "Epoch 28/100\n",
      "157/157 [==============================] - 0s 3ms/step - loss: 1473.9747 - val_loss: 447.4345\n",
      "Epoch 29/100\n",
      "157/157 [==============================] - 1s 3ms/step - loss: 1319.1381 - val_loss: 387.6520\n",
      "Epoch 30/100\n",
      "157/157 [==============================] - 0s 3ms/step - loss: 1177.1909 - val_loss: 338.6627\n",
      "Epoch 31/100\n",
      "157/157 [==============================] - 0s 3ms/step - loss: 1047.6722 - val_loss: 299.6897\n",
      "Epoch 32/100\n",
      "157/157 [==============================] - 0s 3ms/step - loss: 930.1004 - val_loss: 270.3633\n",
      "Epoch 33/100\n",
      "157/157 [==============================] - 0s 3ms/step - loss: 823.8668 - val_loss: 249.9116\n",
      "Epoch 34/100\n",
      "157/157 [==============================] - 1s 4ms/step - loss: 728.5175 - val_loss: 237.6205\n",
      "Epoch 35/100\n",
      "157/157 [==============================] - 1s 5ms/step - loss: 643.5261 - val_loss: 232.9003\n",
      "Epoch 36/100\n",
      "157/157 [==============================] - 1s 5ms/step - loss: 568.3400 - val_loss: 234.9880\n",
      "Epoch 37/100\n",
      "157/157 [==============================] - 1s 4ms/step - loss: 502.3019 - val_loss: 243.1607\n",
      "Epoch 38/100\n",
      "157/157 [==============================] - 1s 5ms/step - loss: 444.8523 - val_loss: 256.6604\n",
      "Epoch 39/100\n",
      "157/157 [==============================] - 1s 4ms/step - loss: 395.3930 - val_loss: 274.6352\n",
      "Epoch 40/100\n",
      "157/157 [==============================] - 1s 4ms/step - loss: 353.2480 - val_loss: 296.4002\n",
      "Epoch 41/100\n",
      "157/157 [==============================] - 1s 3ms/step - loss: 317.7301 - val_loss: 321.0566\n",
      "Epoch 42/100\n",
      "157/157 [==============================] - 1s 3ms/step - loss: 288.2392 - val_loss: 347.9277\n",
      "Epoch 43/100\n",
      "157/157 [==============================] - 1s 3ms/step - loss: 264.1079 - val_loss: 376.0602\n",
      "Epoch 44/100\n",
      "157/157 [==============================] - 0s 3ms/step - loss: 244.6813 - val_loss: 404.6823\n",
      "Epoch 45/100\n",
      "157/157 [==============================] - 1s 3ms/step - loss: 229.3611 - val_loss: 433.1769\n",
      "Epoch 46/100\n",
      "157/157 [==============================] - 1s 3ms/step - loss: 217.4519 - val_loss: 460.9058\n",
      "Epoch 47/100\n",
      "157/157 [==============================] - 0s 3ms/step - loss: 208.3980 - val_loss: 487.4877\n",
      "Epoch 48/100\n",
      "157/157 [==============================] - 1s 3ms/step - loss: 201.7123 - val_loss: 511.7539\n",
      "Epoch 49/100\n",
      "157/157 [==============================] - 0s 3ms/step - loss: 196.9225 - val_loss: 534.7955\n",
      "Epoch 50/100\n",
      "157/157 [==============================] - 0s 3ms/step - loss: 193.5555 - val_loss: 554.7599\n",
      "Epoch 51/100\n",
      "157/157 [==============================] - 0s 3ms/step - loss: 191.3066 - val_loss: 572.3351\n",
      "Epoch 52/100\n",
      "157/157 [==============================] - 0s 3ms/step - loss: 189.8551 - val_loss: 587.2192\n",
      "Epoch 53/100\n",
      "157/157 [==============================] - 1s 4ms/step - loss: 188.9469 - val_loss: 598.8405\n",
      "Epoch 54/100\n",
      "157/157 [==============================] - 1s 3ms/step - loss: 188.4027 - val_loss: 608.3983\n",
      "Epoch 55/100\n",
      "157/157 [==============================] - 1s 3ms/step - loss: 188.0877 - val_loss: 616.5295\n",
      "Epoch 56/100\n",
      "157/157 [==============================] - 0s 3ms/step - loss: 187.9200 - val_loss: 622.0991\n",
      "Epoch 57/100\n",
      "157/157 [==============================] - 0s 3ms/step - loss: 187.8289 - val_loss: 626.6366\n",
      "Epoch 58/100\n",
      "157/157 [==============================] - 1s 3ms/step - loss: 187.7925 - val_loss: 629.4540\n",
      "Epoch 59/100\n",
      "157/157 [==============================] - 0s 3ms/step - loss: 187.7664 - val_loss: 632.5273\n",
      "Epoch 60/100\n",
      "157/157 [==============================] - 0s 3ms/step - loss: 187.7619 - val_loss: 634.0700\n",
      "Epoch 61/100\n",
      "157/157 [==============================] - 1s 4ms/step - loss: 187.7575 - val_loss: 634.0066\n",
      "Epoch 62/100\n",
      "157/157 [==============================] - 0s 3ms/step - loss: 187.7597 - val_loss: 633.8463\n",
      "Epoch 63/100\n",
      "157/157 [==============================] - 0s 3ms/step - loss: 187.7775 - val_loss: 635.0768\n",
      "Epoch 64/100\n",
      "157/157 [==============================] - 0s 3ms/step - loss: 187.7587 - val_loss: 634.9547\n",
      "Epoch 65/100\n",
      "157/157 [==============================] - 1s 3ms/step - loss: 187.7686 - val_loss: 634.7730\n",
      "Epoch 66/100\n",
      "157/157 [==============================] - 0s 3ms/step - loss: 187.7617 - val_loss: 634.3021\n",
      "Epoch 67/100\n",
      "157/157 [==============================] - 0s 3ms/step - loss: 187.7700 - val_loss: 633.8299\n",
      "Epoch 68/100\n",
      "157/157 [==============================] - 0s 3ms/step - loss: 187.7665 - val_loss: 632.9141\n",
      "Epoch 69/100\n",
      "157/157 [==============================] - 0s 3ms/step - loss: 187.7620 - val_loss: 634.7396\n",
      "Epoch 70/100\n",
      "157/157 [==============================] - 1s 4ms/step - loss: 187.7761 - val_loss: 635.0145\n",
      "Epoch 71/100\n",
      "157/157 [==============================] - 1s 4ms/step - loss: 187.7687 - val_loss: 634.6530\n",
      "Epoch 72/100\n",
      "157/157 [==============================] - 1s 4ms/step - loss: 187.7635 - val_loss: 636.3177\n",
      "Epoch 73/100\n",
      "157/157 [==============================] - 1s 3ms/step - loss: 139.1508 - val_loss: 18.1681\n",
      "Epoch 74/100\n",
      "157/157 [==============================] - 0s 3ms/step - loss: 71.5593 - val_loss: 12.3970\n",
      "Epoch 75/100\n",
      "157/157 [==============================] - 0s 3ms/step - loss: 52.4466 - val_loss: 9.9763\n",
      "Epoch 76/100\n",
      "157/157 [==============================] - 0s 3ms/step - loss: 41.3039 - val_loss: 13.3324\n",
      "Epoch 77/100\n",
      "157/157 [==============================] - 0s 3ms/step - loss: 33.4394 - val_loss: 8.2864\n",
      "Epoch 78/100\n",
      "157/157 [==============================] - 0s 3ms/step - loss: 27.7815 - val_loss: 10.5639\n",
      "Epoch 79/100\n",
      "157/157 [==============================] - 0s 3ms/step - loss: 23.6158 - val_loss: 12.4920\n",
      "Epoch 80/100\n",
      "157/157 [==============================] - 0s 3ms/step - loss: 20.4894 - val_loss: 13.8988\n",
      "Epoch 81/100\n",
      "157/157 [==============================] - 1s 4ms/step - loss: 18.0035 - val_loss: 17.2169\n",
      "Epoch 82/100\n",
      "157/157 [==============================] - 0s 3ms/step - loss: 15.8686 - val_loss: 19.0357\n",
      "Epoch 83/100\n",
      "157/157 [==============================] - 0s 3ms/step - loss: 14.1325 - val_loss: 11.5074\n",
      "Epoch 84/100\n",
      "157/157 [==============================] - 0s 3ms/step - loss: 12.8025 - val_loss: 7.2013\n",
      "Epoch 85/100\n",
      "157/157 [==============================] - 1s 4ms/step - loss: 11.7640 - val_loss: 8.6689\n",
      "Epoch 86/100\n",
      "157/157 [==============================] - 1s 3ms/step - loss: 10.5921 - val_loss: 8.0612\n",
      "Epoch 87/100\n",
      "157/157 [==============================] - 1s 3ms/step - loss: 9.6134 - val_loss: 8.3505\n",
      "Epoch 88/100\n",
      "157/157 [==============================] - 1s 4ms/step - loss: 8.7159 - val_loss: 9.3022\n",
      "Epoch 89/100\n",
      "157/157 [==============================] - 1s 3ms/step - loss: 8.2540 - val_loss: 5.5088\n",
      "Epoch 90/100\n",
      "157/157 [==============================] - 0s 3ms/step - loss: 7.5361 - val_loss: 4.4533\n",
      "Epoch 91/100\n",
      "157/157 [==============================] - 1s 3ms/step - loss: 7.0000 - val_loss: 10.7146\n",
      "Epoch 92/100\n",
      "157/157 [==============================] - 1s 3ms/step - loss: 6.5603 - val_loss: 3.3960\n",
      "Epoch 93/100\n",
      "157/157 [==============================] - 0s 3ms/step - loss: 6.2010 - val_loss: 3.4307\n",
      "Epoch 94/100\n",
      "157/157 [==============================] - 0s 3ms/step - loss: 5.7516 - val_loss: 3.0456\n",
      "Epoch 95/100\n",
      "157/157 [==============================] - 1s 4ms/step - loss: 5.2775 - val_loss: 7.2323\n",
      "Epoch 96/100\n",
      "157/157 [==============================] - 0s 3ms/step - loss: 5.0223 - val_loss: 5.0752\n",
      "Epoch 97/100\n",
      "157/157 [==============================] - 1s 3ms/step - loss: 4.5595 - val_loss: 5.9443\n",
      "Epoch 98/100\n",
      "157/157 [==============================] - 0s 3ms/step - loss: 4.2739 - val_loss: 2.7403\n",
      "Epoch 99/100\n",
      "157/157 [==============================] - 1s 3ms/step - loss: 4.0977 - val_loss: 3.9731\n",
      "Epoch 100/100\n",
      "157/157 [==============================] - 1s 4ms/step - loss: 3.7377 - val_loss: 1.1528\n"
     ]
    }
   ],
   "source": [
    "reset_session()\n",
    "\n",
    "model = tf.keras.models.Sequential([\n",
    "    tf.keras.layers.SimpleRNN(20, return_sequences=True, input_shape=[None, 1]),\n",
    "    tf.keras.layers.SimpleRNN(20),\n",
    "    tf.keras.layers.Dense(3)\n",
    "])\n",
    "\n",
    "model.compile(loss=\"mse\", optimizer=\"nadam\")\n",
    "run = model.fit(X_train_3ahead[..., np.newaxis],\n",
    "                y_train_3ahead[..., np.newaxis],\n",
    "                epochs=100,\n",
    "                validation_data=(X_valid_3ahead[..., np.newaxis], \n",
    "                                 y_valid_3ahead[..., np.newaxis]))"
   ]
  },
  {
   "cell_type": "code",
   "execution_count": 68,
   "metadata": {},
   "outputs": [
    {
     "data": {
      "image/png": "[encoded data removed]",
      "text/plain": [
       "<Figure size 800x500 with 1 Axes>"
      ]
     },
     "metadata": {},
     "output_type": "display_data"
    }
   ],
   "source": [
    "pd.DataFrame(run.history).plot(figsize=(8, 5))\n",
    "plt.grid(True)\n",
    "plt.show()"
   ]
  },
  {
   "cell_type": "markdown",
   "metadata": {},
   "source": [
    "Get the predictions on the test set."
   ]
  },
  {
   "cell_type": "code",
   "execution_count": 69,
   "metadata": {},
   "outputs": [
    {
     "name": "stdout",
     "output_type": "stream",
     "text": [
      "55/55 [==============================] - 0s 1ms/step\n"
     ]
    },
    {
     "data": {
      "text/plain": [
       "array([[120.315544, 120.356026, 120.39867 ],\n",
       "       [120.303535, 120.343315, 120.38704 ],\n",
       "       [120.14653 , 120.18789 , 120.22743 ],\n",
       "       ...,\n",
       "       [132.95035 , 132.8927  , 133.08313 ],\n",
       "       [132.71977 , 132.65945 , 132.8529  ],\n",
       "       [132.87343 , 132.80862 , 133.00648 ]], dtype=float32)"
      ]
     },
     "execution_count": 69,
     "metadata": {},
     "output_type": "execute_result"
    }
   ],
   "source": [
    "y_pred = model.predict(X_test_3ahead[..., np.newaxis])\n",
    "y_pred"
   ]
  },
  {
   "cell_type": "markdown",
   "metadata": {},
   "source": [
    "Now compute the MSE and movement accuracy on the test set for 1-step, 2-steps and 3-steps ahead."
   ]
  },
  {
   "cell_type": "code",
   "execution_count": 70,
   "metadata": {},
   "outputs": [
    {
     "data": {
      "text/plain": [
       "array([0.79965887, 1.22859141, 1.63767711])"
      ]
     },
     "execution_count": 70,
     "metadata": {},
     "output_type": "execute_result"
    }
   ],
   "source": [
    "mean_squared_error(y_test_3ahead, y_pred, multioutput=\"raw_values\")"
   ]
  },
  {
   "cell_type": "code",
   "execution_count": 71,
   "metadata": {},
   "outputs": [
    {
     "name": "stdout",
     "output_type": "stream",
     "text": [
      "0.5042930738408701\n",
      "0.5031482541499713\n",
      "0.5042930738408701\n"
     ]
    }
   ],
   "source": [
    "movement_test_1ahead = X_test_3ahead[:,-1] < y_test_3ahead[:,0]\n",
    "movement_test_2ahead = X_test_3ahead[:,-1] < y_test_3ahead[:,1]\n",
    "movement_test_3ahead = X_test_3ahead[:,-1] < y_test_3ahead[:,2]\n",
    "movement_pred_1ahead = X_test_3ahead[:,-1] < y_pred[:,0]\n",
    "movement_pred_2ahead = X_test_3ahead[:,-1] < y_pred[:,1]\n",
    "movement_pred_3ahead = X_test_3ahead[:,-1] < y_pred[:,2]\n",
    "\n",
    "print(accuracy_score(movement_test_1ahead, movement_pred_1ahead))\n",
    "print(accuracy_score(movement_test_2ahead, movement_pred_2ahead))\n",
    "print(accuracy_score(movement_test_3ahead, movement_pred_3ahead))"
   ]
  },
  {
   "cell_type": "markdown",
   "metadata": {},
   "source": [
    "Comment: From the learning curve there is no overfitting.\n",
    "\n",
    "(Additional comment: We see the MSEs get worse the further out they are, and the movement accuracies are around 50% as before, but also get worse the further out they are. Again, the 1-step ahead MSE and movement accuracy are slightly worse than random forest.)"
   ]
  },
  {
   "cell_type": "markdown",
   "metadata": {},
   "source": [
    "Method 2: At time step 8, predict time step 11. At time step 9, predict time step 12. At time step 10, predict time step 13."
   ]
  },
  {
   "cell_type": "code",
   "execution_count": 72,
   "metadata": {},
   "outputs": [],
   "source": [
    "reset_session()\n",
    "\n",
    "model = tf.keras.models.Sequential([\n",
    "    tf.keras.layers.SimpleRNN(20, return_sequences=True, input_shape=[None, 1]),\n",
    "    tf.keras.layers.SimpleRNN(20, return_sequences=True),\n",
    "    tf.keras.layers.TimeDistributed(tf.keras.layers.Dense(1)),\n",
    "    tf.keras.layers.Lambda(lambda Y_pred: Y_pred[:, -3:])\n",
    "])\n",
    "\n",
    "model.compile(loss=\"mse\", optimizer=\"nadam\")\n",
    "run = model.fit(X_train_3ahead[..., np.newaxis],\n",
    "                y_train_3ahead[..., np.newaxis],\n",
    "                epochs=100,\n",
    "                validation_data=(X_valid_3ahead[..., np.newaxis], \n",
    "                                 y_valid_3ahead[..., np.newaxis]), verbose=0)"
   ]
  },
  {
   "cell_type": "code",
   "execution_count": 73,
   "metadata": {},
   "outputs": [
    {
     "data": {
      "image/png": "[encoded data removed]",
      "text/plain": [
       "<Figure size 800x500 with 1 Axes>"
      ]
     },
     "metadata": {},
     "output_type": "display_data"
    }
   ],
   "source": [
    "pd.DataFrame(run.history).plot(figsize=(8, 5))\n",
    "plt.grid(True)\n",
    "plt.show()"
   ]
  },
  {
   "cell_type": "code",
   "execution_count": 74,
   "metadata": {},
   "outputs": [
    {
     "name": "stdout",
     "output_type": "stream",
     "text": [
      "55/55 [==============================] - 0s 1ms/step\n"
     ]
    },
    {
     "data": {
      "text/plain": [
       "array([2.2372516 , 2.228485  , 2.13704864])"
      ]
     },
     "execution_count": 74,
     "metadata": {},
     "output_type": "execute_result"
    }
   ],
   "source": [
    "y_pred = model.predict(X_test_3ahead[...,np.newaxis])[...,0]\n",
    "mean_squared_error(y_test_3ahead, y_pred, multioutput=\"raw_values\")"
   ]
  },
  {
   "cell_type": "code",
   "execution_count": 75,
   "metadata": {},
   "outputs": [
    {
     "name": "stdout",
     "output_type": "stream",
     "text": [
      "0.5008586147681741\n",
      "0.5025758443045221\n",
      "0.519175729822553\n"
     ]
    }
   ],
   "source": [
    "movement_pred_1ahead = X_test_3ahead[:,-1] < y_pred[:,0]\n",
    "movement_pred_2ahead = X_test_3ahead[:,-1] < y_pred[:,1]\n",
    "movement_pred_3ahead = X_test_3ahead[:,-1] < y_pred[:,2]\n",
    "\n",
    "print(accuracy_score(movement_test_1ahead, movement_pred_1ahead))\n",
    "print(accuracy_score(movement_test_2ahead, movement_pred_2ahead))\n",
    "print(accuracy_score(movement_test_3ahead, movement_pred_3ahead))"
   ]
  },
  {
   "cell_type": "markdown",
   "metadata": {},
   "source": [
    "Method 3: At time step 1, predict time steps 2, 3 and 4. At time step 2, predict time steps 3, 4 and 5, etc. At time step 10, predict time steps 11, 12 and 13. Train the model based on all predictions but evaluate the model based only on the predictions at time step 10.\n",
    "\n",
    "We need to adjust the X and y variable again for this RNN architecture. As explained above, it's fine to not subtract 2 from `train_idx` and `valid_idx`."
   ]
  },
  {
   "cell_type": "code",
   "execution_count": 76,
   "metadata": {},
   "outputs": [
    {
     "name": "stdout",
     "output_type": "stream",
     "text": [
      "(5021, 10, 1)\n",
      "(5021, 10, 3)\n"
     ]
    }
   ],
   "source": [
    "n_steps = 10\n",
    "n_ahead = 3\n",
    "n_sample = X_3ahead.shape[0]\n",
    "series = np.concatenate((X_3ahead, y_3ahead), axis=1)[...,np.newaxis]\n",
    "X_train = series[:(train_idx-2), :n_steps]\n",
    "X_valid = series[(train_idx-2):(valid_idx-2), :n_steps]\n",
    "X_test = series[(valid_idx-2):, :n_steps]\n",
    "Y = np.empty((n_sample, n_steps, n_ahead))\n",
    "for step_ahead in range(1, n_ahead + 1):\n",
    "    Y[..., step_ahead - 1] = series[..., step_ahead:step_ahead + n_steps, 0]\n",
    "y_train = Y[:(train_idx-2)]\n",
    "y_valid = Y[(train_idx-2):(valid_idx-2)]\n",
    "y_test = Y[(valid_idx-2):]\n",
    "\n",
    "print(X_train.shape)\n",
    "print(y_train.shape)"
   ]
  },
  {
   "cell_type": "code",
   "execution_count": 77,
   "metadata": {},
   "outputs": [],
   "source": [
    "reset_session()\n",
    "\n",
    "model = tf.keras.models.Sequential([\n",
    "    tf.keras.layers.SimpleRNN(20, return_sequences=True, input_shape=[None, 1]),\n",
    "    tf.keras.layers.SimpleRNN(20, return_sequences=True),\n",
    "    tf.keras.layers.TimeDistributed(tf.keras.layers.Dense(3))\n",
    "])\n",
    "def last_time_step_mse(Y_true, Y_pred):\n",
    "    return tf.keras.metrics.mean_squared_error(Y_true[:, -1], Y_pred[:, -1])\n",
    "\n",
    "model.compile(loss=\"mse\", optimizer=\"nadam\",metrics=[last_time_step_mse])\n",
    "run = model.fit(X_train, y_train, epochs=100,\n",
    "                    validation_data=(X_valid, y_valid), verbose=0)"
   ]
  },
  {
   "cell_type": "code",
   "execution_count": 78,
   "metadata": {},
   "outputs": [
    {
     "data": {
      "image/png": "[encoded data removed]",
      "text/plain": [
       "<Figure size 800x500 with 1 Axes>"
      ]
     },
     "metadata": {},
     "output_type": "display_data"
    }
   ],
   "source": [
    "# Removes all the curves except the two we care about: loss and val_last_time_step_mse\n",
    "run_history = {key: run.history[key] for key in ('loss', 'val_last_time_step_mse')}\n",
    "pd.DataFrame(run_history).plot(figsize=(8, 5))\n",
    "plt.grid(True)\n",
    "plt.show()"
   ]
  },
  {
   "cell_type": "code",
   "execution_count": 79,
   "metadata": {},
   "outputs": [
    {
     "name": "stdout",
     "output_type": "stream",
     "text": [
      "55/55 [==============================] - 0s 2ms/step\n"
     ]
    },
    {
     "data": {
      "text/plain": [
       "array([0.49965259, 0.92489854, 1.36193427])"
      ]
     },
     "execution_count": 79,
     "metadata": {},
     "output_type": "execute_result"
    }
   ],
   "source": [
    "y_pred = model.predict(X_test)\n",
    "mean_squared_error(y_test[:, -1], y_pred[:, -1], multioutput=\"raw_values\")"
   ]
  },
  {
   "cell_type": "code",
   "execution_count": 80,
   "metadata": {},
   "outputs": [
    {
     "name": "stdout",
     "output_type": "stream",
     "text": [
      "0.49456210646823123\n",
      "0.5082999427590155\n",
      "0.5048654836863194\n"
     ]
    }
   ],
   "source": [
    "movement_pred_1ahead = X_test_3ahead[:,-1] < y_pred[:, -1][:,0]\n",
    "movement_pred_2ahead = X_test_3ahead[:,-1] < y_pred[:, -1][:,1]\n",
    "movement_pred_3ahead = X_test_3ahead[:,-1] < y_pred[:, -1][:,2]\n",
    "\n",
    "print(accuracy_score(movement_test_1ahead, movement_pred_1ahead))\n",
    "print(accuracy_score(movement_test_2ahead, movement_pred_2ahead))\n",
    "print(accuracy_score(movement_test_3ahead, movement_pred_3ahead))"
   ]
  },
  {
   "cell_type": "markdown",
   "metadata": {},
   "source": [
    "Finally, this model has better 1-step ahead RMSE than random forest!\n",
    "\n",
    "While it is not required in the question, you can try replacing the `SimpleRNN` layers with `LSTM` layers, the results are essentially the same."
   ]
  }
 ],
 "metadata": {
  "hide_input": false,
  "kernelspec": {
   "display_name": "Python 3 (ipykernel)",
   "language": "python",
   "name": "python3"
  },
  "language_info": {
   "codemirror_mode": {
    "name": "ipython",
    "version": 3
   },
   "file_extension": ".py",
   "mimetype": "text/x-python",
   "name": "python",
   "nbconvert_exporter": "python",
   "pygments_lexer": "ipython3",
   "version": "3.9.13"
  },
  "latex_envs": {
   "LaTeX_envs_menu_present": true,
   "autoclose": false,
   "autocomplete": false,
   "bibliofile": "biblio.bib",
   "cite_by": "apalike",
   "current_citInitial": 1,
   "eqLabelWithNumbers": true,
   "eqNumInitial": 1,
   "hotkeys": {
    "equation": "Ctrl-E",
    "itemize": "Ctrl-I"
   },
   "labels_anchors": false,
   "latex_user_defs": false,
   "report_style_numbering": false,
   "user_envs_cfg": false
  },
  "toc": {
   "base_numbering": 1,
   "nav_menu": {},
   "number_sections": false,
   "sideBar": true,
   "skip_h1_title": false,
   "title_cell": "Table of Contents",
   "title_sidebar": "Contents",
   "toc_cell": false,
   "toc_position": {},
   "toc_section_display": true,
   "toc_window_display": false
  },
  "varInspector": {
   "cols": {
    "lenName": 16,
    "lenType": 16,
    "lenVar": 40
   },
   "kernels_config": {
    "python": {
     "delete_cmd_postfix": "",
     "delete_cmd_prefix": "del ",
     "library": "var_list.py",
     "varRefreshCmd": "print(var_dic_list())"
    },
    "r": {
     "delete_cmd_postfix": ") ",
     "delete_cmd_prefix": "rm(",
     "library": "var_list.r",
     "varRefreshCmd": "cat(var_dic_list()) "
    }
   },
   "types_to_exclude": [
    "module",
    "function",
    "builtin_function_or_method",
    "instance",
    "_Feature"
   ],
   "window_display": false
  }
 },
 "nbformat": 4,
 "nbformat_minor": 2
}
