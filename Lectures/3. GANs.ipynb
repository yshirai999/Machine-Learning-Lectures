{
 "cells": [
  {
   "cell_type": "markdown",
   "id": "e5aa2669",
   "metadata": {},
   "source": [
    "# <center> CFRM521 Machine Learning in Finance\n",
    "## <center> Lecture 21\n",
    "### <center> Yoshihiro Shirai"
   ]
  },
  {
   "cell_type": "markdown",
   "id": "c092dc6c",
   "metadata": {},
   "source": [
    "# Generative Adversarial Networks\n",
    "\n",
    "## 1 Introduction to GANs\n",
    "\n",
    "- Generative Adversarial Networks (GANs) were introduced by Ian Goodfellow in 2014. It is a generative model, GANs are designed to generate new data samples that resemble a given dataset, such as images, time series, or text. The only other generative model we have seen so far is the Naive Bayes classifier. \n",
    "\n",
    "- A GAN consists of two neural network:\n",
    "    - Generator, which tries to create fake data that looks as realistic as possible;\n",
    "    - Discriminator, which tries to distinguish between real data (from the training set) and fake data (produced by the generator).\n",
    "\n",
    "- At each step during training:\n",
    "    - The generator improves its ability to produce realistic data to fool the discriminator.\n",
    "    - The discriminator improves its ability to tell real from fake.\n",
    "\n",
    "- This adversarial process continues until the generator produces data that the discriminator cannot reliably distinguish from real data.\n",
    "\n",
    "- GANs have become a powerful tool for generative modeling in many fields, including finance, art, and science. It is particularly suitable as a numerical technic for the spectral synthesis problem in Harmonic analysis, i.e. the problem of modifying the decomposition in the trigonometric basis of $L^2$ (or any other basis of any other suitable Banach space) of a signal to generate new ones. The types of signals synthesized may be images, sounds, videos and, of course, time series.\n",
    "\n"
   ]
  },
  {
   "cell_type": "markdown",
   "id": "8827fe40",
   "metadata": {},
   "source": [
    "## 2. Training GANs\n",
    "\n",
    "A Generative Adversarial Network (GAN) consists of two neural networks, a generator $G$ and a discriminator $D$, that are trained simultaneously through adversarial processes.\n",
    "\n",
    "1. Generator $( G )$\n",
    "- The generator takes as input a random noise vector $z$ sampled from a prior distribution $p_z(z)$ (often a standard normal distribution).\n",
    "- It outputs a synthetic data sample $G(z)$ intended to resemble real data.\n",
    "\n",
    "2. Discriminator $( D )$\n",
    "- The discriminator receives as input either a real data sample $x \\sim \\mathbb{P}$ and a fake sample $G(z)$, where $z\\sim\\mathbb{Q}$.\n",
    "- Note that $z$ may be a vector of any length $f$, where $f$ is called the receptive field\n",
    "- It outputs a probability $D(x) \\in [0, 1]$ representing the likelihood that $x$ is real.\n",
    "\n",
    "3. Objective Function\n",
    "- The GAN training objective is a minimax game between $( G )$ and $( D )$:\n",
    "$$\n",
    "\\min_G \\max_D V(D, G) = \\mathbb{E}^{\\mathbb{P}} [\\log D(x)] + \\mathbb{E}^{\\mathbb{Q}} [\\log(1 - D(G(z)))]\n",
    "$$\n",
    "- The higher the value of $V$, the higher the ability of the discrimator, on average, to correctly distinguish between real and fake data\n",
    "- The lower the value, the higher the ability of the generator, on average, to fool the discriminator\n",
    "\n",
    "4. Algorithm (Pseudocode)\n",
    "For each training iteration:\n",
    "- Sample a minibatch of real data ${x^{(1)}, ..., x^{(m)}}$ from $\\mathbb{P}$.\n",
    "Sample a minibatch of noise ${z^{(1)}, ..., z^{(m)}}$ from $\\mathbb{Q}$.\n",
    "Update the discriminator by stochastic gradient ascent: \n",
    "$$\n",
    "\\nabla_{\\theta_d} \\frac{1}{m} \\sum_{i=1}^m [\\log D(x^{(i)}) + \\log(1 - D(G(z^{(i)})))]\n",
    "$$\n",
    "- Sample another minibatch of noise ${z^{(1)}, ..., z^{(m)}}$.\n",
    "- Update the generator by descending its stochastic gradient: \n",
    "$$\n",
    "[ \\nabla_{\\theta_g} \\frac{1}{m} \\sum_{i=1}^m \\log(1 - D(G(z^{(i)}))) ]\n",
    "$$\n",
    "or (non-saturating loss): \n",
    "$$\n",
    "[ \\nabla_{\\theta_g} \\frac{1}{m} \\sum_{i=1}^m -\\log D(G(z^{(i)})) ]\n",
    "$$\n",
    "\n",
    "5. Summary\n",
    "- The generator and discriminator are trained in turns.\n",
    "- The generator learns to produce data that is indistinguishable from real data.\n",
    "- The discriminator learns to distinguish real from fake data.\n",
    "- Training continues until the discriminator cannot reliably tell real from fake (i.e., $D(x) \\approx 0.5$ for all $x$).\n",
    "\n",
    "6. References:\n",
    "Goodfellow, I. et al. (2014). Generative Adversarial Nets ([Arxiv](https://arxiv.org/abs/1412.6515))"
   ]
  },
  {
   "cell_type": "markdown",
   "id": "8227a48c",
   "metadata": {},
   "source": [
    "## 3. QuantGAN, TAGAN and SAGAN\n",
    "\n",
    "- The general GAN framework works well for non sequential data, such as image generation\n",
    "\n",
    "- In finance, of course, one is mainly interested at synthesizing time series \n",
    "\n",
    "- Training in this case can be achieved using the time series generative adversarial network (TGAN, [Yoon et al, 2019](https://proceedings.neurips.cc/paper_files/paper/2019/file/c9efe5f26cd17ba6216bbe2a7d26d490-Paper.pdf)) model\n",
    "\n",
    "- Here the following model is considered:\n",
    "    - $\\mathbb{P}$ is a uniform distribution over the window data of length $\\ell$,so that each sample $x^{(i)}$ of the minibatch is a vector $x_{i:i+\\ell-1}$\n",
    "    - Similarly, each $z^{(i)}$ is now a vector of length $\\ell+f$\n",
    "    - The first $\\ell$ elements of $z^{(i)}$ is a batch of real data, while the rest is a normally distributed random vector of size f\n",
    "    - The generator must be able to take in an arbitrary number $b$ of vectors of length $\\ell+f$ and output $b$ vectors of length $\\ell$\n",
    "    - The discriminator must be able to take in an arbitrary number $b$ of vectors of length $\\ell$ and output a vector $b$ of probabilities that each input is from the real data\n",
    "\n",
    "- Of course, we can use different network architecture than standard feedforward networks\n",
    "    - Convolutional layers have shown effectivness in generating data that resembles locally the statistical features of financial time series (QuantGan, [Wiese et al.](https://arxiv.org/pdf/1907.06673))\n",
    "    - Self-attention layers are instead suitable to capture long range dependencies of financial time series (TAGAN and SAGAN [Fu et al.](https://arxiv.org/pdf/2207.00493))"
   ]
  },
  {
   "cell_type": "markdown",
   "id": "c0176656",
   "metadata": {},
   "source": [
    "## An Example\n",
    "\n",
    "- We implement the structure above assuming the following structures for the discrimnator and the generator:\n",
    "    - Discriminator: feedforward network, two hidden layers and one output layer with sigmoid activation\n",
    "    - Generator: Dense Layer + 2 convolutional layers + 1 Multiheaded attention layer\n",
    "\n",
    "- The signal is assumed to be composed of a sine and a cosine, with fluctuating frequencies over each window. That is:\n",
    "    - For each period (here assumed of length `ell`), the phase of sine and cosine are fixed, but randomly selected at the beginning of the period\n",
    "    - Similarly, the amplituted of the two underlying signals is also random, but fixed throughout the period\n",
    "\n",
    "- Note: it is advisable at this stage to use GPU for training\n",
    "    - It is far easier to use GPU with PyTorch, and also more explicit\n",
    "    - Here I have implemented all the networks in keras\n",
    "    - There are conflicts between the current version of tensorflow and CUDA\n",
    "    - So you need to install CUDA 11.8 and cuDNN\n",
    "    - We also need to scale back to Python 3.10 and use tensorflow 2.10\n"
   ]
  },
  {
   "cell_type": "code",
   "execution_count": 1,
   "id": "cac8d726",
   "metadata": {},
   "outputs": [
    {
     "name": "stdout",
     "output_type": "stream",
     "text": [
      "INFO:tensorflow:Mixed precision compatibility check (mixed_float16): OK\n",
      "Your GPU will likely run quickly with dtype policy mixed_float16 as it has compute capability of at least 7.0. Your GPU: NVIDIA GeForce RTX 4070 Laptop GPU, compute capability 8.9\n",
      "Mixed precision enabled.\n",
      "TensorFlow: 2.10.1\n",
      "NumPy: 1.24.4\n",
      "h5py: 3.7.0\n",
      "GPUs available to TensorFlow: [PhysicalDevice(name='/physical_device:GPU:0', device_type='GPU')]\n",
      "Built with CUDA: True\n",
      "CUDA version: 64_112\n",
      "cuDNN version: 64_8\n",
      "nvcc: NVIDIA (R) Cuda compiler driver\n",
      "Copyright (c) 2005-2022 NVIDIA Corporation\n",
      "Built on Wed_Sep_21_10:41:10_Pacific_Daylight_Time_2022\n",
      "Cuda compilation tools, release 11.8, V11.8.89\n",
      "Build cuda_11.8.r11.8/compiler.31833905_0\n"
     ]
    }
   ],
   "source": [
    "# Libraries\n",
    "import numpy as np\n",
    "import os\n",
    "# os.environ[\"CUDA_VISIBLE_DEVICES\"] = \"-1\" # Uncomment to force CPU usage\n",
    "import tensorflow as tf\n",
    "from tensorflow import keras\n",
    "from tensorflow.keras import layers\n",
    "import h5py\n",
    "import matplotlib.pyplot as plt\n",
    "\n",
    "# Enable mixed precision if your GPU supports it (RTX 20xx/30xx/40xx or newer)\n",
    "try:\n",
    "    from tensorflow.keras import mixed_precision\n",
    "    mixed_precision.set_global_policy('mixed_float16')\n",
    "    print(\"Mixed precision enabled.\")\n",
    "except Exception as e:\n",
    "    print(\"Mixed precision not enabled:\", e)\n",
    "\n",
    "print(\"TensorFlow:\", tf.__version__)\n",
    "print(\"NumPy:\", np.__version__)\n",
    "print(\"h5py:\", h5py.__version__)\n",
    "print(\"GPUs available to TensorFlow:\", tf.config.list_physical_devices('GPU'))\n",
    "print(\"Built with CUDA:\", tf.test.is_built_with_cuda())\n",
    "print(\"CUDA version:\", tf.sysconfig.get_build_info().get(\"cuda_version\"))\n",
    "print(\"cuDNN version:\", tf.sysconfig.get_build_info().get(\"cudnn_version\"))\n",
    "!nvcc --version\n"
   ]
  },
  {
   "cell_type": "markdown",
   "id": "ec4f98e1",
   "metadata": {},
   "source": [
    "We first define the signal."
   ]
  },
  {
   "cell_type": "code",
   "execution_count": 2,
   "id": "145c8c40",
   "metadata": {},
   "outputs": [],
   "source": [
    "# Parameters\n",
    "ell = 50   # Length of each time series sample\n",
    "f = 20   # Size of the noise vector\n",
    "T = 10000  # Length of time series\n",
    "batch_size = 128 # Larger batch size for better GPU utilization\n",
    "epochs = 1000\n",
    "\n",
    "# Generate synthetic time series data\n",
    "# Here we use sine waves as an example\n",
    "# Generate synthetic time series data: sum of sine, cosine, and Gaussian noise\n",
    "def generate_real_series(n_samples, ell):\n",
    "    x = np.linspace(0, 2 * np.pi, ell)\n",
    "    series = []\n",
    "    for _ in range(n_samples):\n",
    "        phase_shift = np.random.uniform(0, 2*np.pi)\n",
    "        amplitude_sin = np.random.uniform(0.8, 1.2)\n",
    "        amplitude_cos = np.random.uniform(0.8, 1.2)\n",
    "        noise = np.random.normal(0, 0.2, ell)\n",
    "        s = amplitude_sin * np.sin(x + phase_shift) + amplitude_cos * np.cos(2*x + phase_shift) + noise\n",
    "        series.append(s)\n",
    "    return np.array(series)\n",
    "\n",
    "real_series = generate_real_series(T, 2*ell)\n",
    "\n",
    "def get_real_batch(real_series, batch_size, window_length):\n",
    "    idx = np.random.randint(0, real_series.shape[0], batch_size)\n",
    "    batch = real_series[idx, :window_length]  # shape: (batch_size, window_length)\n",
    "    return batch"
   ]
  },
  {
   "cell_type": "markdown",
   "id": "8137499b",
   "metadata": {},
   "source": [
    "Next we define the generator, the discriminator, and the GAN model."
   ]
  },
  {
   "cell_type": "code",
   "execution_count": 3,
   "id": "3f00bca0",
   "metadata": {},
   "outputs": [],
   "source": [
    "# Generator model\n",
    "def build_generator(f, ell):\n",
    "    # Input: (batch_size, f + ell)\n",
    "    inputs = keras.Input(shape=(f + ell,))\n",
    "    x = layers.Dense(ell * 16, activation='relu')(inputs)\n",
    "    x = layers.Reshape((ell, 16))(x)  # (batch_size, ell, 16)\n",
    "    x = layers.Conv1D(32, kernel_size=3, padding='same', activation='relu')(x)\n",
    "    x = layers.Conv1D(32, kernel_size=3, padding='same', activation='relu')(x)\n",
    "    # Create a causal mask for self-attention\n",
    "    # Shape: (1, ell, ell)\n",
    "    causal_mask = tf.linalg.band_part(tf.ones((ell, ell)), -1, 0)\n",
    "    causal_mask = tf.cast(causal_mask, dtype=tf.bool)[tf.newaxis, :, :]\n",
    "    # Self-attention layer\n",
    "    attn = layers.MultiHeadAttention(num_heads=2, key_dim=16)(x, x, attention_mask=causal_mask)\n",
    "    x = layers.Add()([x, attn])  # Residual connection\n",
    "    x = layers.Flatten()(x)\n",
    "    outputs = layers.Dense(ell, dtype='float32')(x)  # Output: (batch_size, ell) (in float32 for stability)\n",
    "    model = keras.Model(inputs, outputs)\n",
    "    return model\n",
    "\n",
    "# Discriminator model\n",
    "def build_discriminator(ell):\n",
    "    model = keras.Sequential([\n",
    "        layers.Input(shape=(ell,)),\n",
    "        layers.Flatten(),  # Flatten the 2D sequence to 1D\n",
    "        layers.Dense(512, activation='relu'),\n",
    "        layers.Dense(256, activation='relu'),\n",
    "        layers.Dense(128, activation='relu'),\n",
    "        layers.Dense(1, activation='sigmoid', dtype='float32'),  # Output: (batch_size, 1) (in float32 for stability)\n",
    "    ])\n",
    "    return model\n",
    "\n",
    "# Build models\n",
    "generator = build_generator(f, ell)\n",
    "discriminator = build_discriminator(ell)\n",
    "discriminator.compile(optimizer='adam', loss='binary_crossentropy', metrics=['accuracy'])\n",
    "\n",
    "# GAN model (generator + frozen discriminator)\n",
    "discriminator.trainable = False\n",
    "gan_input = keras.Input(shape=(f+ell,))\n",
    "gan_output = discriminator(generator(gan_input))\n",
    "gan = keras.Model(gan_input, gan_output)\n",
    "gan.compile(optimizer='nadam', loss='binary_crossentropy', metrics=['accuracy'])"
   ]
  },
  {
   "cell_type": "markdown",
   "id": "cc9df804",
   "metadata": {},
   "source": [
    "- Now we train the model. \n",
    "\n",
    "- Note that at each step we first train the discriminator for given real and fake batch of data, the last of witch generated by the generator.\n",
    "\n",
    "- Both the real and the generated data must, however, follow the same previous history of ell observations\n",
    "\n",
    "- Note: If you are on a CPU, training this model with the above parameters will take far longer. On my cpu (Intel(R) Core(TM) Ultra 9 185H with 22 threads) it takes about 2 minutes and 18 seconds to get to the first epoch, whereas on GPU it takes less than 2 minutes to complete the training."
   ]
  },
  {
   "cell_type": "code",
   "execution_count": 4,
   "id": "7b13b677",
   "metadata": {},
   "outputs": [
    {
     "name": "stdout",
     "output_type": "stream",
     "text": [
      "Epoch 0: D loss=0.6582, D acc=0.5742, G loss=0.6771, G acc=1.0000\n",
      "Epoch 100: D loss=0.7335, D acc=0.6562, G loss=0.8845, G acc=0.0000\n",
      "Epoch 200: D loss=1.0579, D acc=0.2461, G loss=0.7502, G acc=0.0078\n",
      "Epoch 300: D loss=0.8300, D acc=0.2305, G loss=0.6044, G acc=1.0000\n",
      "Epoch 400: D loss=1.5149, D acc=0.5000, G loss=0.9900, G acc=0.0000\n",
      "Epoch 500: D loss=0.5778, D acc=0.4414, G loss=0.5729, G acc=0.9531\n",
      "Epoch 600: D loss=0.8234, D acc=0.3203, G loss=0.6157, G acc=0.7500\n",
      "Epoch 700: D loss=0.5143, D acc=0.7930, G loss=0.9659, G acc=0.0547\n",
      "Epoch 800: D loss=2.1447, D acc=0.5000, G loss=1.0967, G acc=0.0000\n",
      "Epoch 900: D loss=0.7872, D acc=0.5977, G loss=0.8483, G acc=0.5234\n"
     ]
    }
   ],
   "source": [
    "# Training loop\n",
    "for epoch in range(epochs):\n",
    "    # 1. Train discriminator\n",
    "    discriminator.trainable = True\n",
    "    batch = get_real_batch(real_series, batch_size,2*ell)\n",
    "    history_batch = batch[:, :ell]  # shape: (batch_size, ell)\n",
    "    real_batch = batch[:, ell:2*ell]  # shape: (batch_size, ell)\n",
    "    noise_batch = np.random.normal(0, 1, (batch_size, f))\n",
    "    gen_input = np.concatenate([history_batch, noise_batch], axis=1)  # shape: (batch_size, ell+f)\n",
    "    fake_batch = generator.predict(gen_input, verbose=0)\n",
    "    X = np.concatenate([real_batch, fake_batch])\n",
    "    y = np.concatenate([np.ones((batch_size, 1)), np.zeros((batch_size, 1))])\n",
    "    \n",
    "    d_loss, d_acc = discriminator.train_on_batch(X, y)\n",
    "    \n",
    "    # 2. Train generator (via GAN)\n",
    "    discriminator.trainable = False\n",
    "    history_batch = get_real_batch(real_series, batch_size, ell)  # shape: (batch_size, ell)\n",
    "    noise = np.random.normal(0, 1, (batch_size, f))\n",
    "    gen_input = np.concatenate([history_batch, noise], axis=1)  # (batch_size, ell+f)\n",
    "    y_gen = np.ones((batch_size, 1))  # Try to fool the discriminator\n",
    "    g_metrics = gan.train_on_batch(gen_input, y_gen)\n",
    "    # Unpack metrics (loss, accuracy)\n",
    "    if isinstance(g_metrics, list) or isinstance(g_metrics, tuple):\n",
    "        g_loss = g_metrics[0]\n",
    "        g_acc = g_metrics[1] if len(g_metrics) > 1 else None\n",
    "    else:\n",
    "        g_loss = g_metrics\n",
    "        g_acc = None\n",
    "    if epoch % 100 == 0:\n",
    "        if g_acc is not None:\n",
    "            print(f\"Epoch {epoch}: D loss={d_loss:.4f}, D acc={d_acc:.4f}, G loss={g_loss:.4f}, G acc={g_acc:.4f}\")\n",
    "        else:\n",
    "            print(f\"Epoch {epoch}: D loss={d_loss:.4f}, D acc={d_acc:.4f}, G loss={g_loss:.4f}\")\n"
   ]
  },
  {
   "cell_type": "markdown",
   "id": "9af2921e",
   "metadata": {},
   "source": [
    "Finally, we:\n",
    "- generate a validation batch of data\n",
    "- compute average discriminator's ability to not be fooled by the generator, and \n",
    "- compare generated data for first batch with real data for that batch"
   ]
  },
  {
   "cell_type": "code",
   "execution_count": 6,
   "id": "8aab98af",
   "metadata": {},
   "outputs": [
    {
     "name": "stdout",
     "output_type": "stream",
     "text": [
      "Discriminator output on generated data: [0.64086205 0.3703005  0.40004066 0.40841606 0.38740316 0.5025785\n",
      " 0.5445046  0.594739   0.6026905  0.358935  ]\n",
      "Mean probability of being real (should be close to 0.5 if fooled): 0.481047\n"
     ]
    },
    {
     "data": {
      "text/plain": [
       "Text(0, 0.5, 'Value')"
      ]
     },
     "execution_count": 6,
     "metadata": {},
     "output_type": "execute_result"
    },
    {
     "data": {
      "image/png": "[encoded data removed]",
      "text/plain": [
       "<Figure size 1200x500 with 1 Axes>"
      ]
     },
     "metadata": {},
     "output_type": "display_data"
    }
   ],
   "source": [
    "import matplotlib.pyplot as plt\n",
    "\n",
    "num_windows = 10\n",
    "window_length = ell\n",
    "\n",
    "synthetic_series = []\n",
    "d_pred = []\n",
    "\n",
    "# Start with random history for the first window\n",
    "real_series = generate_real_series(num_windows, 2*ell)\n",
    "history = real_series[:,:ell]  # shape: (ell,)\n",
    "real_window = real_series[:,ell:2*ell]  # shape: (ell,)\n",
    "\n",
    "for i in range(num_windows):\n",
    "    noise = np.random.normal(0, 1, (f,))\n",
    "    gen_input = np.concatenate([history[i,:], noise])[np.newaxis, :]  # shape (1, ell+f)\n",
    "    window = generator.predict(gen_input, verbose=0)[0]\n",
    "    d_pred.append(discriminator.predict(window[np.newaxis, :], verbose=0))\n",
    "    synthetic_series.append(window)\n",
    "\n",
    "print(\"Discriminator output on generated data:\", np.array(d_pred).flatten())\n",
    "print(\"Mean probability of being real (should be close to 0.5 if fooled):\", np.array(d_pred).mean())\n",
    "\n",
    "plt.figure(figsize=(12, 5))\n",
    "plt.plot(synthetic_series[0], label=\"Generated Synthetic Series (Contextual)\")\n",
    "plt.plot(real_window[0,:], label=\"Real Series\", linewidth=2, alpha=0.7)\n",
    "plt.title(\"GAN Generated vs Real Time Series\")\n",
    "plt.xlabel(\"Time Step\")\n",
    "plt.ylabel(\"Value\")"
   ]
  }
 ],
 "metadata": {
  "kernelspec": {
   "display_name": "CFRM521_tfgpu",
   "language": "python",
   "name": "python3"
  },
  "language_info": {
   "codemirror_mode": {
    "name": "ipython",
    "version": 3
   },
   "file_extension": ".py",
   "mimetype": "text/x-python",
   "name": "python",
   "nbconvert_exporter": "python",
   "pygments_lexer": "ipython3",
   "version": "3.10.17"
  }
 },
 "nbformat": 4,
 "nbformat_minor": 5
}
