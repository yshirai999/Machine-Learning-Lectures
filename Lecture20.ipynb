{
 "cells": [
  {
   "cell_type": "markdown",
   "id": "af8aa79c",
   "metadata": {},
   "source": [
    "# <center> CFRM521 Machine Learning in Finance\n",
    "## <center> Lecture 20\n",
    "### <center> Yoshihiro Shirai"
   ]
  },
  {
   "cell_type": "markdown",
   "id": "12a6e964",
   "metadata": {},
   "source": [
    "\n",
    "# Self-attention for time series modeling in Pytorch\n",
    "\n",
    "- In this lecture we are going to see how to implement a self attention network in PyTorch for time series modeling\n",
    "\n",
    "- We start with introducing Pytorch for simple feedforward neural networks\n",
    "\n",
    "- We then explain the self-attention mechanism, and apply its applications to time series analysis\n",
    "\n",
    "- Finally, we will look at an example on how to predict business cycles using self-attention and using GPU to optimize training time\n",
    "\n",
    "- There is no reference for this lecture, but a nice paper you may consult is [here](https://arxiv.org/pdf/2207.00493)\n"
   ]
  },
  {
   "cell_type": "markdown",
   "id": "558e7847",
   "metadata": {},
   "source": [
    "# 1. Introduction to PyTorch\n",
    "\n",
    "- We have so far used Keras for implementing neural networks\n",
    "\n",
    "- Keras and PyTorch are both popular deep learning frameworks, but they cater to different needs:\n",
    "\n",
    "    - Keras: A high-level API that runs on top of TensorFlow, designed for ease of use and rapid prototyping. It abstracts many complexities, making it beginner-friendly.\n",
    "\n",
    "    - PyTorch: A lower-level framework that offers more flexibility and control, widely used in research and production. It provides dynamic computation graphs, making debugging and experimentation easier.\n",
    "\n",
    "- If you prioritize simplicity and quick model development, Keras might be the better choice. If you need more customization and control, PyTorch is often preferred.\n",
    "\n",
    "- Let's start with importing all the needed library\n"
   ]
  },
  {
   "cell_type": "code",
   "execution_count": 1,
   "id": "4aaa29a5",
   "metadata": {},
   "outputs": [],
   "source": [
    "import torch\n",
    "import torch.nn as nn\n",
    "import torch.nn.functional as F\n",
    "from sklearn.model_selection import train_test_split\n",
    "import matplotlib.pyplot as plt\n",
    "%matplotlib inline\n",
    "import numpy as np\n",
    "import pandas as pd"
   ]
  },
  {
   "cell_type": "markdown",
   "id": "6e199860",
   "metadata": {},
   "source": [
    "- With PyTorch we need to move away from functional programming and pass to Object Oriented Programming\n",
    "\n",
    "- This means that we define a class Model, which inherits all the properties and methods of PyTorch nn.Module class\n",
    "\n",
    "- We then specify additional properties and methods for our Model class\n",
    "\n",
    "- Specifically, we need two new functions:\n",
    "    - The function __init__ is automatically called when an instance of the class Model is defined\n",
    "        - It takes as inputs the dimensions of the neural network we want to define, which, in this case, has two hidden layers and one output layer\n",
    "        - It then defines three properties of the Model class, which correspond to the three linear operations that need to be performed by the neural network\n",
    "    - The function forward takes as input the actual input to the neural network\n",
    "        - It then compute the first linear operation defined by Model.fc1, and applies to it the relu function (not that relu is a method of the torch.nn.functional class)\n",
    "        - Similarly, it computes the second layer and the final output"
   ]
  },
  {
   "cell_type": "code",
   "execution_count": 2,
   "id": "1cd3dd2d",
   "metadata": {},
   "outputs": [],
   "source": [
    "class Model(nn.Module):\n",
    "    ## input layer (4 dimensions) -> hidden layer 1 (128 dimensions) -> hidden layer 2 (64 dimensions) -> output layer (3 classes of iris flower species)\n",
    "    ## The model is a simple feedforward neural network with two hidden layers.\n",
    "    ## The first hidden layer has 128 neurons and the second hidden layer has 64 neurons.\n",
    "    ## The activation function used is ReLU (Rectified Linear Unit).\n",
    "    ## The output layer has 1 neuron, which is suitable for regression tasks.\n",
    "    def __init__(self, in_features = 4, h1 = 8, h2 = 4, out_features = 3):\n",
    "        super(Model, self).__init__()\n",
    "        self.fc1 = nn.Linear(in_features, h1)\n",
    "        self.fc2 = nn.Linear(h1, h2)\n",
    "        self.out = nn.Linear(h2, out_features)\n",
    "\n",
    "    def forward(self, x):\n",
    "        x = F.relu(self.fc1(x))\n",
    "        x = F.relu(self.fc2(x))\n",
    "        x = self.out(x)\n",
    "        return x"
   ]
  },
  {
   "cell_type": "markdown",
   "id": "2190735a",
   "metadata": {},
   "source": [
    "- Next, let's see am example of how to use the model."
   ]
  },
  {
   "cell_type": "code",
   "execution_count": 3,
   "id": "4a6a7885",
   "metadata": {},
   "outputs": [
    {
     "name": "stdout",
     "output_type": "stream",
     "text": [
      "Model(\n",
      "  (fc1): Linear(in_features=4, out_features=8, bias=True)\n",
      "  (fc2): Linear(in_features=8, out_features=4, bias=True)\n",
      "  (out): Linear(in_features=4, out_features=3, bias=True)\n",
      ")\n",
      "Model Summary:\n",
      "Input Layer: 4 features\n",
      "Hidden Layer 1: 8 neurons\n",
      "Hidden Layer 2: 4 neurons\n",
      "Output Layer: 3 classes (iris flower species)\n"
     ]
    }
   ],
   "source": [
    "# Pick a manual seed for reproducibility\n",
    "torch.manual_seed(41)\n",
    "# Create an instance of the model\n",
    "model = Model()\n",
    "# Print the model architecture\n",
    "print(model)\n",
    "# Print the model summary\n",
    "print(\"Model Summary:\")\n",
    "print(\"Input Layer: 4 features\")\n",
    "print(\"Hidden Layer 1: 8 neurons\")\n",
    "print(\"Hidden Layer 2: 4 neurons\")\n",
    "print(\"Output Layer: 3 classes (iris flower species)\")"
   ]
  },
  {
   "cell_type": "code",
   "execution_count": 4,
   "id": "54fa0fc0",
   "metadata": {},
   "outputs": [
    {
     "data": {
      "text/plain": [
       "((150, 4), (150,))"
      ]
     },
     "execution_count": 4,
     "metadata": {},
     "output_type": "execute_result"
    }
   ],
   "source": [
    "url = 'https://gist.githubusercontent.com/curran/a08a1080b88344b0c8a7/raw/0e7a9b0a5d22642a06d3d5b9bcbad9890c8ee534/iris.csv'\n",
    "my_df = pd.read_csv(url)\n",
    "my_df.head()\n",
    "my_df['species']= my_df['species'].map({'setosa': 0.0, 'versicolor': 1.0, 'virginica': 2.0})\n",
    "my_df.head()\n",
    "X = my_df.drop('species', axis=1).values\n",
    "y = my_df['species'].values\n",
    "X.shape, y.shape"
   ]
  },
  {
   "cell_type": "code",
   "execution_count": 5,
   "id": "498d6d25",
   "metadata": {},
   "outputs": [],
   "source": [
    "# Splitting the dataset into training and testing sets\n",
    "X_train, X_test, y_train, y_test = train_test_split(X, y, test_size=0.2, random_state=42)\n",
    "X_train.shape, X_test.shape, y_train.shape, y_test.shape\n",
    "X_train = torch.FloatTensor(X_train)\n",
    "X_test = torch.FloatTensor(X_test)\n",
    "y_train = torch.LongTensor(y_train)\n",
    "y_test = torch.LongTensor(y_test)\n",
    "criterion = nn.CrossEntropyLoss() # Loss function for multi-class classification\n",
    "optimizer = torch.optim.Adam(model.parameters(), lr=0.01) # Adam optimizer with learning rate of 0.01"
   ]
  },
  {
   "cell_type": "code",
   "execution_count": 6,
   "id": "faa83989",
   "metadata": {},
   "outputs": [
    {
     "name": "stdout",
     "output_type": "stream",
     "text": [
      "Epoch [100/100], Loss: 0.07888845354318619, Test Loss: 0.07421839982271194\n"
     ]
    }
   ],
   "source": [
    "num_epochs = 100 # Number of epochs for training\n",
    "losses = [] # List to store the loss values for each epoch\n",
    "test_losses = []\n",
    "# Training loop\n",
    "for epoch in range(num_epochs):\n",
    "    \n",
    "    y_pred = model.forward(X_train)  # Updated to use X_train\n",
    "    loss = criterion(y_pred, y_train) # Compute the loss\n",
    "    losses.append(loss.detach().numpy()) # Store the loss value\n",
    "\n",
    "    y_test_pred = model.forward(X_test) # Forward pass on the test set\n",
    "    test_loss = criterion(y_test_pred, y_test) # Compute the test loss\n",
    "    test_losses.append(loss.detach().numpy())\n",
    "\n",
    "    # print every 100 epochs\n",
    "    if (epoch+1) % 100 == 0:\n",
    "        print(f'Epoch [{epoch+1}/{num_epochs}], Loss: {loss}, Test Loss: {test_loss}')\n",
    "    \n",
    "    # backpropagation\n",
    "    optimizer.zero_grad() # Zero the gradients \n",
    "    loss.backward() # Backward pass\n",
    "    optimizer.step() # Update the weights"
   ]
  },
  {
   "cell_type": "code",
   "execution_count": 7,
   "id": "1baa7a79",
   "metadata": {},
   "outputs": [
    {
     "data": {
      "image/png": "[encoded data removed]",
      "text/plain": [
       "<Figure size 640x480 with 1 Axes>"
      ]
     },
     "metadata": {},
     "output_type": "display_data"
    }
   ],
   "source": [
    "# Visualizing the loss over epochs\n",
    "plt.plot(losses, label='Loss')\n",
    "plt.plot(test_losses, label='Test Loss')\n",
    "plt.xlabel('Epochs')\n",
    "plt.ylabel('Loss')\n",
    "plt.title('Loss over Epochs')\n",
    "plt.legend()\n",
    "plt.show()"
   ]
  },
  {
   "cell_type": "code",
   "execution_count": 8,
   "id": "6ce3ae41",
   "metadata": {},
   "outputs": [
    {
     "name": "stdout",
     "output_type": "stream",
     "text": [
      "Test Loss: 0.07315991818904877\n",
      "1: tensor([1.8596, 8.6829, 6.0480]) 1\n",
      "2: tensor([ 11.7847,   6.2617, -15.8514]) 0\n",
      "3: tensor([-4.0239, 12.0519, 21.4590]) 2\n",
      "4: tensor([1.6434, 8.7708, 6.5691]) 1\n",
      "5: tensor([2.1041, 9.4800, 6.5846]) 1\n",
      "6: tensor([ 11.1117,   5.9415, -14.9749]) 0\n",
      "7: tensor([3.6889, 7.8427, 1.5168]) 1\n",
      "8: tensor([-0.1226, 10.4865, 12.0799]) 2\n",
      "9: tensor([0.8714, 9.0440, 8.3792]) 1\n",
      "10: tensor([3.1887, 8.0834, 2.7695]) 1\n",
      "11: tensor([ 0.1858,  9.8697, 10.7189]) 2\n",
      "12: tensor([ 10.3826,   5.5947, -14.0253]) 0\n",
      "13: tensor([ 11.9406,   6.3359, -16.0546]) 0\n",
      "14: tensor([ 10.4750,   5.6387, -14.1457]) 0\n",
      "15: tensor([ 11.2382,   6.0017, -15.1397]) 0\n",
      "16: tensor([1.9406, 9.1351, 6.4621]) 1\n",
      "17: tensor([-2.2278, 10.4134, 15.9880]) 2\n",
      "18: tensor([2.8538, 7.8613, 3.1269]) 1\n",
      "19: tensor([1.5557, 8.3593, 6.2188]) 1\n",
      "20: tensor([-2.1900, 10.2713, 15.7377]) 2\n",
      "21: tensor([ 10.0044,   5.4148, -13.5327]) 0\n",
      "22: tensor([0.2849, 9.3001, 9.8153]) 2\n",
      "23: tensor([ 10.3810,   5.5940, -14.0233]) 0\n",
      "24: tensor([-1.9564, 10.1787, 15.1775]) 2\n",
      "25: tensor([-0.0875, 11.5106, 13.2997]) 2\n",
      "26: tensor([-0.7777, 10.3876, 13.2004]) 2\n",
      "27: tensor([-1.7675, 10.2842, 14.9511]) 2\n",
      "28: tensor([-1.9930, 10.7630, 15.9811]) 2\n",
      "29: tensor([ 10.1170,   5.4684, -13.6794]) 0\n",
      "30: tensor([ 10.0418,   5.4326, -13.5815]) 0\n",
      "Accuracy: 30/30 = 1.0\n"
     ]
    }
   ],
   "source": [
    "# Evaluating the model on the test set\n",
    "with torch.no_grad(): # turn off backpropagation\n",
    "    y_eval = model.forward(X_test) # Forward pass on the test set\n",
    "    _, predicted = torch.max(y_eval.data, 1) # Get the predicted class labels\n",
    "    loss = criterion(y_eval, y_test) # Compute the loss on the test set\n",
    "    print(f'Test Loss: {loss}')\n",
    "\n",
    "correct = 0\n",
    "with torch.no_grad():\n",
    "    for i, data in enumerate(X_test):\n",
    "        y_val = model.forward(data)\n",
    "        print(f'{i+1}: {str(y_val)} {y_test[i]}')\n",
    "        if torch.argmax(y_val) == y_test[i]:\n",
    "            correct += 1\n",
    "print(f'Accuracy: {correct}/{len(X_test)} = {correct/len(X_test)}')"
   ]
  }
 ],
 "metadata": {
  "kernelspec": {
   "display_name": "CFRM521",
   "language": "python",
   "name": "python3"
  },
  "language_info": {
   "codemirror_mode": {
    "name": "ipython",
    "version": 3
   },
   "file_extension": ".py",
   "mimetype": "text/x-python",
   "name": "python",
   "nbconvert_exporter": "python",
   "pygments_lexer": "ipython3",
   "version": "3.11.11"
  }
 },
 "nbformat": 4,
 "nbformat_minor": 5
}
