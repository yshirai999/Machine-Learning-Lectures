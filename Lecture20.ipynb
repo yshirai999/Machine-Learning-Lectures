{
 "cells": [
  {
   "cell_type": "markdown",
   "id": "af8aa79c",
   "metadata": {},
   "source": [
    "# <center> CFRM521 Machine Learning in Finance\n",
    "## <center> Lecture 20\n",
    "### <center> Yoshihiro Shirai"
   ]
  },
  {
   "cell_type": "markdown",
   "id": "12a6e964",
   "metadata": {},
   "source": [
    "\n",
    "# Self-attention for time series modeling in Pytorch\n",
    "\n",
    "- In this lecture we are going to see how to implement a self attention network in PyTorch for time series modeling\n",
    "\n",
    "- We start with introducing Pytorch for simple feedforward neural networks\n",
    "\n",
    "- We then explain the self-attention mechanism, and apply its applications to time series analysis\n",
    "\n",
    "- Finally, we will look at an example on how to predict business cycles using self-attention and using GPU to optimize training time\n",
    "\n",
    "- There is no reference for this lecture, but a nice paper you may consult is [here](https://arxiv.org/pdf/2207.00493)\n"
   ]
  },
  {
   "cell_type": "markdown",
   "id": "558e7847",
   "metadata": {},
   "source": [
    "# 1. Introduction to PyTorch\n",
    "\n",
    "- We have so far used Keras for implementing neural networks\n",
    "\n",
    "- Keras and PyTorch are both popular deep learning frameworks, but they cater to different needs:\n",
    "\n",
    "    - Keras: A high-level API that runs on top of TensorFlow, designed for ease of use and rapid prototyping. It abstracts many complexities, making it beginner-friendly.\n",
    "\n",
    "    - PyTorch: A lower-level framework that offers more flexibility and control, widely used in research and production. It provides dynamic computation graphs, making debugging and experimentation easier.\n",
    "\n",
    "- If you prioritize simplicity and quick model development, Keras might be the better choice. If you need more customization and control, PyTorch is often preferred.\n",
    "\n",
    "- Let's start with importing all the needed library\n"
   ]
  },
  {
   "cell_type": "code",
   "execution_count": 3,
   "id": "4aaa29a5",
   "metadata": {},
   "outputs": [],
   "source": [
    "import torch\n",
    "import torch.nn as nn\n",
    "import torch.nn.functional as F\n",
    "from sklearn.model_selection import train_test_split\n",
    "import matplotlib.pyplot as plt\n",
    "%matplotlib inline\n",
    "import numpy as np\n",
    "import pandas as pd\n",
    "from torch.utils.data import DataLoader, TensorDataset # will be used later for batching"
   ]
  },
  {
   "cell_type": "markdown",
   "id": "6e199860",
   "metadata": {},
   "source": [
    "- With PyTorch we need to move away from functional programming and pass to Object Oriented Programming\n",
    "\n",
    "- This means that we define a class Model, which inherits all the properties and methods of PyTorch nn.Module class\n",
    "\n",
    "- We then specify additional properties and methods for our Model class\n",
    "\n",
    "- Specifically, we need two new functions:\n",
    "    - The function __init__ is automatically called when an instance of the class Model is defined\n",
    "        - It takes as inputs the dimensions of the neural network we want to define, which, in this case, has two hidden layers and one output layer\n",
    "        - It then defines three properties of the Model class, which correspond to the three linear operations that need to be performed by the neural network\n",
    "    - The function forward takes as input the actual input to the neural network\n",
    "        - It then compute the first linear operation defined by Model.fc1, and applies to it the relu function (not that relu is a method of the torch.nn.functional class)\n",
    "        - Similarly, it computes the second layer and the final output"
   ]
  },
  {
   "cell_type": "code",
   "execution_count": 2,
   "id": "1cd3dd2d",
   "metadata": {},
   "outputs": [],
   "source": [
    "class Model(nn.Module):\n",
    "    ## input layer (4 dimensions) -> hidden layer 1 (128 dimensions) -> hidden layer 2 (64 dimensions) -> output layer (3 classes of iris flower species)\n",
    "    ## The model is a simple feedforward neural network with two hidden layers.\n",
    "    ## The first hidden layer has 128 neurons and the second hidden layer has 64 neurons.\n",
    "    ## The activation function used is ReLU (Rectified Linear Unit).\n",
    "    ## The output layer has 1 neuron, which is suitable for regression tasks.\n",
    "    def __init__(self, in_features = 4, h1 = 8, h2 = 4, out_features = 3):\n",
    "        super(Model, self).__init__()\n",
    "        self.fc1 = nn.Linear(in_features, h1)\n",
    "        self.fc2 = nn.Linear(h1, h2)\n",
    "        self.out = nn.Linear(h2, out_features)\n",
    "\n",
    "    def forward(self, x):\n",
    "        x = F.relu(self.fc1(x))\n",
    "        x = F.relu(self.fc2(x))\n",
    "        x = self.out(x)\n",
    "        return x"
   ]
  },
  {
   "cell_type": "markdown",
   "id": "2190735a",
   "metadata": {},
   "source": [
    "- Next, let's see am example of how to use the model."
   ]
  },
  {
   "cell_type": "code",
   "execution_count": 3,
   "id": "4a6a7885",
   "metadata": {},
   "outputs": [
    {
     "name": "stdout",
     "output_type": "stream",
     "text": [
      "Model(\n",
      "  (fc1): Linear(in_features=4, out_features=8, bias=True)\n",
      "  (fc2): Linear(in_features=8, out_features=4, bias=True)\n",
      "  (out): Linear(in_features=4, out_features=3, bias=True)\n",
      ")\n",
      "Model Summary:\n",
      "Input Layer: 4 features\n",
      "Hidden Layer 1: 8 neurons\n",
      "Hidden Layer 2: 4 neurons\n",
      "Output Layer: 3 classes (iris flower species)\n"
     ]
    }
   ],
   "source": [
    "# Pick a manual seed for reproducibility\n",
    "torch.manual_seed(41)\n",
    "# Create an instance of the model\n",
    "model = Model()\n",
    "# Print the model architecture\n",
    "print(model)\n",
    "# Print the model summary\n",
    "print(\"Model Summary:\")\n",
    "print(\"Input Layer: 4 features\")\n",
    "print(\"Hidden Layer 1: 8 neurons\")\n",
    "print(\"Hidden Layer 2: 4 neurons\")\n",
    "print(\"Output Layer: 3 classes (iris flower species)\")"
   ]
  },
  {
   "cell_type": "markdown",
   "id": "2baea779",
   "metadata": {},
   "source": [
    "We can test on the Iris dataset"
   ]
  },
  {
   "cell_type": "code",
   "execution_count": 4,
   "id": "54fa0fc0",
   "metadata": {},
   "outputs": [
    {
     "data": {
      "text/plain": [
       "((150, 4), (150,))"
      ]
     },
     "execution_count": 4,
     "metadata": {},
     "output_type": "execute_result"
    }
   ],
   "source": [
    "url = 'https://gist.githubusercontent.com/curran/a08a1080b88344b0c8a7/raw/0e7a9b0a5d22642a06d3d5b9bcbad9890c8ee534/iris.csv'\n",
    "my_df = pd.read_csv(url)\n",
    "my_df['species']= my_df['species'].map({'setosa': 0.0, 'versicolor': 1.0, 'virginica': 2.0})\n",
    "X = my_df.drop('species', axis=1).values\n",
    "y = my_df['species'].values\n",
    "X.shape, y.shape"
   ]
  },
  {
   "cell_type": "markdown",
   "id": "2360761d",
   "metadata": {},
   "source": [
    "Next, we split the dataset into testing and training, and we convert it into PyTorch tensors.\n",
    "\n",
    "- A tensor is nothing but a multidimensional array (a vector being a one dimensional array, and a matrix a two dimensional one)"
   ]
  },
  {
   "cell_type": "code",
   "execution_count": 14,
   "id": "498d6d25",
   "metadata": {},
   "outputs": [],
   "source": [
    "# Splitting the dataset into training and testing sets\n",
    "X_train, X_test, y_train, y_test = train_test_split(X, y, test_size=0.2, random_state=42)\n",
    "X_train.shape, X_test.shape, y_train.shape, y_test.shape\n",
    "# In PyTorch, we need to convert the data into PyTorch tensors.\n",
    "X_train = torch.FloatTensor(X_train)\n",
    "X_test = torch.FloatTensor(X_test)\n",
    "y_train = torch.LongTensor(y_train)\n",
    "y_test = torch.LongTensor(y_test)\n",
    "criterion = nn.CrossEntropyLoss() # Loss function for multi-class classification"
   ]
  },
  {
   "cell_type": "code",
   "execution_count": 15,
   "id": "faa83989",
   "metadata": {},
   "outputs": [
    {
     "name": "stdout",
     "output_type": "stream",
     "text": [
      "Epoch [100/1000], Loss: 0.06736546009778976, Test Loss: 0.05579119548201561\n",
      "Epoch [200/1000], Loss: 0.06707848608493805, Test Loss: 0.05535120517015457\n",
      "Epoch [300/1000], Loss: 0.06681334972381592, Test Loss: 0.05479284003376961\n",
      "Epoch [400/1000], Loss: 0.066587433218956, Test Loss: 0.05418817698955536\n",
      "Epoch [500/1000], Loss: 0.06633898615837097, Test Loss: 0.05353178083896637\n",
      "Epoch [600/1000], Loss: 0.06609421223402023, Test Loss: 0.05283326655626297\n",
      "Epoch [700/1000], Loss: 0.06585775315761566, Test Loss: 0.05211428180336952\n",
      "Epoch [800/1000], Loss: 0.06562957167625427, Test Loss: 0.05141037702560425\n",
      "Epoch [900/1000], Loss: 0.06537527590990067, Test Loss: 0.05066568776965141\n",
      "Epoch [1000/1000], Loss: 0.06513551622629166, Test Loss: 0.0499059297144413\n"
     ]
    }
   ],
   "source": [
    "optimizer = torch.optim.Adam(model.parameters(), lr=0.001) # Adam optimizer with learning rate of 0.01\n",
    "\n",
    "num_epochs = 1000 # Number of epochs for training\n",
    "losses = [] # List to store the loss values for each epoch\n",
    "test_losses = []\n",
    "# Training loop\n",
    "for epoch in range(num_epochs):\n",
    "    step_loss = []\n",
    "    model.train() # Set the model to training mode\n",
    "    for i, data in enumerate(X_train):\n",
    "        # backpropagation\n",
    "        optimizer.zero_grad() # Zero the gradients \n",
    "        y_pred = model(data)\n",
    "        loss = criterion(y_pred, y_train[i])\n",
    "        loss.backward() # Backward pass \n",
    "        optimizer.step() # Update the weights\n",
    "        step_loss.append(loss)\n",
    "        # print every 100 epochs\n",
    "    loss = sum(step_loss) / len(step_loss) # Average loss for the epoch\n",
    "    losses.append(loss.detach().numpy()) # Store the loss values\n",
    "\n",
    "    with torch.no_grad(): # No need to compute gradients for the test set\n",
    "        model.eval()\n",
    "        step_test_loss = []\n",
    "        for i, data in enumerate(X_test):\n",
    "            y_test_pred = model(data) # Forward pass on the test set\n",
    "            test_loss = criterion(y_test_pred, y_test[i]) # Compute the test loss\n",
    "            step_test_loss.append(test_loss)\n",
    "        test_loss = sum(step_test_loss) / len(step_test_loss)\n",
    "        test_losses.append(test_loss.detach().numpy())\n",
    "\n",
    "    # print every 100 epochs\n",
    "    if (epoch+1) % 100 == 0:\n",
    "        print(f'Epoch [{epoch+1}/{num_epochs}], Loss: {loss}, Test Loss: {test_loss}')\n",
    "    \n",
    "    "
   ]
  },
  {
   "cell_type": "code",
   "execution_count": 16,
   "id": "1baa7a79",
   "metadata": {},
   "outputs": [
    {
     "data": {
      "image/png": "[encoded data removed]",
      "text/plain": [
       "<Figure size 640x480 with 1 Axes>"
      ]
     },
     "metadata": {},
     "output_type": "display_data"
    }
   ],
   "source": [
    "plt.plot(losses, label='Loss')\n",
    "plt.plot(test_losses, label='Test Loss')\n",
    "plt.xlabel('Epochs')\n",
    "plt.ylabel('Loss')\n",
    "plt.title('Loss over Epochs')\n",
    "plt.legend()\n",
    "plt.show()"
   ]
  },
  {
   "cell_type": "markdown",
   "id": "62e934d9",
   "metadata": {},
   "source": [
    "- The result is not so good:\n",
    "    - We need to train for longer\n",
    "    - Also, we initialized weights uniformly\n",
    "\n",
    "- Next, we consider Xavier uniform initialization\n",
    "\n",
    "- To speed up training, we will use batch gradient descent\n",
    "    - This means that at each epoch we only go through one batch (with size set at 32 in this example)\n",
    "\n",
    "- For larger models, we can also use GPU\n",
    "    - This requires: ``` pip install torch torchvision torchaudio --index-url https://download.pytorch.org/whl/cu118```\n",
    "    - It also requires compatibility between GPU and cuda version, for instance for NVIDIA GeForce RTX 4070 the cuda version needed is 11.8 or higher, and Pytorch version 2.0 or higher\n",
    "    - Note that, since the model is so small, the advantage of using GPU is more than compensated by the need to send data back and forth to the right cpu/gpu formats\n",
    "    - So using GPU is actually slower here\n",
    "    - As a rule of thumb:\n",
    "        - Small Models: A simple feedforward network with 2-3 layers and <100 neurons per layer will not fully utilize the GPU.\n",
    "        - Medium Models: A CNN with 5-10 convolutional layers and 32-128 filters per layer can benefit from GPU acceleration.\n",
    "        - Large Models: Transformers, ResNet, or other deep architectures with millions of parameters are ideal for GPUs.\n",
    "    - In any case, the code below can be used for GPU as well for your reference"
   ]
  },
  {
   "cell_type": "code",
   "execution_count": 18,
   "id": "5df685b2",
   "metadata": {},
   "outputs": [
    {
     "name": "stdout",
     "output_type": "stream",
     "text": [
      "True\n",
      "1\n",
      "NVIDIA GeForce RTX 4070 Laptop GPU\n",
      "2.7.0+cu118\n"
     ]
    }
   ],
   "source": [
    "# Check if GPU is available and set the device\n",
    "print(torch.cuda.is_available())\n",
    "print(torch.cuda.device_count())\n",
    "print(torch.cuda.get_device_name(0) if torch.cuda.is_available() else \"No GPU found\")\n",
    "print(torch.__version__)\n"
   ]
  },
  {
   "cell_type": "code",
   "execution_count": 8,
   "id": "6ce3ae41",
   "metadata": {},
   "outputs": [],
   "source": [
    "class ModelX(nn.Module):\n",
    "    ## input layer (4 dimensions) -> hidden layer 1 (128 dimensions) -> hidden layer 2 (64 dimensions) -> output layer (3 classes of iris flower species)\n",
    "    ## The model is a simple feedforward neural network with two hidden layers.\n",
    "    ## The first hidden layer has 128 neurons and the second hidden layer has 64 neurons.\n",
    "    ## The activation function used is ReLU (Rectified Linear Unit).\n",
    "    ## The output layer has 1 neuron, which is suitable for regression tasks.\n",
    "    def __init__(self, in_features = 4, h1 = 8, h2 = 4, out_features = 3):\n",
    "        super(ModelX, self).__init__()\n",
    "        self.fc1 = nn.Linear(in_features, h1)\n",
    "        self.fc2 = nn.Linear(h1, h2)\n",
    "        self.out = nn.Linear(h2, out_features)\n",
    "        self._init_weights()\n",
    "        # Initialize weights using Xavier uniform distribution\n",
    "\n",
    "    def _init_weights(self):\n",
    "        for m in self.modules():\n",
    "            if isinstance(m, nn.Linear):\n",
    "                torch.nn.init.xavier_uniform_(m.weight)\n",
    "\n",
    "    def forward(self, x):\n",
    "        x = F.relu(self.fc1(x))\n",
    "        x = F.relu(self.fc2(x))\n",
    "        x = self.out(x)\n",
    "        return x"
   ]
  },
  {
   "cell_type": "code",
   "execution_count": 19,
   "id": "4fb76fb9",
   "metadata": {},
   "outputs": [
    {
     "name": "stdout",
     "output_type": "stream",
     "text": [
      "Using device: cpu\n"
     ]
    }
   ],
   "source": [
    "device = torch.device(\"cuda\" if torch.cuda.is_available() else \"cpu\")\n",
    "device = \"cpu\"\n",
    "print(f\"Using device: {device}\")\n",
    "\n",
    "# Pick a manual seed for reproducibility\n",
    "torch.manual_seed# Create an instance of the model\n",
    "modelX = ModelX().to(device)\n",
    "optimizer = torch.optim.Adam(modelX.parameters(), lr=0.001)"
   ]
  },
  {
   "cell_type": "code",
   "execution_count": 20,
   "id": "6b02fce9",
   "metadata": {},
   "outputs": [
    {
     "name": "stdout",
     "output_type": "stream",
     "text": [
      "Epoch [1000/10000], Loss: 0.23762255907058716, Test Loss: 0.23034386336803436\n",
      "Epoch [2000/10000], Loss: 0.10529082268476486, Test Loss: 0.10451038926839828\n",
      "Epoch [3000/10000], Loss: 0.07338607311248779, Test Loss: 0.07273206859827042\n",
      "Epoch [4000/10000], Loss: 0.058910589665174484, Test Loss: 0.060312263667583466\n",
      "Epoch [5000/10000], Loss: 0.05841144919395447, Test Loss: 0.053549692034721375\n",
      "Epoch [6000/10000], Loss: 0.054242756217718124, Test Loss: 0.04869992658495903\n",
      "Epoch [7000/10000], Loss: 0.055115699768066406, Test Loss: 0.0447271429002285\n",
      "Epoch [8000/10000], Loss: 0.05152827501296997, Test Loss: 0.04146949574351311\n",
      "Epoch [9000/10000], Loss: 0.04939286410808563, Test Loss: 0.03879891708493233\n",
      "Epoch [10000/10000], Loss: 0.049463097006082535, Test Loss: 0.03648466616868973\n"
     ]
    }
   ],
   "source": [
    "# Move the data to the GPU\n",
    "X_train = X_train.to(device)\n",
    "X_test = X_test.to(device)\n",
    "y_train = y_train.to(device)\n",
    "y_test = y_test.to(device)\n",
    "\n",
    "# To make full use of the GPU, we will need to do batch gradient descent\n",
    "# will use DataLoader to create batches of data.\n",
    "\n",
    "train_dataset = TensorDataset(X_train, y_train) # Create a TensorDataset from the training data\n",
    "train_loader = DataLoader(train_dataset, batch_size=32, shuffle=True) # Create a DataLoader for the training data\n",
    "test_dataset = TensorDataset(X_test, y_test) # Create a TensorDataset from the test data\n",
    "test_loader = DataLoader(test_dataset, batch_size=32, shuffle=False) # Create a DataLoader for the test data\n",
    "\n",
    "\n",
    "# Training loop\n",
    "num_epochs = 10000  # Number of epochs for training\n",
    "losses = []  # List to store the loss values for each epoch\n",
    "test_losses = []\n",
    "\n",
    "for epoch in range(num_epochs):\n",
    "    step_loss = []\n",
    "    modelX.train()  # Set the model to training mode\n",
    "    for data, target in train_loader:\n",
    "        # Backpropagation\n",
    "        optimizer.zero_grad()  # Zero the gradients\n",
    "        y_pred = modelX(data)\n",
    "        loss = criterion(y_pred, target)\n",
    "        loss.backward()  # Backward pass\n",
    "        optimizer.step()  # Update the weights\n",
    "        step_loss.append(loss)\n",
    "\n",
    "    # Average loss for the epoch\n",
    "    loss = sum(step_loss) / len(step_loss)\n",
    "    losses.append(loss.detach().cpu().numpy())  # Store the loss values (move to CPU for storage)\n",
    "\n",
    "    # Evaluate on the test set\n",
    "    with torch.no_grad():  # No need to compute gradients for the test set\n",
    "        modelX.eval()\n",
    "        step_test_loss = []\n",
    "        for data, target in test_loader:\n",
    "            y_test_pred = modelX(data)  # Forward pass on the test set\n",
    "            test_loss = criterion(y_test_pred, target)  # Compute the test loss\n",
    "            step_test_loss.append(test_loss)\n",
    "        test_loss = sum(step_test_loss) / len(step_test_loss)\n",
    "        test_losses.append(test_loss.detach().cpu().numpy())  # Move to CPU for storage\n",
    "\n",
    "    # Print every 1000 epochs\n",
    "    if (epoch + 1) % 1000 == 0:\n",
    "        print(f\"Epoch [{epoch + 1}/{num_epochs}], Loss: {loss}, Test Loss: {test_loss}\")"
   ]
  },
  {
   "cell_type": "markdown",
   "id": "0702866c",
   "metadata": {},
   "source": [
    "- Training with batch gradient descent is 10x faster"
   ]
  },
  {
   "cell_type": "code",
   "execution_count": 21,
   "id": "50db5edd",
   "metadata": {},
   "outputs": [
    {
     "data": {
      "image/png": "[encoded data removed]",
      "text/plain": [
       "<Figure size 640x480 with 1 Axes>"
      ]
     },
     "metadata": {},
     "output_type": "display_data"
    }
   ],
   "source": [
    "# Plotting the loss values\n",
    "plt.plot(losses, label='Loss')\n",
    "plt.plot(test_losses, label='Test Loss')\n",
    "plt.xlabel('Epochs')\n",
    "plt.ylabel('Loss')\n",
    "plt.title('Loss over Epochs')\n",
    "plt.legend()\n",
    "plt.show()"
   ]
  },
  {
   "cell_type": "markdown",
   "id": "9e45efb5",
   "metadata": {},
   "source": [
    "# 2. Self-attention mechanism\n",
    "\n",
    "The self-attention mechanism is a foundational concept in modern deep learning architectures, particularly in models like Transformers. It allows a model to dynamically focus on different parts of the input sequence when making predictions, enabling it to capture both local and global dependencies effectively.\n",
    "\n",
    "## 2.1 Key Components of Self-Attention\n",
    "\n",
    "### 2.1.1 Self-attention mechanism\n",
    "- Suppose the input sequence consists of $n$ elements, each represented as a vector of dimension $d$. The input can be written as: \n",
    "$$\n",
    "X = [x_1, x_2, \\dots, x_n] \\in \\mathbb{R}^{n \\times d}\n",
    "$$\n",
    "\n",
    "- For each input vector $x_i$, the self-attention mechanism computes three vectors:\n",
    "    - Query $Q_i$: Represents the element for which attention is being calculated.\n",
    "    - Key $K_i$: Represents the elements being compared to the query.\n",
    "    - Value $V_i$: Represents the information to be aggregated based on the attention scores.\n",
    "\n",
    "- These vectors are computed using learned weight matrices: $Q = XW_Q, \\quad K = XW_K, \\quad V = XW_V$, where   \n",
    "    - $W_Q, W_K, W_V \\in \\mathbb{R}^{d \\times d_k}$ are the weight matrices,\n",
    "    - $d_k$ is the dimensionality of the query, key, and value vectors.\n",
    "\n",
    "- The attention score between two elements $x_i$ and $x_j$ is computed as the scaled dot product of their query and key vectors: \n",
    "$$\n",
    "\\text{Score}(x_i, x_j) = \\frac{Q_i \\cdot K_j^\\top}{\\sqrt{d_k}}\n",
    "$$\n",
    "\n",
    "- The scaling factor $\\sqrt{d_k}$ prevents the dot product from growing too large, which could lead to vanishing gradients during raining.\n",
    "\n",
    "- The attention scores are passed through a softmax function to compute the attention weights, ensuring they sum to 1: \n",
    "$$\n",
    "\\alpha_{ij} = \\text{softmax}\\left(\\frac{Q_i \\cdot K_j^\\top}{\\sqrt{d_k}}\\right) = \\frac{\\exp\\left(\\frac{Q_i \\cdot K_j^\\top}{\\sqrt{d_k}}\\right)}{\\sum_{j=1}^n \\exp\\left(\\frac{Q_i \\cdot K_j^\\top}{\\sqrt{d_k}}\\right)}$$\n",
    "\n",
    "- The output for each element $x_i$ is computed as a weighted sum of the value vectors, where the weights are the attention scores: \n",
    "$$\n",
    "\\text{Output}_i = \\sum_{j=1}^n \\alpha_{ij} V_j\n",
    "$$\n",
    "\n",
    "- This operation is performed for all elements in the sequence, resulting in the final output matrix: \n",
    "$$\n",
    "\\text{Attention}(Q, K, V) = \\text{softmax}\\left(\\frac{QK^\\top}{\\sqrt{d_k}}\\right)V\n",
    "$$\n",
    "\n",
    "### 2.1.2 Multi-Head Attention\n",
    "\n",
    "- To enhance the model's ability to focus on different parts of the sequence simultaneously, the self-attention mechanism is extended to multi-head attention:\n",
    "\n",
    "- The input is projected into multiple sets of $(Q, K, V)$ vectors (one for each attention head).\n",
    "\n",
    "- Each head computes its own attention output independently.\n",
    "\n",
    "- The outputs of all heads are concatenated and projected back into the original space:\n",
    "$$\n",
    "\\text{MultiHead}(Q, K, V) = \\text{Concat}(\\text{head}_1, \\text{head}_2, \\dots, \\text{head}_h)W_O\n",
    "$$\n",
    "\n",
    "- In the above equation, $W_O \\in \\mathbb{R}^{hd_k \\times d}$ is the output projection matrix, and $h$ is the number of attention heads.\n",
    "\n",
    "### 2.1.3 Masking in Time Series Self-Attention\n",
    "\n",
    "- The self-attention mechanism computes attention scores for all pairs of time steps in the input sequence.\n",
    "\n",
    "- In time series modeling, it is crucial to ensure that predictions for a given time step are not influenced by future time steps. This is because future data points are not available during prediction.\n",
    "\n",
    "- To address this, masking is applied in the self-attention mechanism.\n",
    "\n",
    "- Without masking, the model could \"cheat\" by using information from future time steps to predict the current time step, which violates the causality constraint in time series forecasting.\n",
    "\n",
    "- A mask is a matrix that specifies which elements in the attention computation should be ignored.\n",
    "\n",
    "- For a sequence of length $n$, the mask is typically a lower triangular matrix: \n",
    "$$\n",
    "\\text{Mask} = \\begin{bmatrix} 1 & 0 & 0 & \\cdots & 0 \\\\ 1 & 1 & 0 & \\cdots & 0 \\\\ 1 & 1 & 1 & \\cdots & 0 \\\\ \\vdots & \\vdots & \\vdots & \\ddots & \\vdots \\\\ 1 & 1 & 1 & \\cdots & 1 \\end{bmatrix}\n",
    "$$\n",
    "\n",
    "- Here, a value of 1 indicates that the corresponding element can be attended to, while 0 indicates that it should be ignored.\n",
    "\n",
    "- During the computation of attention scores, the mask is applied to the scaled dot product $QK^\\top$ before the softmax operation.\n",
    "\n",
    "- Specifically, masked positions are set to a very large negative value (e.g., $-\\infty$) so that their softmax output becomes effectively zero: \n",
    "$$\n",
    "\\text{Masked Scores} = \\begin{cases} \\frac{QK^\\top}{\\sqrt{d_k}}, & \\text{if allowed by the mask} \\\\ -\\infty, & \\text{if masked} \\end{cases}\n",
    "$$\n",
    "\n",
    "- This ensures that the model only attends to past and current time steps.\n",
    "\n",
    "- After applying the mask, the softmax function is computed as usual: \n",
    "$$\n",
    "\\alpha_{ij} = \\frac{\\exp(\\text{Masked Scores}_{ij})}{\\sum_{j=1}^n \\exp(\\text{Masked Scores}_{ij})}\n",
    "$$\n",
    "\n",
    "- Masked positions contribute nothing to the final attention weights.\n"
   ]
  },
  {
   "cell_type": "markdown",
   "id": "0dcc2ef5",
   "metadata": {},
   "source": [
    "### 2.1.4 Creating sparse attention layers\n",
    "\n",
    "- In financial times series, masks are also used to create a sparse attention layer, which accelerates computation and improve the focus of the attention layer\n",
    "\n",
    "- For instance, we could decide to focus only one the last two days of data to predict the next one\n",
    "\n",
    "- This means that, with, say $n=16$, the mask becomes\n",
    "$$\n",
    "\\text{Mask} = \n",
    "\\begin{bmatrix} 1 & 0 & 0 & 0 & 0 & 0 & 0 & 0 & 0 & 0 & 0 & 0 & 0 & 0 & 0 & 0 \\\\\n",
    "                1 & 1 & 0 & 0 & 0 & 0 & 0 & 0 & 0 & 0 & 0 & 0 & 0 & 0 & 0 & 0 \\\\\n",
    "                0 & 1 & 1 & 0 & 0 & 0 & 0 & 0 & 0 & 0 & 0 & 0 & 0 & 0 & 0 & 0 \\\\\n",
    "                0 & 0 & 1 & 1 & 0 & 0 & 0 & 0 & 0 & 0 & 0 & 0 & 0 & 0 & 0 & 0 \\\\\n",
    "                0 & 0 & 0 & 1 & 1 & 0 & 0 & 0 & 0 & 0 & 0 & 0 & 0 & 0 & 0 & 0 \\\\\n",
    "                0 & 0 & 0 & 0 & 1 & 1 & 0 & 0 & 0 & 0 & 0 & 0 & 0 & 0 & 0 & 0 \\\\\n",
    "                0 & 0 & 0 & 0 & 0 & 1 & 1 & 0 & 0 & 0 & 0 & 0 & 0 & 0 & 0 & 0 \\\\\n",
    "                0 & 0 & 0 & 0 & 0 & 0 & 1 & 1 & 0 & 0 & 0 & 0 & 0 & 0 & 0 & 0 \\\\\n",
    "                0 & 0 & 0 & 0 & 0 & 0 & 0 & 1 & 1 & 0 & 0 & 0 & 0 & 0 & 0 & 0 \\\\\n",
    "                0 & 0 & 0 & 0 & 0 & 0 & 0 & 0 & 1 & 1 & 0 & 0 & 0 & 0 & 0 & 0 \\\\\n",
    "                0 & 0 & 0 & 0 & 0 & 0 & 0 & 0 & 0 & 1 & 1 & 0 & 0 & 0 & 0 & 0 \\\\\n",
    "                0 & 0 & 0 & 0 & 0 & 0 & 0 & 0 & 0 & 0 & 1 & 1 & 0 & 0 & 0 & 0 \\\\\n",
    "                0 & 0 & 0 & 0 & 0 & 0 & 0 & 0 & 0 & 0 & 0 & 1 & 1 & 0 & 0 & 0 \\\\\n",
    "                0 & 0 & 0 & 0 & 0 & 0 & 0 & 0 & 0 & 0 & 0 & 0 & 1 & 1 & 0 & 0 \\\\\n",
    "                0 & 0 & 0 & 0 & 0 & 0 & 0 & 0 & 0 & 0 & 0 & 0 & 0 & 1 & 1 & 0 \\\\\n",
    "                0 & 0 & 0 & 0 & 0 & 0 & 0 & 0 & 0 & 0 & 0 & 0 & 0 & 0 & 1 & 1 \\\\\n",
    "                \\end{bmatrix}\n",
    "$$\n",
    "\n",
    "- Even more sparse masks can be used to accelerate computation time, such as\n",
    "$$\n",
    "\\text{Mask} = \n",
    "\\begin{bmatrix} 1 & 0 & 0 & 0 & 0 & 0 & 0 & 0 & 0 & 0 & 0 & 0 & 0 & 0 & 0 & 0 \\\\\n",
    "                1 & 1 & 0 & 0 & 0 & 0 & 0 & 0 & 0 & 0 & 0 & 0 & 0 & 0 & 0 & 0 \\\\\n",
    "                0 & 0 & 1 & 0 & 0 & 0 & 0 & 0 & 0 & 0 & 0 & 0 & 0 & 0 & 0 & 0 \\\\\n",
    "                0 & 0 & 1 & 1 & 0 & 0 & 0 & 0 & 0 & 0 & 0 & 0 & 0 & 0 & 0 & 0 \\\\\n",
    "                0 & 0 & 0 & 0 & 1 & 0 & 0 & 0 & 0 & 0 & 0 & 0 & 0 & 0 & 0 & 0 \\\\\n",
    "                0 & 0 & 0 & 0 & 1 & 1 & 0 & 0 & 0 & 0 & 0 & 0 & 0 & 0 & 0 & 0 \\\\\n",
    "                0 & 0 & 0 & 0 & 0 & 0 & 1 & 0 & 0 & 0 & 0 & 0 & 0 & 0 & 0 & 0 \\\\\n",
    "                0 & 0 & 0 & 0 & 0 & 0 & 1 & 1 & 0 & 0 & 0 & 0 & 0 & 0 & 0 & 0 \\\\\n",
    "                0 & 0 & 0 & 0 & 0 & 0 & 0 & 0 & 1 & 0 & 0 & 0 & 0 & 0 & 0 & 0 \\\\\n",
    "                0 & 0 & 0 & 0 & 0 & 0 & 0 & 0 & 1 & 1 & 0 & 0 & 0 & 0 & 0 & 0 \\\\\n",
    "                0 & 0 & 0 & 0 & 0 & 0 & 0 & 0 & 0 & 0 & 1 & 0 & 0 & 0 & 0 & 0 \\\\\n",
    "                0 & 0 & 0 & 0 & 0 & 0 & 0 & 0 & 0 & 0 & 1 & 1 & 0 & 0 & 0 & 0 \\\\\n",
    "                0 & 0 & 0 & 0 & 0 & 0 & 0 & 0 & 0 & 0 & 0 & 0 & 1 & 0 & 0 & 0 \\\\\n",
    "                0 & 0 & 0 & 0 & 0 & 0 & 0 & 0 & 0 & 0 & 0 & 0 & 1 & 1 & 0 & 0 \\\\\n",
    "                0 & 0 & 0 & 0 & 0 & 0 & 0 & 0 & 0 & 0 & 0 & 0 & 0 & 0 & 1 & 0 \\\\\n",
    "                0 & 0 & 0 & 0 & 0 & 0 & 0 & 0 & 0 & 0 & 0 & 0 & 0 & 0 & 1 & 1 \\\\\n",
    "                \\end{bmatrix}\n",
    "$$"
   ]
  },
  {
   "cell_type": "markdown",
   "id": "04ccb736",
   "metadata": {},
   "source": [
    "# 3 Fitting a self-attention architecture \n",
    "\n",
    "- Let us look at an example on how we can define and train a neural net to make forecasts based on a time series\n",
    "\n",
    "- We will consider the \"Daily Minimum Temperatures in Melbourne\" dataset, which is composed of 10 years of daily observations of temperaturs in Melbourn\n",
    "    - Note that, to justify the use of selfattention mechanism and avoid overfitting we need a meaningful dataset to fit"
   ]
  },
  {
   "cell_type": "code",
   "execution_count": 1,
   "id": "d724b78a",
   "metadata": {},
   "outputs": [
    {
     "name": "stdout",
     "output_type": "stream",
     "text": [
      "   Temp\n",
      "0  20.7\n",
      "1  17.9\n",
      "2  18.8\n",
      "3  14.6\n",
      "4  15.8\n",
      "(3650, 1)\n"
     ]
    }
   ],
   "source": [
    "import torch\n",
    "import torch.nn as nn\n",
    "import torch.nn.functional as F\n",
    "from sklearn.model_selection import train_test_split\n",
    "import matplotlib.pyplot as plt\n",
    "%matplotlib inline\n",
    "import numpy as np\n",
    "import pandas as pd\n",
    "from torch.utils.data import DataLoader, Dataset, TensorDataset # will be used later for batching\n",
    "\n",
    "# Load the Dataset\n",
    "url = \"https://raw.githubusercontent.com/jbrownlee/Datasets/master/daily-min-temperatures.csv\"\n",
    "data = pd.read_csv(url, usecols=[1], header=0)\n",
    "print(data.head())\n",
    "data = data.values.astype(float)\n",
    "print(data.shape)\n"
   ]
  },
  {
   "cell_type": "markdown",
   "id": "f38bdaed",
   "metadata": {},
   "source": [
    "- Next, we process the data as usual\n",
    "\n",
    "- Note that in PyTorch we can use the torch.utils.data.Dataset class\n",
    "\n",
    "- It is used to define custom datasets for training and testing machine learning models\n",
    "\n",
    "- By subclassing Dataset, you can create your own dataset class to handle data loading, preprocessing, and augmentation\n",
    "\n",
    "- Some of its Key features are as follows:\n",
    "    - You can define how data is loaded and processed by overriding the __len__ and __getitem__ methods. \n",
    "    - A Dataset object can be passed to a DataLoader, which handles batching, shuffling, and parallel data loading.\n",
    "    - It allows you to work with data in various formats, such as images, text, or time series, by implementing custom logic in the dataset class.\n",
    "\n",
    "- To implement a subclass of Dataset, you need to implement ```__len__``` and ```__getitem__``` which, respectively, give the total number of samples in the dataset and retrieve a single data sample at a given index\n",
    "    - The ```__getitem__``` function is automatically called when one wants to access a certain datapoint (see e.g. the code below defining the train_dataset array)"
   ]
  },
  {
   "cell_type": "code",
   "execution_count": 2,
   "id": "864d407e",
   "metadata": {},
   "outputs": [],
   "source": [
    "# Normalize the data\n",
    "from sklearn.preprocessing import MinMaxScaler\n",
    "scaler = MinMaxScaler(feature_range=(0, 1))\n",
    "data = scaler.fit_transform(data)\n",
    "\n",
    "# Create a dataset for time series forecasting\n",
    "class TimeSeriesDataset(Dataset): \n",
    "    def __init__(self, data, seq_length, device=\"cpu\"): \n",
    "        self.data = torch.FloatTensor(data).to(device)\n",
    "        self.seq_length = seq_length\n",
    "        self.device = device\n",
    "\n",
    "    def __len__(self):\n",
    "        return len(self.data) - self.seq_length\n",
    "\n",
    "    def __getitem__(self, index):\n",
    "        # Perform slicing on the CPU and then move to the GPU\n",
    "        x = self.data[index:index + self.seq_length].cpu()\n",
    "        y = self.data[index + self.seq_length].cpu()\n",
    "        return x.to(self.device).squeeze(-1), y.to(self.device)\n",
    "\n",
    "seq_length = 12  # Use the last 12 months to predict the next month\n",
    "dataset = TimeSeriesDataset(data, seq_length)\n",
    "\n",
    "device = torch.device(\"cuda\" if torch.cuda.is_available() else \"cpu\")\n",
    "dataset = TimeSeriesDataset(data, seq_length, device=device)\n",
    "\n",
    "# Chronological split to preserve causality\n",
    "train_size = int(len(dataset) * 0.8)\n",
    "test_size = len(dataset) - train_size\n",
    "train_dataset = torch.utils.data.Subset(dataset, range(train_size))\n",
    "test_dataset = torch.utils.data.Subset(dataset, range(train_size, len(dataset)))\n",
    "\n",
    "# DataLoader generates batches of training data (note, shuffle=True, and causality is preserved based on how get_item is defined)\n",
    "train_loader = DataLoader(train_dataset, batch_size=64, shuffle=True) \n",
    "# It is also a good idea to construct batches for the test set so we are consistent with what we do in the training, but we do not need to shuffle the test set.\n",
    "test_loader = DataLoader(test_dataset, batch_size=64, shuffle=False)  # DataLoader for testing data\n"
   ]
  },
  {
   "cell_type": "markdown",
   "id": "daf8f2fa",
   "metadata": {},
   "source": [
    "- We next create the SelfAttention class, which implements a self-attention architecture with 1 head (unless otherwise specified)\n",
    "\n",
    "- This is easily achieved in PyTorch using the nn.MultiheadAttention module\n",
    "\n",
    "- A causal mask is also easily added using torch's triu function, which creates a tridiagonal matrix (note: Torch requires the masked position to be marked as True, rather than False)\n",
    "\n",
    "- We also modify this mask to specify the lookback period - e.g., one may want to only look back at, say, 30 days of previous data to predict the next one\n",
    "\n",
    "- Other masks can be created and implemented equally easily in Torch - this is an example of the flexibility of this library compared to Keras"
   ]
  },
  {
   "cell_type": "code",
   "execution_count": null,
   "id": "c66fb806",
   "metadata": {},
   "outputs": [],
   "source": [
    "class SelfAttention(nn.Module):\n",
    "    def __init__(self, input_dim, hidden_dim, output_dim, lookback_period=None,  dropout_rate=0.1):\n",
    "        super(SelfAttention, self).__init__()\n",
    "        self.fc1 = nn.Linear(input_dim, hidden_dim)  # Project input to hidden_dim\n",
    "        self.attention = nn.MultiheadAttention(embed_dim=hidden_dim, num_heads=1, batch_first=True)\n",
    "        self.fc2 = nn.Linear(hidden_dim, output_dim)  # Project back to output_dim\n",
    "        self.dropout = nn.Dropout(dropout_rate)  # Add dropout for regularization\n",
    "        self.lookback_period = lookback_period\n",
    "        self._init_weights()\n",
    "\n",
    "    def _init_weights(self, scale=2.0):\n",
    "        for m in self.modules():\n",
    "            if isinstance(m, nn.Linear):\n",
    "                # Initialize Linear layers with Xavier uniform distribution\n",
    "                torch.nn.init.xavier_uniform_(m.weight)\n",
    "                m.weight = torch.nn.Parameter(scale * m.weight.data)\n",
    "                if m.bias is not None:\n",
    "                    torch.nn.init.zeros_(m.bias)\n",
    "            elif isinstance(m, nn.MultiheadAttention):\n",
    "                # Initialize MultiheadAttention weights (Q, K, V, and output projection)\n",
    "                torch.nn.init.xavier_uniform_(m.in_proj_weight)\n",
    "                m.in_proj_weight = torch.nn.Parameter(scale * m.in_proj_weight.data)\n",
    "                torch.nn.init.xavier_uniform_(m.out_proj.weight)\n",
    "                m.out_proj.weight = torch.nn.Parameter(scale * m.out_proj.weight.data)\n",
    "                if m.in_proj_bias is not None:\n",
    "                    torch.nn.init.zeros_(m.in_proj_bias)\n",
    "                if m.out_proj.bias is not None:\n",
    "                    torch.nn.init.zeros_(m.out_proj.bias)\n",
    "\n",
    "\n",
    "    def forward(self, x):\n",
    "        # x shape: (batch_size, seq_length)\n",
    "        x = self.fc1(x)  # Linear layer\n",
    "        x = F.relu(x)  # Apply ReLU activation\n",
    "\n",
    "        # Reshape x to (batch_size, seq_length, hidden_dim) for MultiheadAttention\n",
    "        x = x.unsqueeze(1)  # Add a sequence dimension if missing\n",
    "        seq_length = x.size(1)\n",
    "\n",
    "        # Create a lookback mask\n",
    "        if self.lookback_period:\n",
    "            mask = torch.ones(seq_length, seq_length, device=x.device).triu(diagonal=1)\n",
    "            mask[:, :seq_length - self.lookback_period] = float('-inf')  # Restrict to lookback_period\n",
    "        else:\n",
    "            mask = torch.triu(torch.ones(seq_length, seq_length, device=x.device), diagonal=1).bool()\n",
    "\n",
    "        # Apply the mask in the attention layer\n",
    "        x, _ = self.attention(x, x, x, attn_mask=mask)\n",
    "\n",
    "        # Use the output of the last time step for prediction\n",
    "        x = x.squeeze(1)  # Remove the sequence dimension\n",
    "        x = self.fc2(x)  # Project to output_dim\n",
    "        return x"
   ]
  },
  {
   "cell_type": "markdown",
   "id": "0bd5e071",
   "metadata": {},
   "source": [
    "Next, we define an instance of the SelfAttention class, the minimization criterion and the optimizer"
   ]
  },
  {
   "cell_type": "code",
   "execution_count": 10,
   "id": "c60c7719",
   "metadata": {},
   "outputs": [],
   "source": [
    "# Model, Loss, and Optimizer\n",
    "input_dim = seq_length\n",
    "hidden_dim = 64\n",
    "output_dim = 1\n",
    "lookback_period = None  # Look back only the last 30 days\n",
    "model = SelfAttention(input_dim=seq_length, hidden_dim=64, output_dim=1, lookback_period=lookback_period).to(device)\n",
    "\n",
    "criterion = nn.MSELoss()\n",
    "optimizer = torch.optim.Adam(model.parameters(), lr=0.001)\n",
    "#scheduler = torch.optim.lr_scheduler.StepLR(optimizer, step_size=10, gamma=0.1)\n"
   ]
  },
  {
   "cell_type": "markdown",
   "id": "f9a11e23",
   "metadata": {},
   "source": [
    "The training loop is similar as before\n",
    "\n",
    "- Note that the train loss now goes up and down, can you explain why?"
   ]
  },
  {
   "cell_type": "code",
   "execution_count": 11,
   "id": "d1f87f35",
   "metadata": {},
   "outputs": [
    {
     "name": "stdout",
     "output_type": "stream",
     "text": [
      "Epoch 10/100, Train Loss: 0.0116, Test Loss: 0.0102\n",
      "Epoch 20/100, Train Loss: 0.0098, Test Loss: 0.0082\n",
      "Epoch 30/100, Train Loss: 0.0096, Test Loss: 0.0074\n",
      "Epoch 40/100, Train Loss: 0.0102, Test Loss: 0.0074\n",
      "Epoch 50/100, Train Loss: 0.0108, Test Loss: 0.0094\n",
      "Epoch 60/100, Train Loss: 0.0100, Test Loss: 0.0076\n",
      "Epoch 70/100, Train Loss: 0.0105, Test Loss: 0.0213\n",
      "Epoch 80/100, Train Loss: 0.0124, Test Loss: 0.0120\n",
      "Epoch 90/100, Train Loss: 0.0099, Test Loss: 0.0118\n",
      "Epoch 100/100, Train Loss: 0.0098, Test Loss: 0.0076\n"
     ]
    }
   ],
   "source": [
    "# Training Loop\n",
    "num_epochs = 100\n",
    "train_losses = []\n",
    "test_losses = []\n",
    "\n",
    "for epoch in range(num_epochs):\n",
    "    model.train()\n",
    "    train_loss = 0\n",
    "    for x, y in train_loader:\n",
    "        optimizer.zero_grad()\n",
    "        y_pred = model(x)\n",
    "        loss = criterion(y_pred, y)\n",
    "        loss.backward()\n",
    "        optimizer.step()\n",
    "        train_loss += loss.item()\n",
    "    train_losses.append(train_loss / len(train_loader))\n",
    "\n",
    "    model.eval()\n",
    "    test_loss = 0\n",
    "    with torch.no_grad():\n",
    "        for x, y in test_loader:\n",
    "            y_pred = model(x)\n",
    "            loss = criterion(y_pred, y)\n",
    "            test_loss += loss.item()\n",
    "    test_losses.append(test_loss / len(test_loader))\n",
    "\n",
    "    if (epoch + 1) % 10 == 0:\n",
    "        print(f\"Epoch {epoch+1}/{num_epochs}, Train Loss: {train_losses[-1]:.4f}, Test Loss: {test_losses[-1]:.4f}\")\n",
    "\n",
    "    #scheduler.step()"
   ]
  },
  {
   "cell_type": "markdown",
   "id": "bda1e166",
   "metadata": {},
   "source": [
    "This is because at each epoch the network sees a different batch, so the error will naturally fluctuate\n",
    "\n",
    "Plotting the losses reveals that most of what can be learned is in the first few epochs, and the learning curves stabilize by epoch 20"
   ]
  },
  {
   "cell_type": "code",
   "execution_count": 12,
   "id": "fc0f9be1",
   "metadata": {},
   "outputs": [
    {
     "data": {
      "image/png": "[encoded data removed]",
      "text/plain": [
       "<Figure size 640x480 with 1 Axes>"
      ]
     },
     "metadata": {},
     "output_type": "display_data"
    },
    {
     "name": "stdout",
     "output_type": "stream",
     "text": [
      "Forecasted value: 12.76\n"
     ]
    }
   ],
   "source": [
    "# Plot the Loss\n",
    "plt.plot(train_losses[2:], label=\"Train Loss\")\n",
    "plt.plot(test_losses[2:], label=\"Test Loss\")\n",
    "plt.xlabel(\"Epochs\")\n",
    "plt.ylabel(\"Loss\")\n",
    "plt.legend()\n",
    "plt.title(\"Loss Over Epochs\")\n",
    "plt.show()\n",
    "\n",
    "# Forecasting Example\n",
    "model.eval()\n",
    "with torch.no_grad():\n",
    "    # Ensure last_sequence has the correct shape (1, seq_length)\n",
    "    last_sequence = torch.FloatTensor(data[-seq_length:].flatten()).unsqueeze(0).to(device)\n",
    "    forecast = model(last_sequence)\n",
    "    forecast = scaler.inverse_transform(forecast.cpu().numpy())\n",
    "    print(f\"Forecasted value: {forecast[0][0]:.2f}\")"
   ]
  },
  {
   "cell_type": "markdown",
   "id": "ae699e32",
   "metadata": {},
   "source": [
    "However, this model performs better than a naive one, so something was learned"
   ]
  },
  {
   "cell_type": "code",
   "execution_count": 13,
   "id": "00f39bf4",
   "metadata": {},
   "outputs": [
    {
     "name": "stdout",
     "output_type": "stream",
     "text": [
      "Average Percentage Error (Model): 20.26%\n",
      "Average Percentage Error (Baseline): 21.26%\n"
     ]
    }
   ],
   "source": [
    "# Calculate percentage error for model and the naive baseline\n",
    "percentage_errors_model = []\n",
    "percentage_errors_baseline = []\n",
    "\n",
    "model.eval()\n",
    "with torch.no_grad():\n",
    "    for x, y in test_loader:\n",
    "        # Model prediction\n",
    "        y_pred = model(x)\n",
    "        y_pred = scaler.inverse_transform(y_pred.cpu().numpy())\n",
    "        y_actual = scaler.inverse_transform(y.cpu().numpy())\n",
    "        \n",
    "        # Baseline prediction (next day = today's temperature)\n",
    "        y_baseline = x[:, -1].cpu().numpy()  # Last value in the input sequence\n",
    "        y_baseline = scaler.inverse_transform(y_baseline.reshape(-1, 1))\n",
    "        \n",
    "        # Calculate percentage errors\n",
    "        error_model = abs((y_pred.flatten() - y_actual.flatten()) / y_actual.flatten()) * 100\n",
    "        error_baseline = abs((y_baseline.flatten() - y_actual.flatten()) / y_actual.flatten()) * 100\n",
    "        \n",
    "        percentage_errors_model.extend(error_model)\n",
    "        percentage_errors_baseline.extend(error_baseline)\n",
    "\n",
    "# Calculate average percentage errors\n",
    "average_error_model = sum(percentage_errors_model) / len(percentage_errors_model)\n",
    "average_error_baseline = sum(percentage_errors_baseline) / len(percentage_errors_baseline)\n",
    "\n",
    "# Print the average errors\n",
    "print(f\"Average Percentage Error (Model): {average_error_model:.2f}%\")\n",
    "print(f\"Average Percentage Error (Baseline): {average_error_baseline:.2f}%\")\n"
   ]
  }
 ],
 "metadata": {
  "kernelspec": {
   "display_name": "CFRM521",
   "language": "python",
   "name": "python3"
  },
  "language_info": {
   "codemirror_mode": {
    "name": "ipython",
    "version": 3
   },
   "file_extension": ".py",
   "mimetype": "text/x-python",
   "name": "python",
   "nbconvert_exporter": "python",
   "pygments_lexer": "ipython3",
   "version": "3.11.11"
  }
 },
 "nbformat": 4,
 "nbformat_minor": 5
}
