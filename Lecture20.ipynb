{
 "cells": [
  {
   "cell_type": "markdown",
   "id": "af8aa79c",
   "metadata": {},
   "source": [
    "# <center> CFRM521 Machine Learning in Finance\n",
    "## <center> Lecture 20\n",
    "### <center> Yoshihiro Shirai"
   ]
  },
  {
   "cell_type": "markdown",
   "id": "12a6e964",
   "metadata": {},
   "source": [
    "\n",
    "# Self-attention for time series modeling in Pytorch\n",
    "\n",
    "- In this lecture we are going to see how to implement a self attention network in PyTorch for time series modeling\n",
    "\n",
    "- We start with introducing Pytorch for simple feedforward neural networks\n",
    "\n",
    "- We then explain the self-attention mechanism, and apply its applications to time series analysis\n",
    "\n",
    "- Finally, we will look at an example on how to predict business cycles using self-attention and using GPU to optimize training time\n",
    "\n",
    "- There is no reference for this lecture, but a nice paper you may consult is [here](https://arxiv.org/pdf/2207.00493)\n"
   ]
  },
  {
   "cell_type": "markdown",
   "id": "558e7847",
   "metadata": {},
   "source": [
    "# 1. Introduction to PyTorch\n",
    "\n",
    "- We have so far used Keras for implementing neural networks\n",
    "\n",
    "- Keras and PyTorch are both popular deep learning frameworks, but they cater to different needs:\n",
    "\n",
    "    - Keras: A high-level API that runs on top of TensorFlow, designed for ease of use and rapid prototyping. It abstracts many complexities, making it beginner-friendly.\n",
    "\n",
    "    - PyTorch: A lower-level framework that offers more flexibility and control, widely used in research and production. It provides dynamic computation graphs, making debugging and experimentation easier.\n",
    "\n",
    "- If you prioritize simplicity and quick model development, Keras might be the better choice. If you need more customization and control, PyTorch is often preferred.\n",
    "\n",
    "- Let's start with importing all the needed library\n"
   ]
  },
  {
   "cell_type": "code",
   "execution_count": null,
   "id": "4aaa29a5",
   "metadata": {},
   "outputs": [],
   "source": [
    "import torch\n",
    "import torch.nn as nn\n",
    "import torch.nn.functional as F\n",
    "from sklearn.model_selection import train_test_split\n",
    "import matplotlib.pyplot as plt\n",
    "%matplotlib inline\n",
    "import numpy as np\n",
    "import pandas as pd\n",
    "from torch.utils.data import DataLoader, TensorDataset # will be used later for batching"
   ]
  },
  {
   "cell_type": "markdown",
   "id": "6e199860",
   "metadata": {},
   "source": [
    "- With PyTorch we need to move away from functional programming and pass to Object Oriented Programming\n",
    "\n",
    "- This means that we define a class Model, which inherits all the properties and methods of PyTorch nn.Module class\n",
    "\n",
    "- We then specify additional properties and methods for our Model class\n",
    "\n",
    "- Specifically, we need two new functions:\n",
    "    - The function __init__ is automatically called when an instance of the class Model is defined\n",
    "        - It takes as inputs the dimensions of the neural network we want to define, which, in this case, has two hidden layers and one output layer\n",
    "        - It then defines three properties of the Model class, which correspond to the three linear operations that need to be performed by the neural network\n",
    "    - The function forward takes as input the actual input to the neural network\n",
    "        - It then compute the first linear operation defined by Model.fc1, and applies to it the relu function (not that relu is a method of the torch.nn.functional class)\n",
    "        - Similarly, it computes the second layer and the final output"
   ]
  },
  {
   "cell_type": "code",
   "execution_count": 2,
   "id": "1cd3dd2d",
   "metadata": {},
   "outputs": [],
   "source": [
    "class Model(nn.Module):\n",
    "    ## input layer (4 dimensions) -> hidden layer 1 (128 dimensions) -> hidden layer 2 (64 dimensions) -> output layer (3 classes of iris flower species)\n",
    "    ## The model is a simple feedforward neural network with two hidden layers.\n",
    "    ## The first hidden layer has 128 neurons and the second hidden layer has 64 neurons.\n",
    "    ## The activation function used is ReLU (Rectified Linear Unit).\n",
    "    ## The output layer has 1 neuron, which is suitable for regression tasks.\n",
    "    def __init__(self, in_features = 4, h1 = 8, h2 = 4, out_features = 3):\n",
    "        super(Model, self).__init__()\n",
    "        self.fc1 = nn.Linear(in_features, h1)\n",
    "        self.fc2 = nn.Linear(h1, h2)\n",
    "        self.out = nn.Linear(h2, out_features)\n",
    "\n",
    "    def forward(self, x):\n",
    "        x = F.relu(self.fc1(x))\n",
    "        x = F.relu(self.fc2(x))\n",
    "        x = self.out(x)\n",
    "        return x"
   ]
  },
  {
   "cell_type": "markdown",
   "id": "2190735a",
   "metadata": {},
   "source": [
    "- Next, let's see am example of how to use the model."
   ]
  },
  {
   "cell_type": "code",
   "execution_count": 3,
   "id": "4a6a7885",
   "metadata": {},
   "outputs": [
    {
     "name": "stdout",
     "output_type": "stream",
     "text": [
      "Model(\n",
      "  (fc1): Linear(in_features=4, out_features=8, bias=True)\n",
      "  (fc2): Linear(in_features=8, out_features=4, bias=True)\n",
      "  (out): Linear(in_features=4, out_features=3, bias=True)\n",
      ")\n",
      "Model Summary:\n",
      "Input Layer: 4 features\n",
      "Hidden Layer 1: 8 neurons\n",
      "Hidden Layer 2: 4 neurons\n",
      "Output Layer: 3 classes (iris flower species)\n"
     ]
    }
   ],
   "source": [
    "# Pick a manual seed for reproducibility\n",
    "torch.manual_seed(41)\n",
    "# Create an instance of the model\n",
    "model = Model()\n",
    "# Print the model architecture\n",
    "print(model)\n",
    "# Print the model summary\n",
    "print(\"Model Summary:\")\n",
    "print(\"Input Layer: 4 features\")\n",
    "print(\"Hidden Layer 1: 8 neurons\")\n",
    "print(\"Hidden Layer 2: 4 neurons\")\n",
    "print(\"Output Layer: 3 classes (iris flower species)\")"
   ]
  },
  {
   "cell_type": "markdown",
   "id": "2baea779",
   "metadata": {},
   "source": [
    "We can test on the Iris dataset"
   ]
  },
  {
   "cell_type": "code",
   "execution_count": 4,
   "id": "54fa0fc0",
   "metadata": {},
   "outputs": [
    {
     "data": {
      "text/plain": [
       "((150, 4), (150,))"
      ]
     },
     "execution_count": 4,
     "metadata": {},
     "output_type": "execute_result"
    }
   ],
   "source": [
    "url = 'https://gist.githubusercontent.com/curran/a08a1080b88344b0c8a7/raw/0e7a9b0a5d22642a06d3d5b9bcbad9890c8ee534/iris.csv'\n",
    "my_df = pd.read_csv(url)\n",
    "my_df['species']= my_df['species'].map({'setosa': 0.0, 'versicolor': 1.0, 'virginica': 2.0})\n",
    "X = my_df.drop('species', axis=1).values\n",
    "y = my_df['species'].values\n",
    "X.shape, y.shape"
   ]
  },
  {
   "cell_type": "markdown",
   "id": "2360761d",
   "metadata": {},
   "source": [
    "Next, we split the dataset into testing and training, and we convert it into PyTorch tensors.\n",
    "\n",
    "- A tensor is nothing but a multidimensional array (a vector being a one dimensional array, and a matrix a two dimensional one)"
   ]
  },
  {
   "cell_type": "code",
   "execution_count": 14,
   "id": "498d6d25",
   "metadata": {},
   "outputs": [],
   "source": [
    "# Splitting the dataset into training and testing sets\n",
    "X_train, X_test, y_train, y_test = train_test_split(X, y, test_size=0.2, random_state=42)\n",
    "X_train.shape, X_test.shape, y_train.shape, y_test.shape\n",
    "# In PyTorch, we need to convert the data into PyTorch tensors.\n",
    "X_train = torch.FloatTensor(X_train)\n",
    "X_test = torch.FloatTensor(X_test)\n",
    "y_train = torch.LongTensor(y_train)\n",
    "y_test = torch.LongTensor(y_test)\n",
    "criterion = nn.CrossEntropyLoss() # Loss function for multi-class classification"
   ]
  },
  {
   "cell_type": "code",
   "execution_count": 15,
   "id": "faa83989",
   "metadata": {},
   "outputs": [
    {
     "name": "stdout",
     "output_type": "stream",
     "text": [
      "Epoch [100/1000], Loss: 0.06736546009778976, Test Loss: 0.05579119548201561\n",
      "Epoch [200/1000], Loss: 0.06707848608493805, Test Loss: 0.05535120517015457\n",
      "Epoch [300/1000], Loss: 0.06681334972381592, Test Loss: 0.05479284003376961\n",
      "Epoch [400/1000], Loss: 0.066587433218956, Test Loss: 0.05418817698955536\n",
      "Epoch [500/1000], Loss: 0.06633898615837097, Test Loss: 0.05353178083896637\n",
      "Epoch [600/1000], Loss: 0.06609421223402023, Test Loss: 0.05283326655626297\n",
      "Epoch [700/1000], Loss: 0.06585775315761566, Test Loss: 0.05211428180336952\n",
      "Epoch [800/1000], Loss: 0.06562957167625427, Test Loss: 0.05141037702560425\n",
      "Epoch [900/1000], Loss: 0.06537527590990067, Test Loss: 0.05066568776965141\n",
      "Epoch [1000/1000], Loss: 0.06513551622629166, Test Loss: 0.0499059297144413\n"
     ]
    }
   ],
   "source": [
    "optimizer = torch.optim.Adam(model.parameters(), lr=0.001) # Adam optimizer with learning rate of 0.01\n",
    "\n",
    "num_epochs = 1000 # Number of epochs for training\n",
    "losses = [] # List to store the loss values for each epoch\n",
    "test_losses = []\n",
    "# Training loop\n",
    "for epoch in range(num_epochs):\n",
    "    step_loss = []\n",
    "    model.train() # Set the model to training mode\n",
    "    for i, data in enumerate(X_train):\n",
    "        # backpropagation\n",
    "        optimizer.zero_grad() # Zero the gradients \n",
    "        y_pred = model(data)\n",
    "        loss = criterion(y_pred, y_train[i])\n",
    "        loss.backward() # Backward pass \n",
    "        optimizer.step() # Update the weights\n",
    "        step_loss.append(loss)\n",
    "        # print every 100 epochs\n",
    "    loss = sum(step_loss) / len(step_loss) # Average loss for the epoch\n",
    "    losses.append(loss.detach().numpy()) # Store the loss values\n",
    "\n",
    "    with torch.no_grad(): # No need to compute gradients for the test set\n",
    "        model.eval()\n",
    "        step_test_loss = []\n",
    "        for i, data in enumerate(X_test):\n",
    "            y_test_pred = model(data) # Forward pass on the test set\n",
    "            test_loss = criterion(y_test_pred, y_test[i]) # Compute the test loss\n",
    "            step_test_loss.append(test_loss)\n",
    "        test_loss = sum(step_test_loss) / len(step_test_loss)\n",
    "        test_losses.append(test_loss.detach().numpy())\n",
    "\n",
    "    # print every 100 epochs\n",
    "    if (epoch+1) % 100 == 0:\n",
    "        print(f'Epoch [{epoch+1}/{num_epochs}], Loss: {loss}, Test Loss: {test_loss}')\n",
    "    \n",
    "    "
   ]
  },
  {
   "cell_type": "code",
   "execution_count": 16,
   "id": "1baa7a79",
   "metadata": {},
   "outputs": [
    {
     "data": {
      "image/png": "[encoded data removed]",
      "text/plain": [
       "<Figure size 640x480 with 1 Axes>"
      ]
     },
     "metadata": {},
     "output_type": "display_data"
    }
   ],
   "source": [
    "plt.plot(losses, label='Loss')\n",
    "plt.plot(test_losses, label='Test Loss')\n",
    "plt.xlabel('Epochs')\n",
    "plt.ylabel('Loss')\n",
    "plt.title('Loss over Epochs')\n",
    "plt.legend()\n",
    "plt.show()"
   ]
  },
  {
   "cell_type": "markdown",
   "id": "62e934d9",
   "metadata": {},
   "source": [
    "- The result is not so good:\n",
    "    - We need to train for longer\n",
    "    - Also, we initialized weights uniformly\n",
    "\n",
    "- Next, we consider Xavier uniform initialization\n",
    "\n",
    "- To speed up training, we will use batch gradient descent\n",
    "    - This means that at each epoch we only go through one batch (with size set at 32 in this example)\n",
    "\n",
    "- For larger models, we can also use GPU\n",
    "    - This requires: ``` pip install torch torchvision torchaudio --index-url https://download.pytorch.org/whl/cu118```\n",
    "    - It also requires compatibility between GPU and cuda version, for instance for NVIDIA GeForce RTX 4070 the cuda version needed is 11.8 or higher, and Pytorch version 2.0 or higher\n",
    "    - Note that, since the model is so small, the advantage of using GPU is more than compensated by the need to send data back and forth to the right cpu/gpu formats\n",
    "    - So using GPU is actually slower here\n",
    "    - However, the code below can be used for GPU as well for your reference"
   ]
  },
  {
   "cell_type": "code",
   "execution_count": 18,
   "id": "5df685b2",
   "metadata": {},
   "outputs": [
    {
     "name": "stdout",
     "output_type": "stream",
     "text": [
      "True\n",
      "1\n",
      "NVIDIA GeForce RTX 4070 Laptop GPU\n",
      "2.7.0+cu118\n"
     ]
    }
   ],
   "source": [
    "# Check if GPU is available and set the device\n",
    "print(torch.cuda.is_available())\n",
    "print(torch.cuda.device_count())\n",
    "print(torch.cuda.get_device_name(0) if torch.cuda.is_available() else \"No GPU found\")\n",
    "print(torch.__version__)\n"
   ]
  },
  {
   "cell_type": "code",
   "execution_count": 8,
   "id": "6ce3ae41",
   "metadata": {},
   "outputs": [],
   "source": [
    "class ModelX(nn.Module):\n",
    "    ## input layer (4 dimensions) -> hidden layer 1 (128 dimensions) -> hidden layer 2 (64 dimensions) -> output layer (3 classes of iris flower species)\n",
    "    ## The model is a simple feedforward neural network with two hidden layers.\n",
    "    ## The first hidden layer has 128 neurons and the second hidden layer has 64 neurons.\n",
    "    ## The activation function used is ReLU (Rectified Linear Unit).\n",
    "    ## The output layer has 1 neuron, which is suitable for regression tasks.\n",
    "    def __init__(self, in_features = 4, h1 = 8, h2 = 4, out_features = 3):\n",
    "        super(ModelX, self).__init__()\n",
    "        self.fc1 = nn.Linear(in_features, h1)\n",
    "        self.fc2 = nn.Linear(h1, h2)\n",
    "        self.out = nn.Linear(h2, out_features)\n",
    "        self._init_weights()\n",
    "        # Initialize weights using Xavier uniform distribution\n",
    "\n",
    "    def _init_weights(self):\n",
    "        for m in self.modules():\n",
    "            if isinstance(m, nn.Linear):\n",
    "                torch.nn.init.xavier_uniform_(m.weight)\n",
    "\n",
    "    def forward(self, x):\n",
    "        x = F.relu(self.fc1(x))\n",
    "        x = F.relu(self.fc2(x))\n",
    "        x = self.out(x)\n",
    "        return x"
   ]
  },
  {
   "cell_type": "code",
   "execution_count": 19,
   "id": "4fb76fb9",
   "metadata": {},
   "outputs": [
    {
     "name": "stdout",
     "output_type": "stream",
     "text": [
      "Using device: cpu\n"
     ]
    }
   ],
   "source": [
    "device = torch.device(\"cuda\" if torch.cuda.is_available() else \"cpu\")\n",
    "device = \"cpu\"\n",
    "print(f\"Using device: {device}\")\n",
    "\n",
    "# Pick a manual seed for reproducibility\n",
    "torch.manual_seed# Create an instance of the model\n",
    "modelX = ModelX().to(device)\n",
    "optimizer = torch.optim.Adam(modelX.parameters(), lr=0.001)"
   ]
  },
  {
   "cell_type": "code",
   "execution_count": 20,
   "id": "6b02fce9",
   "metadata": {},
   "outputs": [
    {
     "name": "stdout",
     "output_type": "stream",
     "text": [
      "Epoch [1000/10000], Loss: 0.23762255907058716, Test Loss: 0.23034386336803436\n",
      "Epoch [2000/10000], Loss: 0.10529082268476486, Test Loss: 0.10451038926839828\n",
      "Epoch [3000/10000], Loss: 0.07338607311248779, Test Loss: 0.07273206859827042\n",
      "Epoch [4000/10000], Loss: 0.058910589665174484, Test Loss: 0.060312263667583466\n",
      "Epoch [5000/10000], Loss: 0.05841144919395447, Test Loss: 0.053549692034721375\n",
      "Epoch [6000/10000], Loss: 0.054242756217718124, Test Loss: 0.04869992658495903\n",
      "Epoch [7000/10000], Loss: 0.055115699768066406, Test Loss: 0.0447271429002285\n",
      "Epoch [8000/10000], Loss: 0.05152827501296997, Test Loss: 0.04146949574351311\n",
      "Epoch [9000/10000], Loss: 0.04939286410808563, Test Loss: 0.03879891708493233\n",
      "Epoch [10000/10000], Loss: 0.049463097006082535, Test Loss: 0.03648466616868973\n"
     ]
    }
   ],
   "source": [
    "# Move the data to the GPU\n",
    "X_train = X_train.to(device)\n",
    "X_test = X_test.to(device)\n",
    "y_train = y_train.to(device)\n",
    "y_test = y_test.to(device)\n",
    "\n",
    "# To make full use of the GPU, we will need to do batch gradient descent\n",
    "# will use DataLoader to create batches of data.\n",
    "\n",
    "train_dataset = TensorDataset(X_train, y_train) # Create a TensorDataset from the training data\n",
    "train_loader = DataLoader(train_dataset, batch_size=32, shuffle=True) # Create a DataLoader for the training data\n",
    "test_dataset = TensorDataset(X_test, y_test) # Create a TensorDataset from the test data\n",
    "test_loader = DataLoader(test_dataset, batch_size=32, shuffle=False) # Create a DataLoader for the test data\n",
    "\n",
    "\n",
    "# Training loop\n",
    "num_epochs = 10000  # Number of epochs for training\n",
    "losses = []  # List to store the loss values for each epoch\n",
    "test_losses = []\n",
    "\n",
    "for epoch in range(num_epochs):\n",
    "    step_loss = []\n",
    "    modelX.train()  # Set the model to training mode\n",
    "    for data, target in train_loader:\n",
    "        # Backpropagation\n",
    "        optimizer.zero_grad()  # Zero the gradients\n",
    "        y_pred = modelX(data)\n",
    "        loss = criterion(y_pred, target)\n",
    "        loss.backward()  # Backward pass\n",
    "        optimizer.step()  # Update the weights\n",
    "        step_loss.append(loss)\n",
    "\n",
    "    # Average loss for the epoch\n",
    "    loss = sum(step_loss) / len(step_loss)\n",
    "    losses.append(loss.detach().cpu().numpy())  # Store the loss values (move to CPU for storage)\n",
    "\n",
    "    # Evaluate on the test set\n",
    "    with torch.no_grad():  # No need to compute gradients for the test set\n",
    "        modelX.eval()\n",
    "        step_test_loss = []\n",
    "        for data, target in test_loader:\n",
    "            y_test_pred = modelX(data)  # Forward pass on the test set\n",
    "            test_loss = criterion(y_test_pred, target)  # Compute the test loss\n",
    "            step_test_loss.append(test_loss)\n",
    "        test_loss = sum(step_test_loss) / len(step_test_loss)\n",
    "        test_losses.append(test_loss.detach().cpu().numpy())  # Move to CPU for storage\n",
    "\n",
    "    # Print every 1000 epochs\n",
    "    if (epoch + 1) % 1000 == 0:\n",
    "        print(f\"Epoch [{epoch + 1}/{num_epochs}], Loss: {loss}, Test Loss: {test_loss}\")"
   ]
  },
  {
   "cell_type": "markdown",
   "id": "0702866c",
   "metadata": {},
   "source": [
    "- Training with batch gradient descent is 10x faster"
   ]
  },
  {
   "cell_type": "code",
   "execution_count": 21,
   "id": "50db5edd",
   "metadata": {},
   "outputs": [
    {
     "data": {
      "image/png": "[encoded data removed]",
      "text/plain": [
       "<Figure size 640x480 with 1 Axes>"
      ]
     },
     "metadata": {},
     "output_type": "display_data"
    }
   ],
   "source": [
    "# Plotting the loss values\n",
    "plt.plot(losses, label='Loss')\n",
    "plt.plot(test_losses, label='Test Loss')\n",
    "plt.xlabel('Epochs')\n",
    "plt.ylabel('Loss')\n",
    "plt.title('Loss over Epochs')\n",
    "plt.legend()\n",
    "plt.show()"
   ]
  },
  {
   "cell_type": "markdown",
   "id": "9e45efb5",
   "metadata": {},
   "source": [
    "# 2. Self-attention mechanism"
   ]
  }
 ],
 "metadata": {
  "kernelspec": {
   "display_name": "CFRM521",
   "language": "python",
   "name": "python3"
  },
  "language_info": {
   "codemirror_mode": {
    "name": "ipython",
    "version": 3
   },
   "file_extension": ".py",
   "mimetype": "text/x-python",
   "name": "python",
   "nbconvert_exporter": "python",
   "pygments_lexer": "ipython3",
   "version": "3.11.11"
  }
 },
 "nbformat": 4,
 "nbformat_minor": 5
}
